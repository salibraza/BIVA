{
 "metadata": {
  "language_info": {
   "codemirror_mode": {
    "name": "ipython",
    "version": 3
   },
   "file_extension": ".py",
   "mimetype": "text/x-python",
   "name": "python",
   "nbconvert_exporter": "python",
   "pygments_lexer": "ipython3",
   "version": "3.8.2-final"
  },
  "orig_nbformat": 2,
  "kernelspec": {
   "name": "python3",
   "display_name": "Python 3",
   "language": "python"
  }
 },
 "nbformat": 4,
 "nbformat_minor": 2,
 "cells": [
  {
   "cell_type": "code",
   "execution_count": null,
   "metadata": {},
   "outputs": [],
   "source": [
    "MAKE A CONNECTION WITH DATABASE"
   ]
  },
  {
   "cell_type": "code",
   "execution_count": 283,
   "metadata": {},
   "outputs": [
    {
     "output_type": "stream",
     "name": "stdout",
     "text": [
      "Hello World\n"
     ]
    }
   ],
   "source": [
    "import mysql.connector\n",
    "import pandas as pd\n",
    "\n",
    "mydb = mysql.connector.connect(\n",
    "  host=\"localhost\",\n",
    "  user=\"root\",\n",
    "  password=\"\",\n",
    "  database=\"biva\"\n",
    ")\n",
    "mycursor = mydb.cursor()\n",
    "print (\"Hello World\")"
   ]
  },
  {
   "source": [
    "DATA EXPLORATION"
   ],
   "cell_type": "markdown",
   "metadata": {}
  },
  {
   "cell_type": "code",
   "execution_count": 27,
   "metadata": {},
   "outputs": [
    {
     "output_type": "stream",
     "name": "stdout",
     "text": [
      "           category  subcategory  products\n0         Furniture    Bookcases       583\n1         Furniture       Chairs       647\n2         Furniture  Furnishings       719\n3         Furniture       Tables       381\n4   Office Supplies   Appliances       587\n5   Office Supplies          Art       708\n6   Office Supplies      Binders       781\n7   Office Supplies    Envelopes       613\n8   Office Supplies    Fasteners       583\n9   Office Supplies       Labels       602\n10  Office Supplies        Paper       825\n11  Office Supplies      Storage       683\n12  Office Supplies     Supplies       573\n13       Technology  Accessories       700\n14       Technology      Copiers       537\n15       Technology     Machines       514\n16       Technology       Phones       732\n"
     ]
    }
   ],
   "source": [
    "#1\n",
    "mycursor.execute(\"select c.category, c.subcategory, count(product_id) as product_count from category_dim c inner join product_dim p on c.category_id = p.category_id group by c.category, c.subcategory;\")\n",
    "df = pd.DataFrame(mycursor.fetchall())\n",
    "df = df.rename(columns = {0:'category', 1:'subcategory', 2:'products'})\n",
    "print (df)"
   ]
  },
  {
   "cell_type": "code",
   "execution_count": 21,
   "metadata": {
    "tags": []
   },
   "outputs": [
    {
     "output_type": "stream",
     "name": "stdout",
     "text": [
      "                                        product    category subcategory  \\\n0                 Bush Classic Bookcase, Mobile   Furniture   Bookcases   \n1        Sauder Library with Doors, Traditional   Furniture   Bookcases   \n2                  Dania Corner Shelving, Metal   Furniture   Bookcases   \n3         Dania Floating Shelf Set, Traditional   Furniture   Bookcases   \n4                  Safco Classic Bookcase, Pine   Furniture   Bookcases   \n...                                         ...         ...         ...   \n10763             Samsung Smart Phone, Cordless  Technology      Phones   \n10764            Samsung Office Telephone, VoIP  Technology      Phones   \n10765       Samsung Smart Phone, with Caller ID  Technology      Phones   \n10766  Samsung Office Telephone, with Caller ID  Technology      Phones   \n10767            Samsung Smart Phone, Full Size  Technology      Phones   \n\n          price  \n0      415.2000  \n1      232.5780  \n2      121.5300  \n3      152.4150  \n4      219.7500  \n...         ...  \n10763  639.0000  \n10764   19.5930  \n10765  636.1500  \n10766   65.2200  \n10767  637.4400  \n\n[10768 rows x 4 columns]\n"
     ]
    }
   ],
   "source": [
    "#2\n",
    "mycursor.execute(\"select p.product_name, c.category, c.subcategory, p.unit_price from category_dim c inner join product_dim p on c.category_id = p.category_id;\")\n",
    "df = pd.DataFrame(mycursor.fetchall())\n",
    "df = df.rename(columns = {0:'product', 1:'category', 2:'subcategory', 3:'price'})\n",
    "print (df)"
   ]
  },
  {
   "source": [
    "PIE CHARTS"
   ],
   "cell_type": "markdown",
   "metadata": {}
  },
  {
   "cell_type": "code",
   "execution_count": 285,
   "metadata": {},
   "outputs": [],
   "source": [
    "from math import pi\n",
    "import pandas as pd\n",
    "import networkx as nx\n",
    "from bokeh.io import output_notebook, output_file, show\n",
    "from bokeh.palettes import Category20c, Spectral10, Spectral4\n",
    "from bokeh.plotting import figure, from_networkx\n",
    "from bokeh.transform import cumsum, factor_cmap\n",
    "from bokeh.transform import dodge\n",
    "from bokeh.models import ColumnDataSource\n",
    "from bokeh.models import (BoxSelectTool, Circle, EdgesAndLinkedNodes, HoverTool,\n",
    "                          MultiLine, NodesAndLinkedEdges, Plot, Range1d, TapTool,)\n",
    "output_file(\"plot.html\")"
   ]
  },
  {
   "cell_type": "code",
   "execution_count": 286,
   "metadata": {},
   "outputs": [
    {
     "output_type": "stream",
     "name": "stdout",
     "text": [
      "            region  count\n0           Africa     45\n1     Central Asia      6\n2          Oceania      3\n3   Southeast Asia      8\n4       North Asia      6\n5           Canada      1\n6             EMEA     40\n7          Central     12\n8            North      7\n9            South     14\n10       Caribbean      8\n11            West      1\n12            East      1\n"
     ]
    }
   ],
   "source": [
    "#5.\tPie chart to show all regions and measuring country instances in them\n",
    "mycursor.execute(\"select region, count(*) from (select distinct region, country from location_dim) a group by a.region;\")\n",
    "df = pd.DataFrame(mycursor.fetchall())\n",
    "df = df.rename(columns = {0:'region', 1:'count'})\n",
    "print (df)"
   ]
  },
  {
   "cell_type": "code",
   "execution_count": 287,
   "metadata": {},
   "outputs": [
    {
     "output_type": "execute_result",
     "data": {
      "text/plain": [
       "            region  count     angle    color\n",
       "0           Africa     45  1.860154  #3182bd\n",
       "1     Central Asia      6  0.248020  #6baed6\n",
       "2          Oceania      3  0.124010  #9ecae1\n",
       "3   Southeast Asia      8  0.330694  #c6dbef\n",
       "4       North Asia      6  0.248020  #e6550d\n",
       "5           Canada      1  0.041337  #fd8d3c\n",
       "6             EMEA     40  1.653470  #fdae6b\n",
       "7          Central     12  0.496041  #fdd0a2\n",
       "8            North      7  0.289357  #31a354\n",
       "9            South     14  0.578714  #74c476\n",
       "10       Caribbean      8  0.330694  #a1d99b\n",
       "11            West      1  0.041337  #c7e9c0\n",
       "12            East      1  0.041337  #756bb1"
      ],
      "text/html": "<div>\n<style scoped>\n    .dataframe tbody tr th:only-of-type {\n        vertical-align: middle;\n    }\n\n    .dataframe tbody tr th {\n        vertical-align: top;\n    }\n\n    .dataframe thead th {\n        text-align: right;\n    }\n</style>\n<table border=\"1\" class=\"dataframe\">\n  <thead>\n    <tr style=\"text-align: right;\">\n      <th></th>\n      <th>region</th>\n      <th>count</th>\n      <th>angle</th>\n      <th>color</th>\n    </tr>\n  </thead>\n  <tbody>\n    <tr>\n      <th>0</th>\n      <td>Africa</td>\n      <td>45</td>\n      <td>1.860154</td>\n      <td>#3182bd</td>\n    </tr>\n    <tr>\n      <th>1</th>\n      <td>Central Asia</td>\n      <td>6</td>\n      <td>0.248020</td>\n      <td>#6baed6</td>\n    </tr>\n    <tr>\n      <th>2</th>\n      <td>Oceania</td>\n      <td>3</td>\n      <td>0.124010</td>\n      <td>#9ecae1</td>\n    </tr>\n    <tr>\n      <th>3</th>\n      <td>Southeast Asia</td>\n      <td>8</td>\n      <td>0.330694</td>\n      <td>#c6dbef</td>\n    </tr>\n    <tr>\n      <th>4</th>\n      <td>North Asia</td>\n      <td>6</td>\n      <td>0.248020</td>\n      <td>#e6550d</td>\n    </tr>\n    <tr>\n      <th>5</th>\n      <td>Canada</td>\n      <td>1</td>\n      <td>0.041337</td>\n      <td>#fd8d3c</td>\n    </tr>\n    <tr>\n      <th>6</th>\n      <td>EMEA</td>\n      <td>40</td>\n      <td>1.653470</td>\n      <td>#fdae6b</td>\n    </tr>\n    <tr>\n      <th>7</th>\n      <td>Central</td>\n      <td>12</td>\n      <td>0.496041</td>\n      <td>#fdd0a2</td>\n    </tr>\n    <tr>\n      <th>8</th>\n      <td>North</td>\n      <td>7</td>\n      <td>0.289357</td>\n      <td>#31a354</td>\n    </tr>\n    <tr>\n      <th>9</th>\n      <td>South</td>\n      <td>14</td>\n      <td>0.578714</td>\n      <td>#74c476</td>\n    </tr>\n    <tr>\n      <th>10</th>\n      <td>Caribbean</td>\n      <td>8</td>\n      <td>0.330694</td>\n      <td>#a1d99b</td>\n    </tr>\n    <tr>\n      <th>11</th>\n      <td>West</td>\n      <td>1</td>\n      <td>0.041337</td>\n      <td>#c7e9c0</td>\n    </tr>\n    <tr>\n      <th>12</th>\n      <td>East</td>\n      <td>1</td>\n      <td>0.041337</td>\n      <td>#756bb1</td>\n    </tr>\n  </tbody>\n</table>\n</div>"
     },
     "metadata": {},
     "execution_count": 287
    }
   ],
   "source": [
    "df['angle'] = df['count']/df['count'].sum() *2* pi\n",
    "df['color'] = Category20c[len(df)]\n",
    "df"
   ]
  },
  {
   "cell_type": "code",
   "execution_count": 288,
   "metadata": {},
   "outputs": [],
   "source": [
    "p = figure(plot_height=500, \n",
    "            title=\"Country Count in Regions\",\n",
    "            tools=\"hover\", \n",
    "            tooltips=[(\"Region\", \"@region\"), (\"Countries\", \"@count\")], \n",
    "            x_range=(-0.5, 1.0))\n",
    "\n",
    "p.wedge(x=0, y=1, \n",
    "        radius=0.5, \n",
    "        start_angle=cumsum('angle', include_zero=True), \n",
    "        end_angle=cumsum('angle'),\n",
    "        line_color=\"white\", \n",
    "        fill_color='color', \n",
    "        legend_field='region', \n",
    "        source=df)\n",
    "\n",
    "p.axis.axis_label=None\n",
    "p.axis.visible=False\n",
    "p.grid.grid_line_color = None\n"
   ]
  },
  {
   "cell_type": "code",
   "execution_count": 289,
   "metadata": {},
   "outputs": [
    {
     "output_type": "display_data",
     "data": {
      "text/html": "\n\n\n\n\n\n  <div class=\"bk-root\" id=\"554663c3-db9a-462e-8dfc-8d9ac8d32e87\" data-root-id=\"126996\"></div>\n"
     },
     "metadata": {}
    },
    {
     "output_type": "display_data",
     "data": {
      "application/javascript": "(function(root) {\n  function embed_document(root) {\n    \n  var docs_json = {\"274ef671-60d5-4f6c-bbb2-a7b9d1621169\":{\"roots\":{\"references\":[{\"attributes\":{\"below\":[{\"id\":\"127007\"}],\"center\":[{\"id\":\"127010\"},{\"id\":\"127014\"},{\"id\":\"127033\"}],\"left\":[{\"id\":\"127011\"}],\"plot_height\":500,\"renderers\":[{\"id\":\"127024\"}],\"title\":{\"id\":\"126997\"},\"toolbar\":{\"id\":\"127016\"},\"x_range\":{\"id\":\"126999\"},\"x_scale\":{\"id\":\"127003\"},\"y_range\":{\"id\":\"127001\"},\"y_scale\":{\"id\":\"127005\"}},\"id\":\"126996\",\"subtype\":\"Figure\",\"type\":\"Plot\"},{\"attributes\":{\"items\":[{\"id\":\"127034\"}]},\"id\":\"127033\",\"type\":\"Legend\"},{\"attributes\":{},\"id\":\"127001\",\"type\":\"DataRange1d\"},{\"attributes\":{},\"id\":\"127008\",\"type\":\"BasicTicker\"},{\"attributes\":{},\"id\":\"127005\",\"type\":\"LinearScale\"},{\"attributes\":{\"end_angle\":{\"expr\":{\"id\":\"127019\"},\"units\":\"rad\"},\"fill_color\":{\"field\":\"color\"},\"line_color\":{\"value\":\"white\"},\"radius\":{\"units\":\"data\",\"value\":0.5},\"start_angle\":{\"expr\":{\"id\":\"127018\"},\"units\":\"rad\"},\"x\":{\"value\":0},\"y\":{\"value\":1}},\"id\":\"127022\",\"type\":\"Wedge\"},{\"attributes\":{},\"id\":\"127030\",\"type\":\"BasicTickFormatter\"},{\"attributes\":{\"data_source\":{\"id\":\"127020\"},\"glyph\":{\"id\":\"127022\"},\"hover_glyph\":null,\"muted_glyph\":null,\"nonselection_glyph\":{\"id\":\"127023\"},\"selection_glyph\":null,\"view\":{\"id\":\"127025\"}},\"id\":\"127024\",\"type\":\"GlyphRenderer\"},{\"attributes\":{\"axis\":{\"id\":\"127011\"},\"dimension\":1,\"grid_line_color\":null,\"ticker\":null},\"id\":\"127014\",\"type\":\"Grid\"},{\"attributes\":{},\"id\":\"127012\",\"type\":\"BasicTicker\"},{\"attributes\":{\"source\":{\"id\":\"127020\"}},\"id\":\"127025\",\"type\":\"CDSView\"},{\"attributes\":{\"start\":-0.5},\"id\":\"126999\",\"type\":\"Range1d\"},{\"attributes\":{\"label\":{\"field\":\"region\"},\"renderers\":[{\"id\":\"127024\"}]},\"id\":\"127034\",\"type\":\"LegendItem\"},{\"attributes\":{},\"id\":\"127031\",\"type\":\"Selection\"},{\"attributes\":{\"field\":\"angle\",\"include_zero\":true},\"id\":\"127018\",\"type\":\"CumSum\"},{\"attributes\":{\"axis\":{\"id\":\"127007\"},\"grid_line_color\":null,\"ticker\":null},\"id\":\"127010\",\"type\":\"Grid\"},{\"attributes\":{\"field\":\"angle\"},\"id\":\"127019\",\"type\":\"CumSum\"},{\"attributes\":{\"data\":{\"angle\":{\"__ndarray__\":\"0l0NXTDD/T9Gl2OFIr/PP0aXY4Uiv78/L7qXAxcq1T9Gl2OFIr/PPy+6lwMXKqU/u6h9xJx0+j9Gl2OFIr/fP+nCJCPUhNI/6cIkI9SE4j8vupcDFyrVPy+6lwMXKqU/L7qXAxcqpT8=\",\"dtype\":\"float64\",\"order\":\"little\",\"shape\":[13]},\"color\":[\"#3182bd\",\"#6baed6\",\"#9ecae1\",\"#c6dbef\",\"#e6550d\",\"#fd8d3c\",\"#fdae6b\",\"#fdd0a2\",\"#31a354\",\"#74c476\",\"#a1d99b\",\"#c7e9c0\",\"#756bb1\"],\"count\":[45,6,3,8,6,1,40,12,7,14,8,1,1],\"index\":[0,1,2,3,4,5,6,7,8,9,10,11,12],\"region\":[\"Africa\",\"Central Asia\",\"Oceania\",\"Southeast Asia\",\"North Asia\",\"Canada\",\"EMEA\",\"Central\",\"North\",\"South\",\"Caribbean\",\"West\",\"East\"]},\"selected\":{\"id\":\"127031\"},\"selection_policy\":{\"id\":\"127032\"}},\"id\":\"127020\",\"type\":\"ColumnDataSource\"},{\"attributes\":{\"end_angle\":{\"expr\":{\"id\":\"127019\"},\"units\":\"rad\"},\"fill_alpha\":{\"value\":0.1},\"fill_color\":{\"field\":\"color\"},\"line_alpha\":{\"value\":0.1},\"line_color\":{\"value\":\"white\"},\"radius\":{\"units\":\"data\",\"value\":0.5},\"start_angle\":{\"expr\":{\"id\":\"127018\"},\"units\":\"rad\"},\"x\":{\"value\":0},\"y\":{\"value\":1}},\"id\":\"127023\",\"type\":\"Wedge\"},{\"attributes\":{\"text\":\"Country Count in Regions\"},\"id\":\"126997\",\"type\":\"Title\"},{\"attributes\":{\"callback\":null,\"tooltips\":[[\"Region\",\"@region\"],[\"Countries\",\"@count\"]]},\"id\":\"127015\",\"type\":\"HoverTool\"},{\"attributes\":{\"axis_label\":null,\"formatter\":{\"id\":\"127028\"},\"ticker\":{\"id\":\"127012\"},\"visible\":false},\"id\":\"127011\",\"type\":\"LinearAxis\"},{\"attributes\":{},\"id\":\"127028\",\"type\":\"BasicTickFormatter\"},{\"attributes\":{\"axis_label\":null,\"formatter\":{\"id\":\"127030\"},\"ticker\":{\"id\":\"127008\"},\"visible\":false},\"id\":\"127007\",\"type\":\"LinearAxis\"},{\"attributes\":{},\"id\":\"127032\",\"type\":\"UnionRenderers\"},{\"attributes\":{},\"id\":\"127003\",\"type\":\"LinearScale\"},{\"attributes\":{\"active_drag\":\"auto\",\"active_inspect\":\"auto\",\"active_multi\":null,\"active_scroll\":\"auto\",\"active_tap\":\"auto\",\"tools\":[{\"id\":\"127015\"}]},\"id\":\"127016\",\"type\":\"Toolbar\"}],\"root_ids\":[\"126996\"]},\"title\":\"Bokeh Application\",\"version\":\"2.1.1\"}};\n  var render_items = [{\"docid\":\"274ef671-60d5-4f6c-bbb2-a7b9d1621169\",\"root_ids\":[\"126996\"],\"roots\":{\"126996\":\"554663c3-db9a-462e-8dfc-8d9ac8d32e87\"}}];\n  root.Bokeh.embed.embed_items_notebook(docs_json, render_items);\n\n  }\n  if (root.Bokeh !== undefined) {\n    embed_document(root);\n  } else {\n    var attempts = 0;\n    var timer = setInterval(function(root) {\n      if (root.Bokeh !== undefined) {\n        clearInterval(timer);\n        embed_document(root);\n      } else {\n        attempts++;\n        if (attempts > 100) {\n          clearInterval(timer);\n          console.log(\"Bokeh: ERROR: Unable to run BokehJS code because BokehJS library is missing\");\n        }\n      }\n    }, 10, root)\n  }\n})(window);",
      "application/vnd.bokehjs_exec.v0+json": ""
     },
     "metadata": {
      "application/vnd.bokehjs_exec.v0+json": {
       "id": "126996"
      }
     }
    }
   ],
   "source": [
    "show(p)"
   ]
  },
  {
   "source": [
    "BAR CHART & HISTOGRAM"
   ],
   "cell_type": "markdown",
   "metadata": {}
  },
  {
   "cell_type": "code",
   "execution_count": 175,
   "metadata": {},
   "outputs": [
    {
     "output_type": "stream",
     "name": "stdout",
     "text": [
      "             State  count\n0            Anhui     11\n1          Beijing      3\n2        Chongqing      3\n3           Fujian      7\n4            Gansu      2\n5        Guangdong     22\n6          Guangxi      6\n7          Guizhou      4\n8           Hainan      2\n9            Hebei     10\n10    Heilongjiang     16\n11           Henan     15\n12           Hubei     19\n13           Hunan     14\n14  Inner Mongolia      6\n15         Jiangsu     19\n16         Jiangxi      4\n17           Jilin     12\n18        Liaoning     12\n19         Ningxia      1\n20         Qinghai      1\n21         Shaanxi      4\n22        Shandong     20\n23        Shanghai      1\n24          Shanxi      8\n25         Sichuan     12\n26         Tianjin      3\n27  Xinjiang Uygur      3\n28          Yunnan      2\n29        Zhejiang     14\n"
     ]
    }
   ],
   "source": [
    "#6.\thistogram to show the states in a country on x-axis and the count of cities in each state on y-axis\n",
    "mycursor.execute(\"select state, count(city) from (select distinct country, state, city from location_dim where country = 'China') a group by a.state;\")\n",
    "df = pd.DataFrame(mycursor.fetchall())\n",
    "df = df.rename(columns = {0:'State', 1:'count'})\n",
    "print(df)"
   ]
  },
  {
   "cell_type": "code",
   "execution_count": 179,
   "metadata": {},
   "outputs": [
    {
     "output_type": "display_data",
     "data": {
      "text/html": "\n\n\n\n\n\n  <div class=\"bk-root\" id=\"d70ff40c-aa96-4f33-a865-8cc498c85f7f\" data-root-id=\"48333\"></div>\n"
     },
     "metadata": {}
    },
    {
     "output_type": "display_data",
     "data": {
      "application/javascript": "(function(root) {\n  function embed_document(root) {\n    \n  var docs_json = {\"4007882c-2f46-4ff9-92cb-ee97f9f765aa\":{\"roots\":{\"references\":[{\"attributes\":{\"below\":[{\"id\":\"48344\"}],\"center\":[{\"id\":\"48346\"},{\"id\":\"48350\"}],\"left\":[{\"id\":\"48347\"}],\"renderers\":[{\"id\":\"48371\"}],\"title\":{\"id\":\"48334\"},\"toolbar\":{\"id\":\"48359\"},\"x_range\":{\"id\":\"48336\"},\"x_scale\":{\"id\":\"48340\"},\"y_range\":{\"id\":\"48338\"},\"y_scale\":{\"id\":\"48342\"}},\"id\":\"48333\",\"subtype\":\"Figure\",\"type\":\"Plot\"},{\"attributes\":{},\"id\":\"48354\",\"type\":\"ZoomOutTool\"},{\"attributes\":{\"data\":{\"State\":[\"Anhui\",\"Beijing\",\"Chongqing\",\"Fujian\",\"Gansu\",\"Guangdong\",\"Guangxi\",\"Guizhou\",\"Hainan\",\"Hebei\",\"Heilongjiang\",\"Henan\",\"Hubei\",\"Hunan\",\"Inner Mongolia\",\"Jiangsu\",\"Jiangxi\",\"Jilin\",\"Liaoning\",\"Ningxia\",\"Qinghai\",\"Shaanxi\",\"Shandong\",\"Shanghai\",\"Shanxi\",\"Sichuan\",\"Tianjin\",\"Xinjiang Uygur\",\"Yunnan\",\"Zhejiang\"],\"count\":[11,3,3,7,2,22,6,4,2,10,16,15,19,14,6,19,4,12,12,1,1,4,20,1,8,12,3,3,2,14],\"index\":[0,1,2,3,4,5,6,7,8,9,10,11,12,13,14,15,16,17,18,19,20,21,22,23,24,25,26,27,28,29]},\"selected\":{\"id\":\"49082\"},\"selection_policy\":{\"id\":\"49083\"}},\"id\":\"48367\",\"type\":\"ColumnDataSource\"},{\"attributes\":{\"factors\":[\"Anhui\",\"Beijing\",\"Chongqing\",\"Fujian\",\"Gansu\",\"Guangdong\",\"Guangxi\",\"Guizhou\",\"Hainan\",\"Hebei\",\"Heilongjiang\",\"Henan\",\"Hubei\",\"Hunan\",\"Inner Mongolia\",\"Jiangsu\",\"Jiangxi\",\"Jilin\",\"Liaoning\",\"Ningxia\",\"Qinghai\",\"Shaanxi\",\"Shandong\",\"Shanghai\",\"Shanxi\",\"Sichuan\",\"Tianjin\",\"Xinjiang Uygur\",\"Yunnan\",\"Zhejiang\"],\"range_padding\":0.05},\"id\":\"48336\",\"type\":\"FactorRange\"},{\"attributes\":{},\"id\":\"48338\",\"type\":\"DataRange1d\"},{\"attributes\":{\"bottom_units\":\"screen\",\"fill_alpha\":0.5,\"fill_color\":\"lightgrey\",\"left_units\":\"screen\",\"level\":\"overlay\",\"line_alpha\":1.0,\"line_color\":\"black\",\"line_dash\":[4,4],\"line_width\":2,\"right_units\":\"screen\",\"top_units\":\"screen\"},\"id\":\"48358\",\"type\":\"BoxAnnotation\"},{\"attributes\":{\"axis\":{\"id\":\"48347\"},\"dimension\":1,\"ticker\":null},\"id\":\"48350\",\"type\":\"Grid\"},{\"attributes\":{},\"id\":\"49083\",\"type\":\"UnionRenderers\"},{\"attributes\":{\"text\":\"Cities in States of China\"},\"id\":\"48334\",\"type\":\"Title\"},{\"attributes\":{},\"id\":\"49082\",\"type\":\"Selection\"},{\"attributes\":{\"axis_label\":\"States in China\",\"formatter\":{\"id\":\"49080\"},\"major_label_orientation\":0.9,\"ticker\":{\"id\":\"48345\"}},\"id\":\"48344\",\"type\":\"CategoricalAxis\"},{\"attributes\":{\"axis\":{\"id\":\"48344\"},\"ticker\":null},\"id\":\"48346\",\"type\":\"Grid\"},{\"attributes\":{},\"id\":\"49078\",\"type\":\"BasicTickFormatter\"},{\"attributes\":{\"axis_label\":\"No. of Cities\",\"formatter\":{\"id\":\"49078\"},\"ticker\":{\"id\":\"48348\"}},\"id\":\"48347\",\"type\":\"LinearAxis\"},{\"attributes\":{\"data_source\":{\"id\":\"48367\"},\"glyph\":{\"id\":\"48369\"},\"hover_glyph\":null,\"muted_glyph\":null,\"nonselection_glyph\":{\"id\":\"48370\"},\"selection_glyph\":null,\"view\":{\"id\":\"48372\"}},\"id\":\"48371\",\"type\":\"GlyphRenderer\"},{\"attributes\":{},\"id\":\"48356\",\"type\":\"ResetTool\"},{\"attributes\":{},\"id\":\"48353\",\"type\":\"ZoomInTool\"},{\"attributes\":{\"callback\":null,\"tooltips\":[[\"State\",\"@State\"],[\"cities\",\"@count\"]]},\"id\":\"48357\",\"type\":\"HoverTool\"},{\"attributes\":{},\"id\":\"48348\",\"type\":\"BasicTicker\"},{\"attributes\":{\"fill_alpha\":{\"value\":0.1},\"fill_color\":{\"value\":\"#3182bd\"},\"line_alpha\":{\"value\":0.1},\"line_color\":{\"value\":\"white\"},\"top\":{\"field\":\"count\"},\"width\":{\"value\":1.0},\"x\":{\"field\":\"State\"}},\"id\":\"48370\",\"type\":\"VBar\"},{\"attributes\":{\"source\":{\"id\":\"48367\"}},\"id\":\"48372\",\"type\":\"CDSView\"},{\"attributes\":{},\"id\":\"48345\",\"type\":\"CategoricalTicker\"},{\"attributes\":{\"overlay\":{\"id\":\"48358\"}},\"id\":\"48352\",\"type\":\"BoxSelectTool\"},{\"attributes\":{\"fill_color\":{\"value\":\"#3182bd\"},\"line_color\":{\"value\":\"white\"},\"top\":{\"field\":\"count\"},\"width\":{\"value\":1.0},\"x\":{\"field\":\"State\"}},\"id\":\"48369\",\"type\":\"VBar\"},{\"attributes\":{\"active_drag\":\"auto\",\"active_inspect\":\"auto\",\"active_multi\":null,\"active_scroll\":\"auto\",\"active_tap\":\"auto\",\"tools\":[{\"id\":\"48351\"},{\"id\":\"48352\"},{\"id\":\"48353\"},{\"id\":\"48354\"},{\"id\":\"48355\"},{\"id\":\"48356\"},{\"id\":\"48357\"}]},\"id\":\"48359\",\"type\":\"Toolbar\"},{\"attributes\":{},\"id\":\"48342\",\"type\":\"LinearScale\"},{\"attributes\":{},\"id\":\"48355\",\"type\":\"SaveTool\"},{\"attributes\":{},\"id\":\"48351\",\"type\":\"PanTool\"},{\"attributes\":{},\"id\":\"49080\",\"type\":\"CategoricalTickFormatter\"},{\"attributes\":{},\"id\":\"48340\",\"type\":\"CategoricalScale\"}],\"root_ids\":[\"48333\"]},\"title\":\"Bokeh Application\",\"version\":\"2.1.1\"}};\n  var render_items = [{\"docid\":\"4007882c-2f46-4ff9-92cb-ee97f9f765aa\",\"root_ids\":[\"48333\"],\"roots\":{\"48333\":\"d70ff40c-aa96-4f33-a865-8cc498c85f7f\"}}];\n  root.Bokeh.embed.embed_items_notebook(docs_json, render_items);\n\n  }\n  if (root.Bokeh !== undefined) {\n    embed_document(root);\n  } else {\n    var attempts = 0;\n    var timer = setInterval(function(root) {\n      if (root.Bokeh !== undefined) {\n        clearInterval(timer);\n        embed_document(root);\n      } else {\n        attempts++;\n        if (attempts > 100) {\n          clearInterval(timer);\n          console.log(\"Bokeh: ERROR: Unable to run BokehJS code because BokehJS library is missing\");\n        }\n      }\n    }, 10, root)\n  }\n})(window);",
      "application/vnd.bokehjs_exec.v0+json": ""
     },
     "metadata": {
      "application/vnd.bokehjs_exec.v0+json": {
       "id": "48333"
      }
     }
    }
   ],
   "source": [
    "p = figure(x_range = df['State'], \n",
    "            title=\"Cities in States of China\", \n",
    "            y_axis_label = \"No. of Cities\", \n",
    "            tools=\"pan,box_select,zoom_in,zoom_out,save,reset,hover\", \n",
    "            tooltips=[(\"State\", \"@State\"), (\"cities\", \"@count\")])\n",
    "\n",
    "p.vbar(x = 'State', \n",
    "        top = 'count', \n",
    "        width = 1.0, \n",
    "        source = df, \n",
    "        line_color=\"white\", \n",
    "        color = '#3182bd')\n",
    "p.xaxis.axis_label = \"States in China\"\n",
    "p.xaxis.major_label_orientation = 0.9\n",
    "p.x_range.range_padding = 0.05\n",
    "show(p)"
   ]
  },
  {
   "cell_type": "code",
   "execution_count": 158,
   "metadata": {},
   "outputs": [
    {
     "output_type": "stream",
     "name": "stdout",
     "text": [
      "           category  subcategory         sales\n0         Furniture  Furnishings   385291.8759\n1         Furniture       Tables   757041.9244\n2         Furniture    Bookcases  1466404.2118\n3         Furniture       Chairs  1500296.4972\n4   Office Supplies      Binders   461504.4627\n5   Office Supplies    Fasteners    83242.3159\n6   Office Supplies     Supplies   243074.2206\n7   Office Supplies    Envelopes   170883.8116\n8   Office Supplies   Appliances  1007347.9530\n9   Office Supplies          Art   371560.1349\n10  Office Supplies       Labels    73392.6600\n11  Office Supplies        Paper   244196.9194\n12  Office Supplies      Storage  1126425.7414\n13       Technology  Accessories   748785.9625\n14       Technology       Phones  1703104.8592\n15       Technology      Copiers  1509436.2742\n16       Technology     Machines   778553.4271\n"
     ]
    }
   ],
   "source": [
    "#33. Total lifetime sales of all subcategories in all categories (Segmented Bar chart)\n",
    "mycursor.execute(\"select c.category, c.subcategory, sum(sales) sales from category_dim c inner join mv_product_sales m on c.category_id = m.category_id group by c.category, c.subcategory;\")\n",
    "df = pd.DataFrame(mycursor.fetchall())\n",
    "df = df.rename(columns = {0:'category', 1:'subcategory', 2: 'sales'})\n",
    "print(df)"
   ]
  },
  {
   "cell_type": "code",
   "execution_count": 159,
   "metadata": {},
   "outputs": [
    {
     "output_type": "display_data",
     "data": {
      "text/html": "\n\n\n\n\n\n  <div class=\"bk-root\" id=\"1375f72e-2d45-4fa8-8149-319acd60d24d\" data-root-id=\"35977\"></div>\n"
     },
     "metadata": {}
    },
    {
     "output_type": "display_data",
     "data": {
      "application/javascript": "(function(root) {\n  function embed_document(root) {\n    \n  var docs_json = {\"e8ebcd7d-ad1c-4e81-acac-49f94605ae65\":{\"roots\":{\"references\":[{\"attributes\":{\"below\":[{\"id\":\"35988\"}],\"center\":[{\"id\":\"35990\"},{\"id\":\"35994\"}],\"left\":[{\"id\":\"35991\"}],\"outline_line_color\":\"black\",\"plot_height\":500,\"plot_width\":700,\"renderers\":[{\"id\":\"36015\"}],\"title\":{\"id\":\"35978\"},\"toolbar\":{\"id\":\"36003\"},\"x_range\":{\"id\":\"35980\"},\"x_scale\":{\"id\":\"35984\"},\"y_range\":{\"id\":\"35982\"},\"y_scale\":{\"id\":\"35986\"}},\"id\":\"35977\",\"subtype\":\"Figure\",\"type\":\"Plot\"},{\"attributes\":{\"axis\":{\"id\":\"35988\"},\"grid_line_color\":null,\"ticker\":null},\"id\":\"35990\",\"type\":\"Grid\"},{\"attributes\":{\"callback\":null,\"tooltips\":[[\"Category_SubCategory: \",\"@category_subcategory\"],[\"sales: \",\"@sales_top\"]]},\"id\":\"36001\",\"type\":\"HoverTool\"},{\"attributes\":{},\"id\":\"35989\",\"type\":\"CategoricalTicker\"},{\"attributes\":{},\"id\":\"35998\",\"type\":\"ZoomOutTool\"},{\"attributes\":{\"axis\":{\"id\":\"35991\"},\"dimension\":1,\"ticker\":null},\"id\":\"35994\",\"type\":\"Grid\"},{\"attributes\":{\"bottom_units\":\"screen\",\"fill_alpha\":0.5,\"fill_color\":\"lightgrey\",\"left_units\":\"screen\",\"level\":\"overlay\",\"line_alpha\":1.0,\"line_color\":\"black\",\"line_dash\":[4,4],\"line_width\":2,\"right_units\":\"screen\",\"top_units\":\"screen\"},\"id\":\"36002\",\"type\":\"BoxAnnotation\"},{\"attributes\":{},\"id\":\"35984\",\"type\":\"CategoricalScale\"},{\"attributes\":{},\"id\":\"36000\",\"type\":\"ResetTool\"},{\"attributes\":{},\"id\":\"36594\",\"type\":\"CategoricalTickFormatter\"},{\"attributes\":{\"text\":\"Total Sales of Subcategories\"},\"id\":\"35978\",\"type\":\"Title\"},{\"attributes\":{\"axis_label\":\"Subcategories in Categories\",\"formatter\":{\"id\":\"36594\"},\"major_label_orientation\":1.0,\"ticker\":{\"id\":\"35989\"}},\"id\":\"35988\",\"type\":\"CategoricalAxis\"},{\"attributes\":{\"fill_alpha\":{\"value\":0.1},\"fill_color\":{\"field\":\"category_subcategory\",\"transform\":{\"id\":\"35976\"}},\"line_alpha\":{\"value\":0.1},\"line_color\":{\"value\":\"white\"},\"top\":{\"field\":\"sales_top\"},\"width\":{\"value\":1},\"x\":{\"field\":\"category_subcategory\"}},\"id\":\"36014\",\"type\":\"VBar\"},{\"attributes\":{\"active_drag\":\"auto\",\"active_inspect\":\"auto\",\"active_multi\":null,\"active_scroll\":\"auto\",\"active_tap\":\"auto\",\"tools\":[{\"id\":\"35995\"},{\"id\":\"35996\"},{\"id\":\"35997\"},{\"id\":\"35998\"},{\"id\":\"35999\"},{\"id\":\"36000\"},{\"id\":\"36001\"}]},\"id\":\"36003\",\"type\":\"Toolbar\"},{\"attributes\":{\"data_source\":{\"id\":\"36011\"},\"glyph\":{\"id\":\"36013\"},\"hover_glyph\":null,\"muted_glyph\":null,\"nonselection_glyph\":{\"id\":\"36014\"},\"selection_glyph\":null,\"view\":{\"id\":\"36016\"}},\"id\":\"36015\",\"type\":\"GlyphRenderer\"},{\"attributes\":{},\"id\":\"35992\",\"type\":\"BasicTicker\"},{\"attributes\":{},\"id\":\"35995\",\"type\":\"PanTool\"},{\"attributes\":{\"overlay\":{\"id\":\"36002\"}},\"id\":\"35996\",\"type\":\"BoxSelectTool\"},{\"attributes\":{\"end\":1,\"factors\":[\"Furniture\",\"Office Supplies\",\"Technology\"],\"palette\":[\"#5e4fa2\",\"#3288bd\",\"#66c2a5\",\"#abdda4\",\"#e6f598\",\"#fee08b\",\"#fdae61\",\"#f46d43\",\"#d53e4f\",\"#9e0142\"]},\"id\":\"35976\",\"type\":\"CategoricalColorMapper\"},{\"attributes\":{\"start\":0},\"id\":\"35982\",\"type\":\"DataRange1d\"},{\"attributes\":{\"factors\":[[\"Furniture\",\"Bookcases\"],[\"Furniture\",\"Chairs\"],[\"Furniture\",\"Furnishings\"],[\"Furniture\",\"Tables\"],[\"Office Supplies\",\"Appliances\"],[\"Office Supplies\",\"Art\"],[\"Office Supplies\",\"Binders\"],[\"Office Supplies\",\"Envelopes\"],[\"Office Supplies\",\"Fasteners\"],[\"Office Supplies\",\"Labels\"],[\"Office Supplies\",\"Paper\"],[\"Office Supplies\",\"Storage\"],[\"Office Supplies\",\"Supplies\"],[\"Technology\",\"Accessories\"],[\"Technology\",\"Copiers\"],[\"Technology\",\"Machines\"],[\"Technology\",\"Phones\"]],\"range_padding\":0.05},\"id\":\"35980\",\"type\":\"FactorRange\"},{\"attributes\":{},\"id\":\"35999\",\"type\":\"SaveTool\"},{\"attributes\":{},\"id\":\"36592\",\"type\":\"BasicTickFormatter\"},{\"attributes\":{\"axis_label\":\"Sales (in Million USD)\",\"formatter\":{\"id\":\"36592\"},\"ticker\":{\"id\":\"35992\"}},\"id\":\"35991\",\"type\":\"LinearAxis\"},{\"attributes\":{\"source\":{\"id\":\"36011\"}},\"id\":\"36016\",\"type\":\"CDSView\"},{\"attributes\":{},\"id\":\"35986\",\"type\":\"LinearScale\"},{\"attributes\":{\"fill_color\":{\"field\":\"category_subcategory\",\"transform\":{\"id\":\"35976\"}},\"line_color\":{\"value\":\"white\"},\"top\":{\"field\":\"sales_top\"},\"width\":{\"value\":1},\"x\":{\"field\":\"category_subcategory\"}},\"id\":\"36013\",\"type\":\"VBar\"},{\"attributes\":{},\"id\":\"36597\",\"type\":\"UnionRenderers\"},{\"attributes\":{},\"id\":\"36596\",\"type\":\"Selection\"},{\"attributes\":{\"data\":{\"category_subcategory\":[[\"Furniture\",\"Bookcases\"],[\"Furniture\",\"Chairs\"],[\"Furniture\",\"Furnishings\"],[\"Furniture\",\"Tables\"],[\"Office Supplies\",\"Appliances\"],[\"Office Supplies\",\"Art\"],[\"Office Supplies\",\"Binders\"],[\"Office Supplies\",\"Envelopes\"],[\"Office Supplies\",\"Fasteners\"],[\"Office Supplies\",\"Labels\"],[\"Office Supplies\",\"Paper\"],[\"Office Supplies\",\"Storage\"],[\"Office Supplies\",\"Supplies\"],[\"Technology\",\"Accessories\"],[\"Technology\",\"Copiers\"],[\"Technology\",\"Machines\"],[\"Technology\",\"Phones\"]],\"sales_count\":[1,1,1,1,1,1,1,1,1,1,1,1,1,1,1,1,1],\"sales_freq\":[1,1,1,1,1,1,1,1,1,1,1,1,1,1,1,1,1],\"sales_top\":[1466404.2118,1500296.4972,385291.8759,757041.9244,1007347.953,371560.1349,461504.4627,170883.8116,83242.3159,73392.66,244196.9194,1126425.7414,243074.2206,748785.9625,1509436.2742,778553.4271,1703104.8592],\"sales_unique\":[1,1,1,1,1,1,1,1,1,1,1,1,1,1,1,1,1]},\"selected\":{\"id\":\"36596\"},\"selection_policy\":{\"id\":\"36597\"}},\"id\":\"36011\",\"type\":\"ColumnDataSource\"},{\"attributes\":{},\"id\":\"35997\",\"type\":\"ZoomInTool\"}],\"root_ids\":[\"35977\"]},\"title\":\"Bokeh Application\",\"version\":\"2.1.1\"}};\n  var render_items = [{\"docid\":\"e8ebcd7d-ad1c-4e81-acac-49f94605ae65\",\"root_ids\":[\"35977\"],\"roots\":{\"35977\":\"1375f72e-2d45-4fa8-8149-319acd60d24d\"}}];\n  root.Bokeh.embed.embed_items_notebook(docs_json, render_items);\n\n  }\n  if (root.Bokeh !== undefined) {\n    embed_document(root);\n  } else {\n    var attempts = 0;\n    var timer = setInterval(function(root) {\n      if (root.Bokeh !== undefined) {\n        clearInterval(timer);\n        embed_document(root);\n      } else {\n        attempts++;\n        if (attempts > 100) {\n          clearInterval(timer);\n          console.log(\"Bokeh: ERROR: Unable to run BokehJS code because BokehJS library is missing\");\n        }\n      }\n    }, 10, root)\n  }\n})(window);",
      "application/vnd.bokehjs_exec.v0+json": ""
     },
     "metadata": {
      "application/vnd.bokehjs_exec.v0+json": {
       "id": "35977"
      }
     }
    }
   ],
   "source": [
    "group = df.groupby(by=['category', 'subcategory'])\n",
    "\n",
    "index_cmap = factor_cmap('category_subcategory', palette=Spectral10, factors=sorted(df.category.unique()), end=1)\n",
    "\n",
    "p = figure(plot_width=700, \n",
    "            plot_height=500, \n",
    "            title=\"Total Sales of Subcategories\", \n",
    "            x_range=group, \n",
    "            tools=\"pan,box_select,zoom_in,zoom_out,save,reset,hover\", \n",
    "            tooltips=[(\"Category_SubCategory: \", \"@category_subcategory\"), (\"sales: \", \"@sales_top\")])\n",
    "\n",
    "p.vbar(x='category_subcategory', \n",
    "        top='sales_top', width=1, \n",
    "        source=group, \n",
    "        line_color=\"white\", \n",
    "        fill_color=index_cmap)\n",
    "\n",
    "p.y_range.start = 0\n",
    "p.x_range.range_padding = 0.05\n",
    "p.xgrid.grid_line_color = None\n",
    "p.xaxis.axis_label = \"Subcategories in Categories\"\n",
    "p.yaxis.axis_label = \"Sales (in Million USD)\"\n",
    "p.xaxis.major_label_orientation = 1.0\n",
    "p.outline_line_color = 'black'\n",
    "show(p)"
   ]
  },
  {
   "cell_type": "code",
   "execution_count": 195,
   "metadata": {},
   "outputs": [
    {
     "output_type": "stream",
     "name": "stdout",
     "text": [
      "   market   this_month   prev_month\n0  Africa   33802.7310   37862.8590\n1    APAC  121584.0093  155630.0382\n2  Canada    5784.1200    2495.1900\n3    EMEA   40010.4690   21275.4690\n4      EU  123845.6595  119018.4330\n5   LATAM   87497.2789  106502.5367\n6      US   90372.2648  111782.0910\n"
     ]
    }
   ],
   "source": [
    "#18. Total sales by markets this month vs previous month (in grouped bar chart)\n",
    "mycursor.execute(\"select a.market, a.sales this_month, b.sales prev_month from (select market, sum(sales) sales from mv_location_time_sales where year=2014 and month=12 group by market) a inner join (select market, sum(sales) sales from mv_location_time_sales where year=2014 and month=11 group by market) b on a.market = b.market;\")\n",
    "df = pd.DataFrame(mycursor.fetchall())\n",
    "df = df.rename(columns = {0:'market', 1:'this_month', 2: 'prev_month'})\n",
    "print(df)"
   ]
  },
  {
   "cell_type": "code",
   "execution_count": 196,
   "metadata": {},
   "outputs": [
    {
     "output_type": "display_data",
     "data": {
      "text/html": "\n\n\n\n\n\n  <div class=\"bk-root\" id=\"76f74a6f-1b74-47dc-8da1-0165925931cf\" data-root-id=\"60628\"></div>\n"
     },
     "metadata": {}
    },
    {
     "output_type": "display_data",
     "data": {
      "application/javascript": "(function(root) {\n  function embed_document(root) {\n    \n  var docs_json = {\"f0c732cb-aa85-4666-8381-d1b1c1dd9cf2\":{\"roots\":{\"references\":[{\"attributes\":{\"below\":[{\"id\":\"60639\"}],\"center\":[{\"id\":\"60641\"},{\"id\":\"60645\"},{\"id\":\"60677\"}],\"left\":[{\"id\":\"60642\"}],\"renderers\":[{\"id\":\"60667\"},{\"id\":\"60684\"}],\"title\":{\"id\":\"60629\"},\"toolbar\":{\"id\":\"60654\"},\"x_range\":{\"id\":\"60631\"},\"x_scale\":{\"id\":\"60635\"},\"y_range\":{\"id\":\"60633\"},\"y_scale\":{\"id\":\"60637\"}},\"id\":\"60628\",\"subtype\":\"Figure\",\"type\":\"Plot\"},{\"attributes\":{\"start\":0},\"id\":\"60633\",\"type\":\"DataRange1d\"},{\"attributes\":{\"fill_alpha\":{\"value\":0.1},\"fill_color\":{\"value\":\"#3182bd\"},\"line_alpha\":{\"value\":0.1},\"line_color\":{\"value\":\"white\"},\"top\":{\"field\":\"this_month\"},\"width\":{\"value\":0.3},\"x\":{\"field\":\"market\",\"transform\":{\"id\":\"60662\"}}},\"id\":\"60666\",\"type\":\"VBar\"},{\"attributes\":{},\"id\":\"60675\",\"type\":\"Selection\"},{\"attributes\":{\"callback\":null,\"tooltips\":[[\"Market\",\"@market\"],[\"Nov 2014\",\"@this_month\"],[\"Nov 2014\",\"@prev_month\"]]},\"id\":\"60652\",\"type\":\"HoverTool\"},{\"attributes\":{\"label\":{\"value\":\"Dec 2014\"},\"renderers\":[{\"id\":\"60667\"}]},\"id\":\"60678\",\"type\":\"LegendItem\"},{\"attributes\":{\"source\":{\"id\":\"60680\"}},\"id\":\"60685\",\"type\":\"CDSView\"},{\"attributes\":{\"source\":{\"id\":\"60663\"}},\"id\":\"60668\",\"type\":\"CDSView\"},{\"attributes\":{},\"id\":\"60646\",\"type\":\"PanTool\"},{\"attributes\":{\"items\":[{\"id\":\"60678\"},{\"id\":\"60696\"}]},\"id\":\"60677\",\"type\":\"Legend\"},{\"attributes\":{},\"id\":\"60637\",\"type\":\"LinearScale\"},{\"attributes\":{\"axis\":{\"id\":\"60642\"},\"dimension\":1,\"ticker\":null},\"id\":\"60645\",\"type\":\"Grid\"},{\"attributes\":{\"data\":{\"index\":[0,1,2,3,4,5,6],\"market\":[\"Africa\",\"APAC\",\"Canada\",\"EMEA\",\"EU\",\"LATAM\",\"US\"],\"prev_month\":[37862.859,155630.0382,2495.19,21275.469,119018.433,106502.5367,111782.091],\"this_month\":[33802.731,121584.0093,5784.12,40010.469,123845.6595,87497.2789,90372.2648]},\"selected\":{\"id\":\"60675\"},\"selection_policy\":{\"id\":\"60676\"}},\"id\":\"60663\",\"type\":\"ColumnDataSource\"},{\"attributes\":{\"overlay\":{\"id\":\"60653\"}},\"id\":\"60647\",\"type\":\"BoxSelectTool\"},{\"attributes\":{},\"id\":\"60673\",\"type\":\"CategoricalTickFormatter\"},{\"attributes\":{\"fill_alpha\":{\"value\":0.8},\"fill_color\":{\"value\":\"#3182bd\"},\"line_color\":{\"value\":\"white\"},\"top\":{\"field\":\"this_month\"},\"width\":{\"value\":0.3},\"x\":{\"field\":\"market\",\"transform\":{\"id\":\"60662\"}}},\"id\":\"60665\",\"type\":\"VBar\"},{\"attributes\":{\"range\":{\"id\":\"60631\"},\"value\":0.15},\"id\":\"60679\",\"type\":\"Dodge\"},{\"attributes\":{},\"id\":\"60635\",\"type\":\"CategoricalScale\"},{\"attributes\":{},\"id\":\"60649\",\"type\":\"ZoomOutTool\"},{\"attributes\":{\"fill_alpha\":{\"value\":0.8},\"fill_color\":{\"value\":\"#e6550d\"},\"line_color\":{\"value\":\"white\"},\"top\":{\"field\":\"prev_month\"},\"width\":{\"value\":0.3},\"x\":{\"field\":\"market\",\"transform\":{\"id\":\"60679\"}}},\"id\":\"60682\",\"type\":\"VBar\"},{\"attributes\":{\"text\":\"Current and Previous month sales by market\"},\"id\":\"60629\",\"type\":\"Title\"},{\"attributes\":{\"bottom_units\":\"screen\",\"fill_alpha\":0.5,\"fill_color\":\"lightgrey\",\"left_units\":\"screen\",\"level\":\"overlay\",\"line_alpha\":1.0,\"line_color\":\"black\",\"line_dash\":[4,4],\"line_width\":2,\"right_units\":\"screen\",\"top_units\":\"screen\"},\"id\":\"60653\",\"type\":\"BoxAnnotation\"},{\"attributes\":{\"data\":{\"index\":[0,1,2,3,4,5,6],\"market\":[\"Africa\",\"APAC\",\"Canada\",\"EMEA\",\"EU\",\"LATAM\",\"US\"],\"prev_month\":[37862.859,155630.0382,2495.19,21275.469,119018.433,106502.5367,111782.091],\"this_month\":[33802.731,121584.0093,5784.12,40010.469,123845.6595,87497.2789,90372.2648]},\"selected\":{\"id\":\"60694\"},\"selection_policy\":{\"id\":\"60695\"}},\"id\":\"60680\",\"type\":\"ColumnDataSource\"},{\"attributes\":{},\"id\":\"60651\",\"type\":\"ResetTool\"},{\"attributes\":{\"axis_label\":\"Sales Amount\",\"formatter\":{\"id\":\"60671\"},\"ticker\":{\"id\":\"60643\"}},\"id\":\"60642\",\"type\":\"LinearAxis\"},{\"attributes\":{},\"id\":\"60648\",\"type\":\"ZoomInTool\"},{\"attributes\":{},\"id\":\"60650\",\"type\":\"SaveTool\"},{\"attributes\":{},\"id\":\"60640\",\"type\":\"CategoricalTicker\"},{\"attributes\":{\"factors\":[\"Africa\",\"APAC\",\"Canada\",\"EMEA\",\"EU\",\"LATAM\",\"US\"],\"range_padding\":0.05},\"id\":\"60631\",\"type\":\"FactorRange\"},{\"attributes\":{\"active_drag\":\"auto\",\"active_inspect\":\"auto\",\"active_multi\":null,\"active_scroll\":\"auto\",\"active_tap\":\"auto\",\"tools\":[{\"id\":\"60646\"},{\"id\":\"60647\"},{\"id\":\"60648\"},{\"id\":\"60649\"},{\"id\":\"60650\"},{\"id\":\"60651\"},{\"id\":\"60652\"}]},\"id\":\"60654\",\"type\":\"Toolbar\"},{\"attributes\":{},\"id\":\"60671\",\"type\":\"BasicTickFormatter\"},{\"attributes\":{\"data_source\":{\"id\":\"60680\"},\"glyph\":{\"id\":\"60682\"},\"hover_glyph\":null,\"muted_glyph\":null,\"nonselection_glyph\":{\"id\":\"60683\"},\"selection_glyph\":null,\"view\":{\"id\":\"60685\"}},\"id\":\"60684\",\"type\":\"GlyphRenderer\"},{\"attributes\":{\"range\":{\"id\":\"60631\"},\"value\":-0.15},\"id\":\"60662\",\"type\":\"Dodge\"},{\"attributes\":{},\"id\":\"60643\",\"type\":\"BasicTicker\"},{\"attributes\":{},\"id\":\"60694\",\"type\":\"Selection\"},{\"attributes\":{\"axis_label\":\"Sales in USD\",\"formatter\":{\"id\":\"60673\"},\"ticker\":{\"id\":\"60640\"}},\"id\":\"60639\",\"type\":\"CategoricalAxis\"},{\"attributes\":{\"data_source\":{\"id\":\"60663\"},\"glyph\":{\"id\":\"60665\"},\"hover_glyph\":null,\"muted_glyph\":null,\"nonselection_glyph\":{\"id\":\"60666\"},\"selection_glyph\":null,\"view\":{\"id\":\"60668\"}},\"id\":\"60667\",\"type\":\"GlyphRenderer\"},{\"attributes\":{\"label\":{\"value\":\"Nov 2014\"},\"renderers\":[{\"id\":\"60684\"}]},\"id\":\"60696\",\"type\":\"LegendItem\"},{\"attributes\":{},\"id\":\"60676\",\"type\":\"UnionRenderers\"},{\"attributes\":{},\"id\":\"60695\",\"type\":\"UnionRenderers\"},{\"attributes\":{\"axis\":{\"id\":\"60639\"},\"ticker\":null},\"id\":\"60641\",\"type\":\"Grid\"},{\"attributes\":{\"fill_alpha\":{\"value\":0.1},\"fill_color\":{\"value\":\"#e6550d\"},\"line_alpha\":{\"value\":0.1},\"line_color\":{\"value\":\"white\"},\"top\":{\"field\":\"prev_month\"},\"width\":{\"value\":0.3},\"x\":{\"field\":\"market\",\"transform\":{\"id\":\"60679\"}}},\"id\":\"60683\",\"type\":\"VBar\"}],\"root_ids\":[\"60628\"]},\"title\":\"Bokeh Application\",\"version\":\"2.1.1\"}};\n  var render_items = [{\"docid\":\"f0c732cb-aa85-4666-8381-d1b1c1dd9cf2\",\"root_ids\":[\"60628\"],\"roots\":{\"60628\":\"76f74a6f-1b74-47dc-8da1-0165925931cf\"}}];\n  root.Bokeh.embed.embed_items_notebook(docs_json, render_items);\n\n  }\n  if (root.Bokeh !== undefined) {\n    embed_document(root);\n  } else {\n    var attempts = 0;\n    var timer = setInterval(function(root) {\n      if (root.Bokeh !== undefined) {\n        clearInterval(timer);\n        embed_document(root);\n      } else {\n        attempts++;\n        if (attempts > 100) {\n          clearInterval(timer);\n          console.log(\"Bokeh: ERROR: Unable to run BokehJS code because BokehJS library is missing\");\n        }\n      }\n    }, 10, root)\n  }\n})(window);",
      "application/vnd.bokehjs_exec.v0+json": ""
     },
     "metadata": {
      "application/vnd.bokehjs_exec.v0+json": {
       "id": "60628"
      }
     }
    }
   ],
   "source": [
    "p = figure(x_range = df['market'], \n",
    "            title=\"Current and Previous month sales by market\", \n",
    "            y_axis_label = \"Sales Amount\", \n",
    "            tools=\"pan,box_select,zoom_in,zoom_out,save,reset,hover\", \n",
    "            tooltips=[(\"Market\", \"@market\"), (\"Nov 2014\", \"@this_month\"), (\"Nov 2014\", \"@prev_month\")])\n",
    "\n",
    "p.vbar(x=dodge('market', -0.15, range=p.x_range), \n",
    "        top = 'this_month', \n",
    "        width = 0.3, \n",
    "        source = df, \n",
    "        line_color=\"white\", \n",
    "        color = '#3182bd', \n",
    "        fill_alpha = 0.8,\n",
    "        legend_label='Dec 2014')\n",
    "p.vbar(x=dodge('market', +0.15, range=p.x_range), \n",
    "        top = 'prev_month', \n",
    "        width = 0.3, \n",
    "        source = df, \n",
    "        line_color=\"white\", \n",
    "        color = '#e6550d', \n",
    "        fill_alpha = 0.8,\n",
    "        legend_label='Nov 2014')\n",
    "p.xaxis.axis_label = \"Sales in USD\"\n",
    "#p.xaxis.major_label_orientation = 0.9\n",
    "p.x_range.range_padding = 0.05\n",
    "p.y_range.start = 0\n",
    "show(p)"
   ]
  },
  {
   "cell_type": "code",
   "execution_count": 197,
   "metadata": {},
   "outputs": [
    {
     "output_type": "stream",
     "name": "stdout",
     "text": [
      "   market         sales discount\n0      EU   778958.2245   177101\n1    APAC  1343422.2105   248899\n2   LATAM   811355.3800   215314\n3      US   741432.0433   185113\n4    EMEA   228620.7360    64926\n5  Africa   194650.6350    45309\n6  Canada    10595.2800        0\n"
     ]
    }
   ],
   "source": [
    "#38. Stacked bar cart to show sales and discount of category X in every market\n",
    "# taking category X as Furniture\n",
    "mycursor.execute(\"select l.market, sum(s.sales) sales, sum(s.discount) discount from (select * from category_dim where    category = 'Furniture') c inner join product_dim p on c.category_id = p.category_id inner join sales_fact s on p.product_id = s.product_id inner join location_dim l on s.location_id = l.location_id group by l.market;\")\n",
    "df = pd.DataFrame(mycursor.fetchall())\n",
    "df = df.rename(columns = {0:'market', 1:'sales', 2: 'discount'})\n",
    "print(df)"
   ]
  },
  {
   "cell_type": "code",
   "execution_count": 198,
   "metadata": {},
   "outputs": [
    {
     "output_type": "display_data",
     "data": {
      "text/html": "\n\n\n\n\n\n  <div class=\"bk-root\" id=\"359aa6b3-670a-43d7-a74a-a9928db85acb\" data-root-id=\"61719\"></div>\n"
     },
     "metadata": {}
    },
    {
     "output_type": "display_data",
     "data": {
      "application/javascript": "(function(root) {\n  function embed_document(root) {\n    \n  var docs_json = {\"54bf4d8a-fdd4-4f8b-aec5-fdfa4f0462cc\":{\"roots\":{\"references\":[{\"attributes\":{\"below\":[{\"id\":\"61730\"}],\"center\":[{\"id\":\"61732\"},{\"id\":\"61736\"},{\"id\":\"61771\"}],\"left\":[{\"id\":\"61733\"}],\"renderers\":[{\"id\":\"61761\"},{\"id\":\"61777\"}],\"title\":{\"id\":\"61720\"},\"toolbar\":{\"id\":\"61745\"},\"x_range\":{\"id\":\"61722\"},\"x_scale\":{\"id\":\"61726\"},\"y_range\":{\"id\":\"61724\"},\"y_scale\":{\"id\":\"61728\"}},\"id\":\"61719\",\"subtype\":\"Figure\",\"type\":\"Plot\"},{\"attributes\":{\"axis\":{\"id\":\"61733\"},\"dimension\":1,\"ticker\":null},\"id\":\"61736\",\"type\":\"Grid\"},{\"attributes\":{\"axis\":{\"id\":\"61730\"},\"ticker\":null},\"id\":\"61732\",\"type\":\"Grid\"},{\"attributes\":{\"fields\":[\"sales\"]},\"id\":\"61754\",\"type\":\"Stack\"},{\"attributes\":{},\"id\":\"61739\",\"type\":\"ZoomInTool\"},{\"attributes\":{},\"id\":\"61765\",\"type\":\"BasicTickFormatter\"},{\"attributes\":{\"overlay\":{\"id\":\"61744\"}},\"id\":\"61738\",\"type\":\"BoxSelectTool\"},{\"attributes\":{\"data_source\":{\"id\":\"61773\"},\"glyph\":{\"id\":\"61775\"},\"hover_glyph\":null,\"muted_glyph\":null,\"name\":\"discount\",\"nonselection_glyph\":{\"id\":\"61776\"},\"selection_glyph\":null,\"view\":{\"id\":\"61778\"}},\"id\":\"61777\",\"type\":\"GlyphRenderer\"},{\"attributes\":{\"data\":{\"discount\":[177101.0,248899.0,215314.0,185113.0,64926.0,45309.0,0.0],\"index\":[0,1,2,3,4,5,6],\"market\":[\"EU\",\"APAC\",\"LATAM\",\"US\",\"EMEA\",\"Africa\",\"Canada\"],\"sales\":[778958.2245,1343422.2105,811355.38,741432.0433,228620.736,194650.635,10595.28]},\"selected\":{\"id\":\"61787\"},\"selection_policy\":{\"id\":\"61788\"}},\"id\":\"61773\",\"type\":\"ColumnDataSource\"},{\"attributes\":{\"bottom\":{\"expr\":{\"id\":\"61755\"}},\"fill_alpha\":{\"value\":0.8},\"fill_color\":{\"value\":\"#e6550d\"},\"line_color\":{\"value\":\"#e6550d\"},\"top\":{\"expr\":{\"id\":\"61756\"}},\"width\":{\"value\":0.9},\"x\":{\"field\":\"market\"}},\"id\":\"61775\",\"type\":\"VBar\"},{\"attributes\":{\"text\":\"Sales and Discount of X in all Markets\"},\"id\":\"61720\",\"type\":\"Title\"},{\"attributes\":{},\"id\":\"61728\",\"type\":\"LinearScale\"},{\"attributes\":{\"items\":[{\"id\":\"61772\"},{\"id\":\"61789\"}]},\"id\":\"61771\",\"type\":\"Legend\"},{\"attributes\":{},\"id\":\"61742\",\"type\":\"ResetTool\"},{\"attributes\":{},\"id\":\"61741\",\"type\":\"SaveTool\"},{\"attributes\":{\"source\":{\"id\":\"61773\"}},\"id\":\"61778\",\"type\":\"CDSView\"},{\"attributes\":{\"data_source\":{\"id\":\"61757\"},\"glyph\":{\"id\":\"61759\"},\"hover_glyph\":null,\"muted_glyph\":null,\"name\":\"sales\",\"nonselection_glyph\":{\"id\":\"61760\"},\"selection_glyph\":null,\"view\":{\"id\":\"61762\"}},\"id\":\"61761\",\"type\":\"GlyphRenderer\"},{\"attributes\":{\"factors\":[\"EU\",\"APAC\",\"LATAM\",\"US\",\"EMEA\",\"Africa\",\"Canada\"],\"range_padding\":0.05},\"id\":\"61722\",\"type\":\"FactorRange\"},{\"attributes\":{\"axis_label\":\"Amount in USD\",\"formatter\":{\"id\":\"61765\"},\"ticker\":{\"id\":\"61734\"}},\"id\":\"61733\",\"type\":\"LinearAxis\"},{\"attributes\":{\"data\":{\"discount\":[177101.0,248899.0,215314.0,185113.0,64926.0,45309.0,0.0],\"index\":[0,1,2,3,4,5,6],\"market\":[\"EU\",\"APAC\",\"LATAM\",\"US\",\"EMEA\",\"Africa\",\"Canada\"],\"sales\":[778958.2245,1343422.2105,811355.38,741432.0433,228620.736,194650.635,10595.28]},\"selected\":{\"id\":\"61769\"},\"selection_policy\":{\"id\":\"61770\"}},\"id\":\"61757\",\"type\":\"ColumnDataSource\"},{\"attributes\":{\"bottom\":{\"expr\":{\"id\":\"61753\"}},\"fill_alpha\":{\"value\":0.1},\"fill_color\":{\"value\":\"#3182bd\"},\"line_alpha\":{\"value\":0.1},\"line_color\":{\"value\":\"#3182bd\"},\"top\":{\"expr\":{\"id\":\"61754\"}},\"width\":{\"value\":0.9},\"x\":{\"field\":\"market\"}},\"id\":\"61760\",\"type\":\"VBar\"},{\"attributes\":{},\"id\":\"61767\",\"type\":\"CategoricalTickFormatter\"},{\"attributes\":{\"fields\":[\"sales\",\"discount\"]},\"id\":\"61756\",\"type\":\"Stack\"},{\"attributes\":{\"source\":{\"id\":\"61757\"}},\"id\":\"61762\",\"type\":\"CDSView\"},{\"attributes\":{\"bottom\":{\"expr\":{\"id\":\"61753\"}},\"fill_alpha\":{\"value\":0.8},\"fill_color\":{\"value\":\"#3182bd\"},\"line_color\":{\"value\":\"#3182bd\"},\"top\":{\"expr\":{\"id\":\"61754\"}},\"width\":{\"value\":0.9},\"x\":{\"field\":\"market\"}},\"id\":\"61759\",\"type\":\"VBar\"},{\"attributes\":{},\"id\":\"61770\",\"type\":\"UnionRenderers\"},{\"attributes\":{},\"id\":\"61740\",\"type\":\"ZoomOutTool\"},{\"attributes\":{\"start\":0},\"id\":\"61724\",\"type\":\"DataRange1d\"},{\"attributes\":{},\"id\":\"61734\",\"type\":\"BasicTicker\"},{\"attributes\":{\"callback\":null,\"tooltips\":\"$name @market: @$name\"},\"id\":\"61743\",\"type\":\"HoverTool\"},{\"attributes\":{},\"id\":\"61769\",\"type\":\"Selection\"},{\"attributes\":{\"axis_label\":\"Sales in USD\",\"formatter\":{\"id\":\"61767\"},\"ticker\":{\"id\":\"61731\"}},\"id\":\"61730\",\"type\":\"CategoricalAxis\"},{\"attributes\":{},\"id\":\"61788\",\"type\":\"UnionRenderers\"},{\"attributes\":{},\"id\":\"61787\",\"type\":\"Selection\"},{\"attributes\":{\"active_drag\":\"auto\",\"active_inspect\":\"auto\",\"active_multi\":null,\"active_scroll\":\"auto\",\"active_tap\":\"auto\",\"tools\":[{\"id\":\"61737\"},{\"id\":\"61738\"},{\"id\":\"61739\"},{\"id\":\"61740\"},{\"id\":\"61741\"},{\"id\":\"61742\"},{\"id\":\"61743\"}]},\"id\":\"61745\",\"type\":\"Toolbar\"},{\"attributes\":{},\"id\":\"61731\",\"type\":\"CategoricalTicker\"},{\"attributes\":{\"fields\":[]},\"id\":\"61753\",\"type\":\"Stack\"},{\"attributes\":{\"label\":{\"value\":\"sales\"},\"renderers\":[{\"id\":\"61761\"}]},\"id\":\"61772\",\"type\":\"LegendItem\"},{\"attributes\":{\"fields\":[\"sales\"]},\"id\":\"61755\",\"type\":\"Stack\"},{\"attributes\":{\"bottom_units\":\"screen\",\"fill_alpha\":0.5,\"fill_color\":\"lightgrey\",\"left_units\":\"screen\",\"level\":\"overlay\",\"line_alpha\":1.0,\"line_color\":\"black\",\"line_dash\":[4,4],\"line_width\":2,\"right_units\":\"screen\",\"top_units\":\"screen\"},\"id\":\"61744\",\"type\":\"BoxAnnotation\"},{\"attributes\":{\"label\":{\"value\":\"discount\"},\"renderers\":[{\"id\":\"61777\"}]},\"id\":\"61789\",\"type\":\"LegendItem\"},{\"attributes\":{},\"id\":\"61737\",\"type\":\"PanTool\"},{\"attributes\":{\"bottom\":{\"expr\":{\"id\":\"61755\"}},\"fill_alpha\":{\"value\":0.1},\"fill_color\":{\"value\":\"#e6550d\"},\"line_alpha\":{\"value\":0.1},\"line_color\":{\"value\":\"#e6550d\"},\"top\":{\"expr\":{\"id\":\"61756\"}},\"width\":{\"value\":0.9},\"x\":{\"field\":\"market\"}},\"id\":\"61776\",\"type\":\"VBar\"},{\"attributes\":{},\"id\":\"61726\",\"type\":\"CategoricalScale\"}],\"root_ids\":[\"61719\"]},\"title\":\"Bokeh Application\",\"version\":\"2.1.1\"}};\n  var render_items = [{\"docid\":\"54bf4d8a-fdd4-4f8b-aec5-fdfa4f0462cc\",\"root_ids\":[\"61719\"],\"roots\":{\"61719\":\"359aa6b3-670a-43d7-a74a-a9928db85acb\"}}];\n  root.Bokeh.embed.embed_items_notebook(docs_json, render_items);\n\n  }\n  if (root.Bokeh !== undefined) {\n    embed_document(root);\n  } else {\n    var attempts = 0;\n    var timer = setInterval(function(root) {\n      if (root.Bokeh !== undefined) {\n        clearInterval(timer);\n        embed_document(root);\n      } else {\n        attempts++;\n        if (attempts > 100) {\n          clearInterval(timer);\n          console.log(\"Bokeh: ERROR: Unable to run BokehJS code because BokehJS library is missing\");\n        }\n      }\n    }, 10, root)\n  }\n})(window);",
      "application/vnd.bokehjs_exec.v0+json": ""
     },
     "metadata": {
      "application/vnd.bokehjs_exec.v0+json": {
       "id": "61719"
      }
     }
    }
   ],
   "source": [
    "p = figure(x_range = df['market'], \n",
    "            title=\"Sales and Discount of X in all Markets\", \n",
    "            y_axis_label = \"Amount in USD\", \n",
    "            tools=\"pan,box_select,zoom_in,zoom_out,save,reset,hover\", \n",
    "            tooltips=\"$name @market: @$name\")\n",
    "colors = [\"#3182bd\", \"#e6550d\"]\n",
    "measures = ['sales','discount']\n",
    "p.vbar_stack(measures, \n",
    "            x='market', \n",
    "            width=0.9, \n",
    "            color=colors, \n",
    "            source=df,\n",
    "            fill_alpha = 0.8,\n",
    "            legend_label=measures)\n",
    "p.xaxis.axis_label = \"Sales in USD\"\n",
    "#p.xaxis.major_label_orientation = 0.9\n",
    "p.x_range.range_padding = 0.05\n",
    "p.y_range.start = 0\n",
    "show(p)"
   ]
  },
  {
   "source": [
    "LINE PLOTS"
   ],
   "cell_type": "markdown",
   "metadata": {}
  },
  {
   "cell_type": "code",
   "execution_count": 199,
   "metadata": {},
   "outputs": [
    {
     "output_type": "stream",
     "name": "stdout",
     "text": [
      "    week          2014          2013\n0      0    23816.4463    48836.5905\n1      1    73070.5054    92706.1145\n2      2   137252.0760   125254.7939\n3      3   193912.4421   161671.6243\n4      4   242135.0516   213748.8916\n5      5   281581.3840   266257.7387\n6      6   340903.2180   299349.5742\n7      7   386085.4578   337816.2597\n8      8   428945.7489   380288.6539\n9      9   468148.7199   427889.4183\n10    10   525391.0285   484835.4342\n11    11   597338.5698   525968.5578\n12    12   674976.0828   564585.8401\n13    13   729935.1510   602031.1712\n14    14   788332.6939   643992.2318\n15    15   851677.9915   691133.2145\n16    16   903554.6012   727964.4753\n17    17   955032.2687   774375.8364\n18    18  1028785.8559   823724.0141\n19    19  1090744.6062   872827.8694\n20    20  1153467.0319   929321.8355\n21    21  1220306.1062  1011267.5945\n22    22  1303175.4439  1102588.3215\n23    23  1393075.0639  1214073.9326\n24    24  1495394.8293  1292327.6516\n25    25  1600186.3120  1394788.5155\n26    26  1677832.7522  1446179.2769\n27    27  1732801.4607  1502207.0609\n28    28  1785566.2260  1552692.4988\n29    29  1835624.8421  1608476.4768\n30    30  1913282.3901  1658693.2485\n31    31  2019008.7702  1714324.0117\n32    32  2123270.1914  1799282.7099\n33    33  2236477.2079  1885844.7915\n34    34  2336837.9621  1955337.8148\n35    35  2450612.1747  2038958.4193\n36    36  2552571.5510  2135183.3501\n37    37  2668248.5635  2239862.8402\n38    38  2781003.6367  2313406.8787\n39    39  2878336.4342  2399939.9411\n40    40  2962891.5913  2453753.7226\n41    41  3067039.8302  2523812.0698\n42    42  3163018.5506  2578597.0574\n43    43  3246340.7413  2648935.0323\n44    44  3372812.5168  2727053.5857\n45    45  3490858.0447  2813916.4691\n46    46  3655716.3080  2891782.4460\n47    47  3793547.3232  2998797.3035\n48    48  3902447.7993  3087963.0715\n49    49  4019381.9760  3167594.9217\n50    50  4119745.8761  3280246.9713\n51    51  4241767.4828  3375069.6408\n52    52  4298613.5147  3403965.3017\n"
     ]
    }
   ],
   "source": [
    "#25. Live comparison of this year’s weekly cumulative sales vs previous year’s weekly cumulative sales.\n",
    "mycursor.execute(\"select a.week, sum(a.sales) over(order by week) as S2014, sum(b.sales) over(order by week) as S2013 from (select week, sum(sales) sales from mv_location_time_sales where year = 2014 group by week) a inner join (select week, sum(sales) sales from mv_location_time_sales where year = 2013 group by week) b on a.week = b.week;\")\n",
    "df = pd.DataFrame(mycursor.fetchall())\n",
    "df = df.rename(columns = {0:'week', 1:'2014', 2: '2013'})\n",
    "print(df)"
   ]
  },
  {
   "cell_type": "code",
   "execution_count": 236,
   "metadata": {},
   "outputs": [
    {
     "output_type": "display_data",
     "data": {
      "text/html": "\n\n\n\n\n\n  <div class=\"bk-root\" id=\"d88acd19-0fb9-43fc-a53d-f69be7e081a9\" data-root-id=\"82610\"></div>\n"
     },
     "metadata": {}
    },
    {
     "output_type": "display_data",
     "data": {
      "application/javascript": "(function(root) {\n  function embed_document(root) {\n    \n  var docs_json = {\"01aea45c-39ef-4cda-ba2e-0ec15ac7fc9f\":{\"roots\":{\"references\":[{\"attributes\":{\"below\":[{\"id\":\"82621\"}],\"center\":[{\"id\":\"82624\"},{\"id\":\"82628\"},{\"id\":\"82659\"}],\"left\":[{\"id\":\"82625\"}],\"plot_height\":400,\"plot_width\":800,\"renderers\":[{\"id\":\"82649\"},{\"id\":\"82665\"}],\"title\":{\"id\":\"82611\"},\"toolbar\":{\"id\":\"82637\"},\"x_range\":{\"id\":\"82613\"},\"x_scale\":{\"id\":\"82617\"},\"y_range\":{\"id\":\"82615\"},\"y_scale\":{\"id\":\"82619\"}},\"id\":\"82610\",\"subtype\":\"Figure\",\"type\":\"Plot\"},{\"attributes\":{\"items\":[{\"id\":\"82660\"},{\"id\":\"82677\"}],\"location\":\"top_left\"},\"id\":\"82659\",\"type\":\"Legend\"},{\"attributes\":{\"source\":{\"id\":\"82661\"}},\"id\":\"82666\",\"type\":\"CDSView\"},{\"attributes\":{\"source\":{\"id\":\"82645\"}},\"id\":\"82650\",\"type\":\"CDSView\"},{\"attributes\":{\"callback\":null,\"tooltips\":[[\"Week: \",\"@week\"],[\"2014: \",\"@2014\"],[\"2013: \",\"@2013\"]]},\"id\":\"82635\",\"type\":\"HoverTool\"},{\"attributes\":{},\"id\":\"82653\",\"type\":\"BasicTickFormatter\"},{\"attributes\":{},\"id\":\"82655\",\"type\":\"BasicTickFormatter\"},{\"attributes\":{\"axis\":{\"id\":\"82625\"},\"dimension\":1,\"ticker\":null},\"id\":\"82628\",\"type\":\"Grid\"},{\"attributes\":{\"axis\":{\"id\":\"82621\"},\"ticker\":null},\"id\":\"82624\",\"type\":\"Grid\"},{\"attributes\":{\"overlay\":{\"id\":\"82636\"}},\"id\":\"82630\",\"type\":\"BoxSelectTool\"},{\"attributes\":{},\"id\":\"82615\",\"type\":\"DataRange1d\"},{\"attributes\":{\"label\":{\"value\":\"2014\"},\"renderers\":[{\"id\":\"82649\"}]},\"id\":\"82660\",\"type\":\"LegendItem\"},{\"attributes\":{},\"id\":\"82658\",\"type\":\"UnionRenderers\"},{\"attributes\":{\"line_alpha\":0.1,\"line_color\":\"#e6550d\",\"line_width\":3,\"x\":{\"field\":\"week\"},\"y\":{\"field\":\"2013\"}},\"id\":\"82664\",\"type\":\"Line\"},{\"attributes\":{\"formatter\":{\"id\":\"82655\"},\"ticker\":{\"id\":\"82622\"}},\"id\":\"82621\",\"type\":\"LinearAxis\"},{\"attributes\":{\"data_source\":{\"id\":\"82645\"},\"glyph\":{\"id\":\"82647\"},\"hover_glyph\":null,\"muted_glyph\":null,\"nonselection_glyph\":{\"id\":\"82648\"},\"selection_glyph\":null,\"view\":{\"id\":\"82650\"}},\"id\":\"82649\",\"type\":\"GlyphRenderer\"},{\"attributes\":{},\"id\":\"82657\",\"type\":\"Selection\"},{\"attributes\":{},\"id\":\"82619\",\"type\":\"LinearScale\"},{\"attributes\":{\"line_alpha\":0.1,\"line_color\":\"#3182bd\",\"line_width\":3,\"x\":{\"field\":\"week\"},\"y\":{\"field\":\"2014\"}},\"id\":\"82648\",\"type\":\"Line\"},{\"attributes\":{},\"id\":\"82613\",\"type\":\"DataRange1d\"},{\"attributes\":{\"data_source\":{\"id\":\"82661\"},\"glyph\":{\"id\":\"82663\"},\"hover_glyph\":null,\"muted_glyph\":null,\"nonselection_glyph\":{\"id\":\"82664\"},\"selection_glyph\":null,\"view\":{\"id\":\"82666\"}},\"id\":\"82665\",\"type\":\"GlyphRenderer\"},{\"attributes\":{\"bottom_units\":\"screen\",\"fill_alpha\":0.5,\"fill_color\":\"lightgrey\",\"left_units\":\"screen\",\"level\":\"overlay\",\"line_alpha\":1.0,\"line_color\":\"black\",\"line_dash\":[4,4],\"line_width\":2,\"right_units\":\"screen\",\"top_units\":\"screen\"},\"id\":\"82636\",\"type\":\"BoxAnnotation\"},{\"attributes\":{},\"id\":\"82632\",\"type\":\"ZoomOutTool\"},{\"attributes\":{},\"id\":\"82633\",\"type\":\"SaveTool\"},{\"attributes\":{},\"id\":\"82622\",\"type\":\"BasicTicker\"},{\"attributes\":{\"line_color\":\"#3182bd\",\"line_width\":3,\"x\":{\"field\":\"week\"},\"y\":{\"field\":\"2014\"}},\"id\":\"82647\",\"type\":\"Line\"},{\"attributes\":{},\"id\":\"82675\",\"type\":\"Selection\"},{\"attributes\":{\"text\":\"Weekly Sales Comparison\"},\"id\":\"82611\",\"type\":\"Title\"},{\"attributes\":{},\"id\":\"82629\",\"type\":\"PanTool\"},{\"attributes\":{},\"id\":\"82634\",\"type\":\"ResetTool\"},{\"attributes\":{},\"id\":\"82676\",\"type\":\"UnionRenderers\"},{\"attributes\":{\"data\":{\"2013\":[48836.5905,92706.1145,125254.7939,161671.6243,213748.8916,266257.7387,299349.5742,337816.2597,380288.6539,427889.4183,484835.4342,525968.5578,564585.8401,602031.1712,643992.2318,691133.2145,727964.4753,774375.8364,823724.0141,872827.8694,929321.8355,1011267.5945,1102588.3215,1214073.9326,1292327.6516,1394788.5155,1446179.2769,1502207.0609,1552692.4988,1608476.4768,1658693.2485,1714324.0117,1799282.7099,1885844.7915,1955337.8148,2038958.4193,2135183.3501,2239862.8402,2313406.8787,2399939.9411,2453753.7226,2523812.0698,2578597.0574,2648935.0323,2727053.5857,2813916.4691,2891782.446,2998797.3035,3087963.0715,3167594.9217,3280246.9713,3375069.6408,3403965.3017],\"2014\":[23816.4463,73070.5054,137252.076,193912.4421,242135.0516,281581.384,340903.218,386085.4578,428945.7489,468148.7199,525391.0285,597338.5698,674976.0828,729935.151,788332.6939,851677.9915,903554.6012,955032.2687,1028785.8559,1090744.6062,1153467.0319,1220306.1062,1303175.4439,1393075.0639,1495394.8293,1600186.312,1677832.7522,1732801.4607,1785566.226,1835624.8421,1913282.3901,2019008.7702,2123270.1914,2236477.2079,2336837.9621,2450612.1747,2552571.551,2668248.5635,2781003.6367,2878336.4342,2962891.5913,3067039.8302,3163018.5506,3246340.7413,3372812.5168,3490858.0447,3655716.308,3793547.3232,3902447.7993,4019381.976,4119745.8761,4241767.4828,4298613.5147],\"index\":[0,1,2,3,4,5,6,7,8,9,10,11,12,13,14,15,16,17,18,19,20,21,22,23,24,25,26,27,28,29,30,31,32,33,34,35,36,37,38,39,40,41,42,43,44,45,46,47,48,49,50,51,52],\"week\":[0,1,2,3,4,5,6,7,8,9,10,11,12,13,14,15,16,17,18,19,20,21,22,23,24,25,26,27,28,29,30,31,32,33,34,35,36,37,38,39,40,41,42,43,44,45,46,47,48,49,50,51,52]},\"selected\":{\"id\":\"82675\"},\"selection_policy\":{\"id\":\"82676\"}},\"id\":\"82661\",\"type\":\"ColumnDataSource\"},{\"attributes\":{\"active_drag\":\"auto\",\"active_inspect\":\"auto\",\"active_multi\":null,\"active_scroll\":\"auto\",\"active_tap\":\"auto\",\"tools\":[{\"id\":\"82629\"},{\"id\":\"82630\"},{\"id\":\"82631\"},{\"id\":\"82632\"},{\"id\":\"82633\"},{\"id\":\"82634\"},{\"id\":\"82635\"}]},\"id\":\"82637\",\"type\":\"Toolbar\"},{\"attributes\":{},\"id\":\"82631\",\"type\":\"ZoomInTool\"},{\"attributes\":{\"axis_label\":\"Sales in USD\",\"formatter\":{\"id\":\"82653\"},\"ticker\":{\"id\":\"82626\"}},\"id\":\"82625\",\"type\":\"LinearAxis\"},{\"attributes\":{\"data\":{\"2013\":[48836.5905,92706.1145,125254.7939,161671.6243,213748.8916,266257.7387,299349.5742,337816.2597,380288.6539,427889.4183,484835.4342,525968.5578,564585.8401,602031.1712,643992.2318,691133.2145,727964.4753,774375.8364,823724.0141,872827.8694,929321.8355,1011267.5945,1102588.3215,1214073.9326,1292327.6516,1394788.5155,1446179.2769,1502207.0609,1552692.4988,1608476.4768,1658693.2485,1714324.0117,1799282.7099,1885844.7915,1955337.8148,2038958.4193,2135183.3501,2239862.8402,2313406.8787,2399939.9411,2453753.7226,2523812.0698,2578597.0574,2648935.0323,2727053.5857,2813916.4691,2891782.446,2998797.3035,3087963.0715,3167594.9217,3280246.9713,3375069.6408,3403965.3017],\"2014\":[23816.4463,73070.5054,137252.076,193912.4421,242135.0516,281581.384,340903.218,386085.4578,428945.7489,468148.7199,525391.0285,597338.5698,674976.0828,729935.151,788332.6939,851677.9915,903554.6012,955032.2687,1028785.8559,1090744.6062,1153467.0319,1220306.1062,1303175.4439,1393075.0639,1495394.8293,1600186.312,1677832.7522,1732801.4607,1785566.226,1835624.8421,1913282.3901,2019008.7702,2123270.1914,2236477.2079,2336837.9621,2450612.1747,2552571.551,2668248.5635,2781003.6367,2878336.4342,2962891.5913,3067039.8302,3163018.5506,3246340.7413,3372812.5168,3490858.0447,3655716.308,3793547.3232,3902447.7993,4019381.976,4119745.8761,4241767.4828,4298613.5147],\"index\":[0,1,2,3,4,5,6,7,8,9,10,11,12,13,14,15,16,17,18,19,20,21,22,23,24,25,26,27,28,29,30,31,32,33,34,35,36,37,38,39,40,41,42,43,44,45,46,47,48,49,50,51,52],\"week\":[0,1,2,3,4,5,6,7,8,9,10,11,12,13,14,15,16,17,18,19,20,21,22,23,24,25,26,27,28,29,30,31,32,33,34,35,36,37,38,39,40,41,42,43,44,45,46,47,48,49,50,51,52]},\"selected\":{\"id\":\"82657\"},\"selection_policy\":{\"id\":\"82658\"}},\"id\":\"82645\",\"type\":\"ColumnDataSource\"},{\"attributes\":{\"label\":{\"value\":\"2013\"},\"renderers\":[{\"id\":\"82665\"}]},\"id\":\"82677\",\"type\":\"LegendItem\"},{\"attributes\":{\"line_color\":\"#e6550d\",\"line_width\":3,\"x\":{\"field\":\"week\"},\"y\":{\"field\":\"2013\"}},\"id\":\"82663\",\"type\":\"Line\"},{\"attributes\":{},\"id\":\"82626\",\"type\":\"BasicTicker\"},{\"attributes\":{},\"id\":\"82617\",\"type\":\"LinearScale\"}],\"root_ids\":[\"82610\"]},\"title\":\"Bokeh Application\",\"version\":\"2.1.1\"}};\n  var render_items = [{\"docid\":\"01aea45c-39ef-4cda-ba2e-0ec15ac7fc9f\",\"root_ids\":[\"82610\"],\"roots\":{\"82610\":\"d88acd19-0fb9-43fc-a53d-f69be7e081a9\"}}];\n  root.Bokeh.embed.embed_items_notebook(docs_json, render_items);\n\n  }\n  if (root.Bokeh !== undefined) {\n    embed_document(root);\n  } else {\n    var attempts = 0;\n    var timer = setInterval(function(root) {\n      if (root.Bokeh !== undefined) {\n        clearInterval(timer);\n        embed_document(root);\n      } else {\n        attempts++;\n        if (attempts > 100) {\n          clearInterval(timer);\n          console.log(\"Bokeh: ERROR: Unable to run BokehJS code because BokehJS library is missing\");\n        }\n      }\n    }, 10, root)\n  }\n})(window);",
      "application/vnd.bokehjs_exec.v0+json": ""
     },
     "metadata": {
      "application/vnd.bokehjs_exec.v0+json": {
       "id": "82610"
      }
     }
    }
   ],
   "source": [
    "sc = ColumnDataSource(df)\n",
    "p = figure(plot_width=800, plot_height=400, title=\"Weekly Sales Comparison\", \n",
    "            y_axis_label = \"Sales in USD\", \n",
    "            tools=\"pan,box_select,zoom_in,zoom_out,save,reset,hover\", \n",
    "            tooltips=[(\"Week: \", \"@week\"), (\"2014: \", \"@2014\"), (\"2013: \", \"@2013\")])\n",
    "\n",
    "# add a line renderer\n",
    "p.line('week', '2014', source = df, line_width=3, color = '#3182bd', legend_label='2014')\n",
    "p.line('week', '2013', source = df, line_width=3, color = '#e6550d', legend_label='2013') \n",
    "p.legend.location = \"top_left\"\n",
    "show(p)"
   ]
  },
  {
   "cell_type": "code",
   "execution_count": 239,
   "metadata": {},
   "outputs": [
    {
     "output_type": "display_data",
     "data": {
      "text/html": "\n\n\n\n\n\n  <div class=\"bk-root\" id=\"13203ff2-d2b1-4ca7-897f-377a5b680bf6\" data-root-id=\"86771\"></div>\n"
     },
     "metadata": {}
    },
    {
     "output_type": "display_data",
     "data": {
      "application/javascript": "(function(root) {\n  function embed_document(root) {\n    \n  var docs_json = {\"34412888-1154-464b-b627-c03fb2051f22\":{\"roots\":{\"references\":[{\"attributes\":{\"plot_height\":700,\"plot_width\":700,\"renderers\":[{\"id\":\"86781\"}],\"title\":{\"id\":\"86774\"},\"toolbar\":{\"id\":\"86778\"},\"x_range\":{\"id\":\"86769\"},\"x_scale\":{\"id\":\"87864\"},\"y_range\":{\"id\":\"86770\"},\"y_scale\":{\"id\":\"87865\"}},\"id\":\"86771\",\"type\":\"Plot\"},{\"attributes\":{},\"id\":\"86823\",\"type\":\"EdgesAndLinkedNodes\"},{\"attributes\":{},\"id\":\"87875\",\"type\":\"Selection\"},{\"attributes\":{},\"id\":\"87877\",\"type\":\"Selection\"},{\"attributes\":{\"active_drag\":\"auto\",\"active_inspect\":\"auto\",\"active_multi\":null,\"active_scroll\":\"auto\",\"active_tap\":\"auto\",\"tools\":[{\"id\":\"86775\"},{\"id\":\"86776\"},{\"id\":\"86777\"}]},\"id\":\"86778\",\"type\":\"Toolbar\"},{\"attributes\":{},\"id\":\"87878\",\"type\":\"UnionRenderers\"},{\"attributes\":{\"line_alpha\":{\"value\":0.8},\"line_color\":{\"value\":\"#CCCCCC\"},\"line_width\":{\"value\":5}},\"id\":\"86806\",\"type\":\"MultiLine\"},{\"attributes\":{\"text\":\"Graph Interaction Demonstration\"},\"id\":\"86774\",\"type\":\"Title\"},{\"attributes\":{},\"id\":\"86821\",\"type\":\"NodesAndLinkedEdges\"},{\"attributes\":{\"data\":{\"club\":[\"Mr. Hi\",\"Mr. Hi\",\"Mr. Hi\",\"Mr. Hi\",\"Mr. Hi\",\"Mr. Hi\",\"Mr. Hi\",\"Mr. Hi\",\"Mr. Hi\",\"Officer\",\"Mr. Hi\",\"Mr. Hi\",\"Mr. Hi\",\"Mr. Hi\",\"Officer\",\"Officer\",\"Mr. Hi\",\"Mr. Hi\",\"Officer\",\"Mr. Hi\",\"Officer\",\"Mr. Hi\",\"Officer\",\"Officer\",\"Officer\",\"Officer\",\"Officer\",\"Officer\",\"Officer\",\"Officer\",\"Officer\",\"Officer\",\"Officer\",\"Officer\"],\"index\":[0,1,2,3,4,5,6,7,8,9,10,11,12,13,14,15,16,17,18,19,20,21,22,23,24,25,26,27,28,29,30,31,32,33]},\"selected\":{\"id\":\"87877\"},\"selection_policy\":{\"id\":\"87878\"}},\"id\":\"86783\",\"type\":\"ColumnDataSource\"},{\"attributes\":{\"line_color\":{\"value\":\"#abdda4\"},\"line_width\":{\"value\":5}},\"id\":\"86816\",\"type\":\"MultiLine\"},{\"attributes\":{\"end\":1.1,\"start\":-1.1},\"id\":\"86770\",\"type\":\"Range1d\"},{\"attributes\":{\"fill_color\":{\"value\":\"#fdae61\"},\"size\":{\"units\":\"screen\",\"value\":15}},\"id\":\"86796\",\"type\":\"Circle\"},{\"attributes\":{\"source\":{\"id\":\"86783\"}},\"id\":\"86785\",\"type\":\"CDSView\"},{\"attributes\":{\"graph_layout\":{\"0\":[1.0,5.200874811222461e-09],\"1\":[0.9829730987698075,0.18374951687777052],\"10\":[-0.2736629534524478,0.9618256731695953],\"11\":[-0.4457383143150295,0.8951633020694276],\"12\":[-0.6026346669454482,0.7980172083092125],\"13\":[-0.7390088423744644,0.6736956880896635],\"14\":[-0.8502171619409874,0.5264321613022418],\"15\":[-0.9324721677053746,0.3612417925562752],\"16\":[-0.9829730970167299,0.1837495317789317],\"17\":[-0.9999999982469223,-8.222190168562394e-08],\"18\":[-0.9829730970167299,-0.18374946177253734],\"19\":[-0.9324722273100193,-0.36124172254988085],\"2\":[0.932472229063097,0.36124167334698576],\"20\":[-0.8502171619409874,-0.5264320912958473],\"21\":[-0.7390089019791091,-0.6736956776879138],\"22\":[-0.6026347265500929,-0.7980171383028182],\"23\":[-0.44573837391967425,-0.895163291667678],\"24\":[-0.27366289384780307,-0.9618256627678456],\"25\":[-0.0922681605182429,-0.9957342087090403],\"26\":[0.09226818462306245,-0.9957342087090403],\"27\":[0.27366292540320325,-0.9618256627678456],\"28\":[0.44573837567275204,-0.895163291667678],\"29\":[0.6026347283031706,-0.7980171383028182],\"3\":[0.8502171040894204,0.5264321613022418],\"30\":[0.7390087845228973,-0.6736957968972033],\"31\":[0.8502170444847756,-0.5264322701097816],\"32\":[0.932472229063097,-0.36124169274755846],\"33\":[0.9829730987698075,-0.18374944687137618],\"4\":[0.7390089037321868,0.6736956284850187],\"5\":[0.6026346686985259,0.7980172083092125],\"6\":[0.4457383458704297,0.8951633020694276],\"7\":[0.27366298500784797,0.9618256731695953],\"8\":[0.09226837088757722,0.9957341595061452],\"9\":[-0.09226833188159647,0.9957341595061452]}},\"id\":\"86790\",\"type\":\"StaticLayoutProvider\"},{\"attributes\":{\"bottom_units\":\"screen\",\"fill_alpha\":0.5,\"fill_color\":\"lightgrey\",\"left_units\":\"screen\",\"level\":\"overlay\",\"line_alpha\":1.0,\"line_color\":\"black\",\"line_dash\":[4,4],\"line_width\":2,\"right_units\":\"screen\",\"top_units\":\"screen\"},\"id\":\"87874\",\"type\":\"BoxAnnotation\"},{\"attributes\":{\"source\":{\"id\":\"86787\"}},\"id\":\"86789\",\"type\":\"CDSView\"},{\"attributes\":{},\"id\":\"87865\",\"type\":\"LinearScale\"},{\"attributes\":{\"callback\":null},\"id\":\"86776\",\"type\":\"TapTool\"},{\"attributes\":{\"line_color\":{\"value\":\"#fdae61\"},\"line_width\":{\"value\":5}},\"id\":\"86811\",\"type\":\"MultiLine\"},{\"attributes\":{\"end\":1.1,\"start\":-1.1},\"id\":\"86769\",\"type\":\"Range1d\"},{\"attributes\":{},\"id\":\"87864\",\"type\":\"LinearScale\"},{\"attributes\":{\"edge_renderer\":{\"id\":\"86788\"},\"inspection_policy\":{\"id\":\"86823\"},\"layout_provider\":{\"id\":\"86790\"},\"node_renderer\":{\"id\":\"86784\"},\"selection_policy\":{\"id\":\"86821\"}},\"id\":\"86781\",\"type\":\"GraphRenderer\"},{\"attributes\":{\"callback\":null,\"tooltips\":null},\"id\":\"86775\",\"type\":\"HoverTool\"},{\"attributes\":{\"fill_color\":{\"value\":\"#abdda4\"},\"size\":{\"units\":\"screen\",\"value\":15}},\"id\":\"86801\",\"type\":\"Circle\"},{\"attributes\":{\"overlay\":{\"id\":\"87874\"}},\"id\":\"86777\",\"type\":\"BoxSelectTool\"},{\"attributes\":{\"data_source\":{\"id\":\"86783\"},\"glyph\":{\"id\":\"86791\"},\"hover_glyph\":{\"id\":\"86801\"},\"muted_glyph\":null,\"selection_glyph\":{\"id\":\"86796\"},\"view\":{\"id\":\"86785\"}},\"id\":\"86784\",\"type\":\"GlyphRenderer\"},{\"attributes\":{\"data_source\":{\"id\":\"86787\"},\"glyph\":{\"id\":\"86806\"},\"hover_glyph\":{\"id\":\"86816\"},\"muted_glyph\":null,\"selection_glyph\":{\"id\":\"86811\"},\"view\":{\"id\":\"86789\"}},\"id\":\"86788\",\"type\":\"GlyphRenderer\"},{\"attributes\":{\"fill_color\":{\"value\":\"#2b83ba\"},\"size\":{\"units\":\"screen\",\"value\":15}},\"id\":\"86791\",\"type\":\"Circle\"},{\"attributes\":{\"data\":{\"end\":[1,2,3,4,5,6,7,8,10,11,12,13,17,19,21,31,2,3,7,13,17,19,21,30,3,7,8,9,13,27,28,32,7,12,13,6,10,6,10,16,16,30,32,33,33,33,32,33,32,33,32,33,33,32,33,32,33,25,27,29,32,33,25,27,31,31,29,33,33,31,33,32,33,32,33,32,33,33],\"start\":[0,0,0,0,0,0,0,0,0,0,0,0,0,0,0,0,1,1,1,1,1,1,1,1,2,2,2,2,2,2,2,2,3,3,3,4,4,5,5,5,6,8,8,8,9,13,14,14,15,15,18,18,19,20,20,22,22,23,23,23,23,23,24,24,24,25,26,26,27,28,28,29,29,30,30,31,31,32]},\"selected\":{\"id\":\"87875\"},\"selection_policy\":{\"id\":\"87876\"}},\"id\":\"86787\",\"type\":\"ColumnDataSource\"},{\"attributes\":{},\"id\":\"87876\",\"type\":\"UnionRenderers\"}],\"root_ids\":[\"86771\"]},\"title\":\"Bokeh Application\",\"version\":\"2.1.1\"}};\n  var render_items = [{\"docid\":\"34412888-1154-464b-b627-c03fb2051f22\",\"root_ids\":[\"86771\"],\"roots\":{\"86771\":\"13203ff2-d2b1-4ca7-897f-377a5b680bf6\"}}];\n  root.Bokeh.embed.embed_items_notebook(docs_json, render_items);\n\n  }\n  if (root.Bokeh !== undefined) {\n    embed_document(root);\n  } else {\n    var attempts = 0;\n    var timer = setInterval(function(root) {\n      if (root.Bokeh !== undefined) {\n        clearInterval(timer);\n        embed_document(root);\n      } else {\n        attempts++;\n        if (attempts > 100) {\n          clearInterval(timer);\n          console.log(\"Bokeh: ERROR: Unable to run BokehJS code because BokehJS library is missing\");\n        }\n      }\n    }, 10, root)\n  }\n})(window);",
      "application/vnd.bokehjs_exec.v0+json": ""
     },
     "metadata": {
      "application/vnd.bokehjs_exec.v0+json": {
       "id": "86771"
      }
     }
    }
   ],
   "source": [
    "\n",
    "G=nx.karate_club_graph()\n",
    "\n",
    "plot = Plot(plot_width=700, plot_height=700,\n",
    "            x_range=Range1d(-1.1,1.1), y_range=Range1d(-1.1,1.1))\n",
    "plot.title.text = \"Graph Interaction Demonstration\"\n",
    "\n",
    "plot.add_tools(HoverTool(tooltips=None), TapTool(), BoxSelectTool())\n",
    "\n",
    "graph_renderer = from_networkx(G, nx.circular_layout, scale=1, center=(0,0))\n",
    "\n",
    "graph_renderer.node_renderer.glyph = Circle(size=15, fill_color=Spectral4[0])\n",
    "graph_renderer.node_renderer.selection_glyph = Circle(size=15, fill_color=Spectral4[2])\n",
    "graph_renderer.node_renderer.hover_glyph = Circle(size=15, fill_color=Spectral4[1])\n",
    "\n",
    "graph_renderer.edge_renderer.glyph = MultiLine(line_color=\"#CCCCCC\", line_alpha=0.8, line_width=5)\n",
    "graph_renderer.edge_renderer.selection_glyph = MultiLine(line_color=Spectral4[2], line_width=5)\n",
    "graph_renderer.edge_renderer.hover_glyph = MultiLine(line_color=Spectral4[1], line_width=5)\n",
    "\n",
    "graph_renderer.selection_policy = NodesAndLinkedEdges()\n",
    "graph_renderer.inspection_policy = EdgesAndLinkedNodes()\n",
    "\n",
    "plot.renderers.append(graph_renderer)\n",
    "\n",
    "output_file(\"interactive_graphs.html\")\n",
    "show(plot)"
   ]
  },
  {
   "cell_type": "code",
   "execution_count": 280,
   "metadata": {},
   "outputs": [
    {
     "output_type": "execute_result",
     "data": {
      "text/plain": [
       "                                                   P1  \\\n",
       "0                              Coloredge Poster Frame   \n",
       "1   Kensington SlimBlade Notebook Wireless Mouse w...   \n",
       "2                    ACCOHIDE 3-Ring Binder, Blue, 1\"   \n",
       "3                    ACCOHIDE 3-Ring Binder, Blue, 1\"   \n",
       "4   Xerox 4200 Series MultiUse Premium Copy Paper ...   \n",
       "..                                                ...   \n",
       "95                                     Nontoxic Chalk   \n",
       "96                         Poly Designer Cover & Back   \n",
       "97                         Poly Designer Cover & Back   \n",
       "98                         Poly Designer Cover & Back   \n",
       "99                  Fellowes Neat Ideas Storage Cubes   \n",
       "\n",
       "                                                   P2  \n",
       "0   Kensington SlimBlade Notebook Wireless Mouse w...  \n",
       "1                              Coloredge Poster Frame  \n",
       "2   Xerox 4200 Series MultiUse Premium Copy Paper ...  \n",
       "3                       Logitech diNovo Edge Keyboard  \n",
       "4                    ACCOHIDE 3-Ring Binder, Blue, 1\"  \n",
       "..                                                ...  \n",
       "95                  Fellowes Neat Ideas Storage Cubes  \n",
       "96                             Coloredge Poster Frame  \n",
       "97                                     Nontoxic Chalk  \n",
       "98                  Fellowes Neat Ideas Storage Cubes  \n",
       "99                             Coloredge Poster Frame  \n",
       "\n",
       "[100 rows x 2 columns]"
      ],
      "text/html": "<div>\n<style scoped>\n    .dataframe tbody tr th:only-of-type {\n        vertical-align: middle;\n    }\n\n    .dataframe tbody tr th {\n        vertical-align: top;\n    }\n\n    .dataframe thead th {\n        text-align: right;\n    }\n</style>\n<table border=\"1\" class=\"dataframe\">\n  <thead>\n    <tr style=\"text-align: right;\">\n      <th></th>\n      <th>P1</th>\n      <th>P2</th>\n    </tr>\n  </thead>\n  <tbody>\n    <tr>\n      <th>0</th>\n      <td>Coloredge Poster Frame</td>\n      <td>Kensington SlimBlade Notebook Wireless Mouse w...</td>\n    </tr>\n    <tr>\n      <th>1</th>\n      <td>Kensington SlimBlade Notebook Wireless Mouse w...</td>\n      <td>Coloredge Poster Frame</td>\n    </tr>\n    <tr>\n      <th>2</th>\n      <td>ACCOHIDE 3-Ring Binder, Blue, 1\"</td>\n      <td>Xerox 4200 Series MultiUse Premium Copy Paper ...</td>\n    </tr>\n    <tr>\n      <th>3</th>\n      <td>ACCOHIDE 3-Ring Binder, Blue, 1\"</td>\n      <td>Logitech diNovo Edge Keyboard</td>\n    </tr>\n    <tr>\n      <th>4</th>\n      <td>Xerox 4200 Series MultiUse Premium Copy Paper ...</td>\n      <td>ACCOHIDE 3-Ring Binder, Blue, 1\"</td>\n    </tr>\n    <tr>\n      <th>...</th>\n      <td>...</td>\n      <td>...</td>\n    </tr>\n    <tr>\n      <th>95</th>\n      <td>Nontoxic Chalk</td>\n      <td>Fellowes Neat Ideas Storage Cubes</td>\n    </tr>\n    <tr>\n      <th>96</th>\n      <td>Poly Designer Cover &amp; Back</td>\n      <td>Coloredge Poster Frame</td>\n    </tr>\n    <tr>\n      <th>97</th>\n      <td>Poly Designer Cover &amp; Back</td>\n      <td>Nontoxic Chalk</td>\n    </tr>\n    <tr>\n      <th>98</th>\n      <td>Poly Designer Cover &amp; Back</td>\n      <td>Fellowes Neat Ideas Storage Cubes</td>\n    </tr>\n    <tr>\n      <th>99</th>\n      <td>Fellowes Neat Ideas Storage Cubes</td>\n      <td>Coloredge Poster Frame</td>\n    </tr>\n  </tbody>\n</table>\n<p>100 rows × 2 columns</p>\n</div>"
     },
     "metadata": {},
     "execution_count": 280
    }
   ],
   "source": [
    "\n",
    "mycursor.execute(\"select a.product_name, b.product_name from (select distinct s.order_id, p.product_name from sales_fact s inner join product_dim p on s.product_id = p.product_id where s.customer_id = 'AA-10645' or s.customer_id = 'AA-10375') a inner join (select distinct s.order_id, p.product_name from sales_fact s inner join product_dim p on s.product_id = p.product_id where s.customer_id = 'AA-10645' or s.customer_id = 'AA-10375') b on a.order_id = b.order_id where a.product_name != b.product_name limit 100\")\n",
    "df = pd.DataFrame(mycursor.fetchall())\n",
    "df = df.rename(columns = {0:'P1', 1:'P2'})\n",
    "df"
   ]
  },
  {
   "cell_type": "code",
   "execution_count": 281,
   "metadata": {},
   "outputs": [],
   "source": [
    "g = nx.from_pandas_edgelist(df, source = 'P1', target = 'P2')"
   ]
  },
  {
   "cell_type": "code",
   "execution_count": 282,
   "metadata": {},
   "outputs": [
    {
     "output_type": "display_data",
     "data": {
      "text/html": "\n\n\n\n\n\n  <div class=\"bk-root\" id=\"4ca426a2-f8c6-4df9-b4ef-da110fb87c9b\" data-root-id=\"125133\"></div>\n"
     },
     "metadata": {}
    },
    {
     "output_type": "display_data",
     "data": {
      "application/javascript": "(function(root) {\n  function embed_document(root) {\n    \n  var docs_json = {\"bc243ac9-f53e-4822-a04b-082d2c773f76\":{\"roots\":{\"references\":[{\"attributes\":{\"plot_height\":700,\"plot_width\":700,\"renderers\":[{\"id\":\"125143\"}],\"title\":{\"id\":\"125136\"},\"toolbar\":{\"id\":\"125140\"},\"x_range\":{\"id\":\"125131\"},\"x_scale\":{\"id\":\"126617\"},\"y_range\":{\"id\":\"125132\"},\"y_scale\":{\"id\":\"126618\"}},\"id\":\"125133\",\"type\":\"Plot\"},{\"attributes\":{\"source\":{\"id\":\"125149\"}},\"id\":\"125151\",\"type\":\"CDSView\"},{\"attributes\":{\"bottom_units\":\"screen\",\"fill_alpha\":0.5,\"fill_color\":\"lightgrey\",\"left_units\":\"screen\",\"level\":\"overlay\",\"line_alpha\":1.0,\"line_color\":\"black\",\"line_dash\":[4,4],\"line_width\":2,\"right_units\":\"screen\",\"top_units\":\"screen\"},\"id\":\"126627\",\"type\":\"BoxAnnotation\"},{\"attributes\":{\"data\":{\"index\":[\"Coloredge Poster Frame\",\"Kensington SlimBlade Notebook Wireless Mouse with Nano Receiver \",\"ACCOHIDE 3-Ring Binder, Blue, 1\\\"\",\"Xerox 4200 Series MultiUse Premium Copy Paper (20Lb. and 84 Bright)\",\"Logitech diNovo Edge Keyboard\",\"Clear Mylar Reinforcing Strips\",\"Xerox 1895\",\"Dexim XPower Skin Super-Thin Power Case for iPhone 5 - Black\",\"Novimex Bag Chairs, Red\",\"Ibico Binder Covers, Recycled\",\"Advantus Paper Clips, Metal\",\"Smead Trays, Single Width\",\"Kleencut Box Cutter, High Speed\",\"Ikea Classic Bookcase, Traditional\",\"Green Bar Cards & Envelopes, Premium\",\"Rubbermaid Door Stop, Erganomic\",\"Hoover Toaster, Red\",\"Eaton Memo Slips, Multicolor\",\"Rogers Shelving, Wire Frame\",\"Eldon Box, Blue\",\"Advantus Photo Frame, Durable\",\"Rubbermaid Frame, Erganomic\",\"Barricks Training Table, Rectangular\",\"Advantus Paper Clips, Bulk Pack\",\"OIC Thumb Tacks, Assorted Sizes\",\"Tenex Folders, Blue\",\"Xerox 191\",\"Avoid Verbal Orders Carbonless Minifold Book\",\"Ultra Door Push Plate\",\"Linden 10\\\" Round Wall Clock, Black\",\"Cisco IP\\u00a0Phone\\u00a07961G VoIP\\u00a0phone\\u00a0- Dark gray\",\"Hon Deluxe Fabric Upholstered Stacking Chairs, Rounded Back\",\"Padded Folding Chairs, Black, 4/Carton\",\"Panasonic Kx-TS550\",\"Hon Olson Stacker Chairs\",\"Staples\",\"Tennsco Stur-D-Stor Boltless Shelving, 5 Shelves, 24\\\" Deep, Sand\",\"Nontoxic Chalk\",\"Poly Designer Cover & Back\",\"Fellowes Neat Ideas Storage Cubes\"]},\"selected\":{\"id\":\"126630\"},\"selection_policy\":{\"id\":\"126631\"}},\"id\":\"125145\",\"type\":\"ColumnDataSource\"},{\"attributes\":{\"callback\":null},\"id\":\"125138\",\"type\":\"TapTool\"},{\"attributes\":{},\"id\":\"126629\",\"type\":\"UnionRenderers\"},{\"attributes\":{},\"id\":\"126630\",\"type\":\"Selection\"},{\"attributes\":{},\"id\":\"125185\",\"type\":\"EdgesAndLinkedNodes\"},{\"attributes\":{\"line_alpha\":{\"value\":0.8},\"line_color\":{\"value\":\"#CCCCCC\"},\"line_width\":{\"value\":5}},\"id\":\"125168\",\"type\":\"MultiLine\"},{\"attributes\":{},\"id\":\"125183\",\"type\":\"NodesAndLinkedEdges\"},{\"attributes\":{\"fill_color\":{\"value\":\"#fdae61\"},\"size\":{\"units\":\"screen\",\"value\":15}},\"id\":\"125158\",\"type\":\"Circle\"},{\"attributes\":{},\"id\":\"126631\",\"type\":\"UnionRenderers\"},{\"attributes\":{\"graph_layout\":{\"ACCOHIDE 3-Ring Binder, Blue, 1\\\"\":[0.9510565401971162,0.3090170009939096],\"Advantus Paper Clips, Bulk Pack\":[-0.8910065221928564,-0.45399054755747303],\"Advantus Paper Clips, Metal\":[-3.993649320600646e-08,0.9999999958029714],\"Advantus Photo Frame, Durable\":[-0.9999999924502102,-8.784491003645701e-08],\"Avoid Verbal Orders Carbonless Minifold Book\":[-0.4539906625697334,-0.8910064667852405],\"Barricks Training Table, Rectangular\":[-0.9510565326473263,-0.3090169720358549],\"Cisco IP\\u00a0Phone\\u00a07961G VoIP\\u00a0phone\\u00a0- Dark gray\":[1.5699775509213456e-08,-0.999999996647239],\"Clear Mylar Reinforcing Strips\":[0.7071067701905717,0.7071067659935429],\"Coloredge Poster Frame\":[1.0,-4.2213379299293276e-10],\"Dexim XPower Skin Super-Thin Power Case for iPhone 5 - Black\":[0.45399052110791194,0.8910065255456175],\"Eaton Memo Slips, Multicolor\":[-0.8910064625882118,0.45399057651552777],\"Eldon Box, Blue\":[-0.9876883550951046,0.15643444556060007],\"Fellowes Neat Ideas Storage Cubes\":[0.9876883626448945,-0.15643435699790084],\"Green Bar Cards & Envelopes, Premium\":[-0.5877851783896701,0.8090169991064622],\"Hon Deluxe Fabric Upholstered Stacking Chairs, Rounded Back\":[0.1564345391645956,-0.9876882996874887],\"Hon Olson Stacker Chairs\":[0.587785066730171,-0.8090171191600188],\"Hoover Toaster, Red\":[-0.8090170553583456,0.5877851817424313],\"Ibico Binder Covers, Recycled\":[0.15643449446111218,0.9876883584478657],\"Ikea Classic Bookcase, Traditional\":[-0.45399060296508886,0.891006465940973],\"Kensington SlimBlade Notebook Wireless Mouse with Nano Receiver \":[0.9876883626448945,0.15643447536292235],\"Kleencut Box Cutter, High Speed\":[-0.3090170274434707,0.9510564763954429],\"Linden 10\\\" Round Wall Clock, Black\":[-0.15643451671364464,-0.9876882996874887],\"Logitech diNovo Edge Keyboard\":[0.8090170033034909,0.5877852413470759],\"Nontoxic Chalk\":[0.8910065297426463,-0.45399051775515076],\"Novimex Bag Chairs, Red\":[0.309016975388616,0.9510565360000874],\"OIC Thumb Tacks, Assorted Sizes\":[-0.8090169361490565,-0.5877853614006325],\"Padded Folding Chairs, Black, 4/Carton\":[0.3090171244002274,-0.9510564772397104],\"Panasonic Kx-TS550\":[0.45399067011952327,-0.891006407180596],\"Poly Designer Cover & Back\":[0.9510565401971162,-0.3090169422335326],\"Rogers Shelving, Wire Frame\":[-0.9510564730426817,0.3090170307962319],\"Rubbermaid Door Stop, Erganomic\":[-0.7071067626407818,0.7071067659935429],\"Rubbermaid Frame, Erganomic\":[-0.9876883550951046,-0.15643437189906198],\"Smead Trays, Single Width\":[-0.15643444220783895,0.9876883584478657],\"Staples\":[0.7071066509812826,-0.7071068860470996],\"Tenex Folders, Blue\":[-0.7071068222454263,-0.7071067072331659],\"Tennsco Stur-D-Stor Boltless Shelving, 5 Shelves, 24\\\" Deep, Sand\":[0.8090169436988464,-0.587785301795988],\"Ultra Door Push Plate\":[-0.30901708704811526,-0.9510564772397104],\"Xerox 1895\":[0.5877852455441046,0.8090169991064622],\"Xerox 191\":[-0.587785059180381,-0.8090171191600188],\"Xerox 4200 Series MultiUse Premium Copy Paper (20Lb. and 84 Bright)\":[0.8910065297426463,0.4539905169108832]}},\"id\":\"125152\",\"type\":\"StaticLayoutProvider\"},{\"attributes\":{\"line_color\":{\"value\":\"#fdae61\"},\"line_width\":{\"value\":5}},\"id\":\"125173\",\"type\":\"MultiLine\"},{\"attributes\":{\"active_drag\":\"auto\",\"active_inspect\":\"auto\",\"active_multi\":null,\"active_scroll\":\"auto\",\"active_tap\":\"auto\",\"tools\":[{\"id\":\"125137\"},{\"id\":\"125138\"},{\"id\":\"125139\"}]},\"id\":\"125140\",\"type\":\"Toolbar\"},{\"attributes\":{\"data\":{\"end\":[\"Kensington SlimBlade Notebook Wireless Mouse with Nano Receiver \",\"Nontoxic Chalk\",\"Poly Designer Cover & Back\",\"Fellowes Neat Ideas Storage Cubes\",\"Xerox 4200 Series MultiUse Premium Copy Paper (20Lb. and 84 Bright)\",\"Logitech diNovo Edge Keyboard\",\"Logitech diNovo Edge Keyboard\",\"Xerox 1895\",\"Dexim XPower Skin Super-Thin Power Case for iPhone 5 - Black\",\"Dexim XPower Skin Super-Thin Power Case for iPhone 5 - Black\",\"Ibico Binder Covers, Recycled\",\"Advantus Paper Clips, Metal\",\"Smead Trays, Single Width\",\"Kleencut Box Cutter, High Speed\",\"Advantus Paper Clips, Metal\",\"Smead Trays, Single Width\",\"Kleencut Box Cutter, High Speed\",\"Smead Trays, Single Width\",\"Kleencut Box Cutter, High Speed\",\"Kleencut Box Cutter, High Speed\",\"Green Bar Cards & Envelopes, Premium\",\"Hoover Toaster, Red\",\"Eaton Memo Slips, Multicolor\",\"Rogers Shelving, Wire Frame\",\"Eldon Box, Blue\",\"Eaton Memo Slips, Multicolor\",\"Rogers Shelving, Wire Frame\",\"Eldon Box, Blue\",\"Rogers Shelving, Wire Frame\",\"Eldon Box, Blue\",\"Eldon Box, Blue\",\"Rubbermaid Frame, Erganomic\",\"Advantus Paper Clips, Bulk Pack\",\"OIC Thumb Tacks, Assorted Sizes\",\"Tenex Folders, Blue\",\"OIC Thumb Tacks, Assorted Sizes\",\"Tenex Folders, Blue\",\"Tenex Folders, Blue\",\"Avoid Verbal Orders Carbonless Minifold Book\",\"Linden 10\\\" Round Wall Clock, Black\",\"Cisco IP\\u00a0Phone\\u00a07961G VoIP\\u00a0phone\\u00a0- Dark gray\",\"Cisco IP\\u00a0Phone\\u00a07961G VoIP\\u00a0phone\\u00a0- Dark gray\",\"Padded Folding Chairs, Black, 4/Carton\",\"Panasonic Kx-TS550\",\"Panasonic Kx-TS550\",\"Staples\",\"Tennsco Stur-D-Stor Boltless Shelving, 5 Shelves, 24\\\" Deep, Sand\",\"Tennsco Stur-D-Stor Boltless Shelving, 5 Shelves, 24\\\" Deep, Sand\",\"Poly Designer Cover & Back\",\"Fellowes Neat Ideas Storage Cubes\",\"Fellowes Neat Ideas Storage Cubes\"],\"start\":[\"Coloredge Poster Frame\",\"Coloredge Poster Frame\",\"Coloredge Poster Frame\",\"Coloredge Poster Frame\",\"ACCOHIDE 3-Ring Binder, Blue, 1\\\"\",\"ACCOHIDE 3-Ring Binder, Blue, 1\\\"\",\"Xerox 4200 Series MultiUse Premium Copy Paper (20Lb. and 84 Bright)\",\"Clear Mylar Reinforcing Strips\",\"Clear Mylar Reinforcing Strips\",\"Xerox 1895\",\"Novimex Bag Chairs, Red\",\"Novimex Bag Chairs, Red\",\"Novimex Bag Chairs, Red\",\"Novimex Bag Chairs, Red\",\"Ibico Binder Covers, Recycled\",\"Ibico Binder Covers, Recycled\",\"Ibico Binder Covers, Recycled\",\"Advantus Paper Clips, Metal\",\"Advantus Paper Clips, Metal\",\"Smead Trays, Single Width\",\"Ikea Classic Bookcase, Traditional\",\"Rubbermaid Door Stop, Erganomic\",\"Rubbermaid Door Stop, Erganomic\",\"Rubbermaid Door Stop, Erganomic\",\"Rubbermaid Door Stop, Erganomic\",\"Hoover Toaster, Red\",\"Hoover Toaster, Red\",\"Hoover Toaster, Red\",\"Eaton Memo Slips, Multicolor\",\"Eaton Memo Slips, Multicolor\",\"Rogers Shelving, Wire Frame\",\"Advantus Photo Frame, Durable\",\"Barricks Training Table, Rectangular\",\"Barricks Training Table, Rectangular\",\"Barricks Training Table, Rectangular\",\"Advantus Paper Clips, Bulk Pack\",\"Advantus Paper Clips, Bulk Pack\",\"OIC Thumb Tacks, Assorted Sizes\",\"Xerox 191\",\"Ultra Door Push Plate\",\"Ultra Door Push Plate\",\"Linden 10\\\" Round Wall Clock, Black\",\"Hon Deluxe Fabric Upholstered Stacking Chairs, Rounded Back\",\"Hon Deluxe Fabric Upholstered Stacking Chairs, Rounded Back\",\"Padded Folding Chairs, Black, 4/Carton\",\"Hon Olson Stacker Chairs\",\"Hon Olson Stacker Chairs\",\"Staples\",\"Nontoxic Chalk\",\"Nontoxic Chalk\",\"Poly Designer Cover & Back\"]},\"selected\":{\"id\":\"126628\"},\"selection_policy\":{\"id\":\"126629\"}},\"id\":\"125149\",\"type\":\"ColumnDataSource\"},{\"attributes\":{\"end\":1.1,\"start\":-1.1},\"id\":\"125132\",\"type\":\"Range1d\"},{\"attributes\":{\"end\":1.1,\"start\":-1.1},\"id\":\"125131\",\"type\":\"Range1d\"},{\"attributes\":{\"source\":{\"id\":\"125145\"}},\"id\":\"125147\",\"type\":\"CDSView\"},{\"attributes\":{},\"id\":\"126628\",\"type\":\"Selection\"},{\"attributes\":{\"callback\":null,\"tooltips\":[[\"product: \",\"@P1\"]]},\"id\":\"125137\",\"type\":\"HoverTool\"},{\"attributes\":{},\"id\":\"126618\",\"type\":\"LinearScale\"},{\"attributes\":{\"data_source\":{\"id\":\"125145\"},\"glyph\":{\"id\":\"125153\"},\"hover_glyph\":{\"id\":\"125163\"},\"muted_glyph\":null,\"selection_glyph\":{\"id\":\"125158\"},\"view\":{\"id\":\"125147\"}},\"id\":\"125146\",\"type\":\"GlyphRenderer\"},{\"attributes\":{\"text\":\"Graph Interaction Demonstration\"},\"id\":\"125136\",\"type\":\"Title\"},{\"attributes\":{\"edge_renderer\":{\"id\":\"125150\"},\"inspection_policy\":{\"id\":\"125185\"},\"layout_provider\":{\"id\":\"125152\"},\"node_renderer\":{\"id\":\"125146\"},\"selection_policy\":{\"id\":\"125183\"}},\"id\":\"125143\",\"type\":\"GraphRenderer\"},{\"attributes\":{\"line_color\":{\"value\":\"#abdda4\"},\"line_width\":{\"value\":5}},\"id\":\"125178\",\"type\":\"MultiLine\"},{\"attributes\":{\"overlay\":{\"id\":\"126627\"}},\"id\":\"125139\",\"type\":\"BoxSelectTool\"},{\"attributes\":{},\"id\":\"126617\",\"type\":\"LinearScale\"},{\"attributes\":{\"fill_color\":{\"value\":\"#abdda4\"},\"size\":{\"units\":\"screen\",\"value\":15}},\"id\":\"125163\",\"type\":\"Circle\"},{\"attributes\":{\"data_source\":{\"id\":\"125149\"},\"glyph\":{\"id\":\"125168\"},\"hover_glyph\":{\"id\":\"125178\"},\"muted_glyph\":null,\"selection_glyph\":{\"id\":\"125173\"},\"view\":{\"id\":\"125151\"}},\"id\":\"125150\",\"type\":\"GlyphRenderer\"},{\"attributes\":{\"fill_color\":{\"value\":\"#2b83ba\"},\"size\":{\"units\":\"screen\",\"value\":15}},\"id\":\"125153\",\"type\":\"Circle\"}],\"root_ids\":[\"125133\"]},\"title\":\"Bokeh Application\",\"version\":\"2.1.1\"}};\n  var render_items = [{\"docid\":\"bc243ac9-f53e-4822-a04b-082d2c773f76\",\"root_ids\":[\"125133\"],\"roots\":{\"125133\":\"4ca426a2-f8c6-4df9-b4ef-da110fb87c9b\"}}];\n  root.Bokeh.embed.embed_items_notebook(docs_json, render_items);\n\n  }\n  if (root.Bokeh !== undefined) {\n    embed_document(root);\n  } else {\n    var attempts = 0;\n    var timer = setInterval(function(root) {\n      if (root.Bokeh !== undefined) {\n        clearInterval(timer);\n        embed_document(root);\n      } else {\n        attempts++;\n        if (attempts > 100) {\n          clearInterval(timer);\n          console.log(\"Bokeh: ERROR: Unable to run BokehJS code because BokehJS library is missing\");\n        }\n      }\n    }, 10, root)\n  }\n})(window);",
      "application/vnd.bokehjs_exec.v0+json": ""
     },
     "metadata": {
      "application/vnd.bokehjs_exec.v0+json": {
       "id": "125133"
      }
     }
    }
   ],
   "source": [
    "plot = Plot(plot_width=700, plot_height=700,\n",
    "            x_range=Range1d(-1.1,1.1), y_range=Range1d(-1.1,1.1))\n",
    "plot.title.text = \"Graph Interaction Demonstration\"\n",
    "\n",
    "plot.add_tools(HoverTool(tooltips=[('product: ', '@P1')]), TapTool(), BoxSelectTool())\n",
    "\n",
    "graph_renderer = from_networkx(g, nx.circular_layout, scale=1, center=(0,0))\n",
    "\n",
    "graph_renderer.node_renderer.glyph = Circle(size=15, fill_color=Spectral4[0])\n",
    "graph_renderer.node_renderer.selection_glyph = Circle(size=15, fill_color=Spectral4[2])\n",
    "graph_renderer.node_renderer.hover_glyph = Circle(size=15, fill_color=Spectral4[1])\n",
    "\n",
    "graph_renderer.edge_renderer.glyph = MultiLine(line_color=\"#CCCCCC\", line_alpha=0.8, line_width=5)\n",
    "graph_renderer.edge_renderer.selection_glyph = MultiLine(line_color=Spectral4[2], line_width=5)\n",
    "graph_renderer.edge_renderer.hover_glyph = MultiLine(line_color=Spectral4[1], line_width=5)\n",
    "\n",
    "graph_renderer.selection_policy = NodesAndLinkedEdges()\n",
    "graph_renderer.inspection_policy = EdgesAndLinkedNodes()\n",
    "\n",
    "plot.renderers.append(graph_renderer)\n",
    "\n",
    "output_file(\"interactive_graphs.html\")\n",
    "show(plot)"
   ]
  }
 ]
}