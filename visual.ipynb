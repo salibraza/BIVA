{
 "metadata": {
  "language_info": {
   "codemirror_mode": {
    "name": "ipython",
    "version": 3
   },
   "file_extension": ".py",
   "mimetype": "text/x-python",
   "name": "python",
   "nbconvert_exporter": "python",
   "pygments_lexer": "ipython3",
   "version": "3.9.2-final"
  },
  "orig_nbformat": 2,
  "kernelspec": {
   "name": "python3",
   "display_name": "Python 3.9.2 64-bit",
   "metadata": {
    "interpreter": {
     "hash": "a12d694c3ccac42055183a0ad11e659c6a2db5c6555ad2c8919d5814fd4e404f"
    }
   }
  }
 },
 "nbformat": 4,
 "nbformat_minor": 2,
 "cells": [
  {
   "cell_type": "code",
   "execution_count": null,
   "metadata": {},
   "outputs": [],
   "source": [
    "MAKE A CONNECTION WITH DATABASE"
   ]
  },
  {
   "cell_type": "code",
   "execution_count": 1,
   "metadata": {},
   "outputs": [
    {
     "output_type": "stream",
     "name": "stdout",
     "text": [
      "Hello World\n"
     ]
    }
   ],
   "source": [
    "import mysql.connector\n",
    "import pandas as pd\n",
    "\n",
    "mydb = mysql.connector.connect(\n",
    "  host=\"localhost\",\n",
    "  user=\"root\",\n",
    "  password=\"1214\",\n",
    "  database=\"biva\"\n",
    ")\n",
    "mycursor = mydb.cursor()\n",
    "print (\"Hello World\")"
   ]
  },
  {
   "source": [
    "DATA EXPLORATION"
   ],
   "cell_type": "markdown",
   "metadata": {}
  },
  {
   "cell_type": "code",
   "execution_count": 2,
   "metadata": {},
   "outputs": [
    {
     "output_type": "stream",
     "name": "stdout",
     "text": [
      "           category  subcategory  products\n0         Furniture    Bookcases       583\n1         Furniture       Chairs       647\n2         Furniture  Furnishings       719\n3         Furniture       Tables       381\n4   Office Supplies   Appliances       587\n5   Office Supplies          Art       708\n6   Office Supplies      Binders       781\n7   Office Supplies    Envelopes       613\n8   Office Supplies    Fasteners       583\n9   Office Supplies       Labels       602\n10  Office Supplies        Paper       825\n11  Office Supplies      Storage       683\n12  Office Supplies     Supplies       573\n13       Technology  Accessories       700\n14       Technology      Copiers       537\n15       Technology     Machines       514\n16       Technology       Phones       732\n"
     ]
    }
   ],
   "source": [
    "#1\n",
    "mycursor.execute(\"select c.category, c.subcategory, count(product_id) as product_count from category_dim c inner join product_dim p on c.category_id = p.category_id group by c.category, c.subcategory;\")\n",
    "df = pd.DataFrame(mycursor.fetchall())\n",
    "df = df.rename(columns = {0:'category', 1:'subcategory', 2:'products'})\n",
    "print (df)"
   ]
  },
  {
   "cell_type": "code",
   "execution_count": 3,
   "metadata": {
    "tags": []
   },
   "outputs": [
    {
     "output_type": "stream",
     "name": "stdout",
     "text": [
      "                                        product    category subcategory  \\\n0                 Bush Classic Bookcase, Mobile   Furniture   Bookcases   \n1        Sauder Library with Doors, Traditional   Furniture   Bookcases   \n2                  Dania Corner Shelving, Metal   Furniture   Bookcases   \n3         Dania Floating Shelf Set, Traditional   Furniture   Bookcases   \n4                  Safco Classic Bookcase, Pine   Furniture   Bookcases   \n...                                         ...         ...         ...   \n10763             Samsung Smart Phone, Cordless  Technology      Phones   \n10764            Samsung Office Telephone, VoIP  Technology      Phones   \n10765       Samsung Smart Phone, with Caller ID  Technology      Phones   \n10766  Samsung Office Telephone, with Caller ID  Technology      Phones   \n10767            Samsung Smart Phone, Full Size  Technology      Phones   \n\n          price  \n0      415.2000  \n1      232.5780  \n2      121.5300  \n3      152.4150  \n4      219.7500  \n...         ...  \n10763  639.0000  \n10764   19.5930  \n10765  636.1500  \n10766   65.2200  \n10767  637.4400  \n\n[10768 rows x 4 columns]\n"
     ]
    }
   ],
   "source": [
    "#2\n",
    "mycursor.execute(\"select p.product_name, c.category, c.subcategory, p.unit_price from category_dim c inner join product_dim p on c.category_id = p.category_id;\")\n",
    "df = pd.DataFrame(mycursor.fetchall())\n",
    "df = df.rename(columns = {0:'product', 1:'category', 2:'subcategory', 3:'price'})\n",
    "print (df)"
   ]
  },
  {
   "source": [
    "PIE CHARTS"
   ],
   "cell_type": "markdown",
   "metadata": {}
  },
  {
   "cell_type": "code",
   "execution_count": 4,
   "metadata": {},
   "outputs": [
    {
     "output_type": "display_data",
     "data": {
      "text/html": "\n    <div class=\"bk-root\">\n        <a href=\"https://bokeh.org\" target=\"_blank\" class=\"bk-logo bk-logo-small bk-logo-notebook\"></a>\n        <span id=\"1002\">Loading BokehJS ...</span>\n    </div>"
     },
     "metadata": {}
    },
    {
     "output_type": "display_data",
     "data": {
      "application/javascript": "\n(function(root) {\n  function now() {\n    return new Date();\n  }\n\n  var force = true;\n\n  if (typeof root._bokeh_onload_callbacks === \"undefined\" || force === true) {\n    root._bokeh_onload_callbacks = [];\n    root._bokeh_is_loading = undefined;\n  }\n\n  var JS_MIME_TYPE = 'application/javascript';\n  var HTML_MIME_TYPE = 'text/html';\n  var EXEC_MIME_TYPE = 'application/vnd.bokehjs_exec.v0+json';\n  var CLASS_NAME = 'output_bokeh rendered_html';\n\n  /**\n   * Render data to the DOM node\n   */\n  function render(props, node) {\n    var script = document.createElement(\"script\");\n    node.appendChild(script);\n  }\n\n  /**\n   * Handle when an output is cleared or removed\n   */\n  function handleClearOutput(event, handle) {\n    var cell = handle.cell;\n\n    var id = cell.output_area._bokeh_element_id;\n    var server_id = cell.output_area._bokeh_server_id;\n    // Clean up Bokeh references\n    if (id != null && id in Bokeh.index) {\n      Bokeh.index[id].model.document.clear();\n      delete Bokeh.index[id];\n    }\n\n    if (server_id !== undefined) {\n      // Clean up Bokeh references\n      var cmd = \"from bokeh.io.state import curstate; print(curstate().uuid_to_server['\" + server_id + \"'].get_sessions()[0].document.roots[0]._id)\";\n      cell.notebook.kernel.execute(cmd, {\n        iopub: {\n          output: function(msg) {\n            var id = msg.content.text.trim();\n            if (id in Bokeh.index) {\n              Bokeh.index[id].model.document.clear();\n              delete Bokeh.index[id];\n            }\n          }\n        }\n      });\n      // Destroy server and session\n      var cmd = \"import bokeh.io.notebook as ion; ion.destroy_server('\" + server_id + \"')\";\n      cell.notebook.kernel.execute(cmd);\n    }\n  }\n\n  /**\n   * Handle when a new output is added\n   */\n  function handleAddOutput(event, handle) {\n    var output_area = handle.output_area;\n    var output = handle.output;\n\n    // limit handleAddOutput to display_data with EXEC_MIME_TYPE content only\n    if ((output.output_type != \"display_data\") || (!Object.prototype.hasOwnProperty.call(output.data, EXEC_MIME_TYPE))) {\n      return\n    }\n\n    var toinsert = output_area.element.find(\".\" + CLASS_NAME.split(' ')[0]);\n\n    if (output.metadata[EXEC_MIME_TYPE][\"id\"] !== undefined) {\n      toinsert[toinsert.length - 1].firstChild.textContent = output.data[JS_MIME_TYPE];\n      // store reference to embed id on output_area\n      output_area._bokeh_element_id = output.metadata[EXEC_MIME_TYPE][\"id\"];\n    }\n    if (output.metadata[EXEC_MIME_TYPE][\"server_id\"] !== undefined) {\n      var bk_div = document.createElement(\"div\");\n      bk_div.innerHTML = output.data[HTML_MIME_TYPE];\n      var script_attrs = bk_div.children[0].attributes;\n      for (var i = 0; i < script_attrs.length; i++) {\n        toinsert[toinsert.length - 1].firstChild.setAttribute(script_attrs[i].name, script_attrs[i].value);\n        toinsert[toinsert.length - 1].firstChild.textContent = bk_div.children[0].textContent\n      }\n      // store reference to server id on output_area\n      output_area._bokeh_server_id = output.metadata[EXEC_MIME_TYPE][\"server_id\"];\n    }\n  }\n\n  function register_renderer(events, OutputArea) {\n\n    function append_mime(data, metadata, element) {\n      // create a DOM node to render to\n      var toinsert = this.create_output_subarea(\n        metadata,\n        CLASS_NAME,\n        EXEC_MIME_TYPE\n      );\n      this.keyboard_manager.register_events(toinsert);\n      // Render to node\n      var props = {data: data, metadata: metadata[EXEC_MIME_TYPE]};\n      render(props, toinsert[toinsert.length - 1]);\n      element.append(toinsert);\n      return toinsert\n    }\n\n    /* Handle when an output is cleared or removed */\n    events.on('clear_output.CodeCell', handleClearOutput);\n    events.on('delete.Cell', handleClearOutput);\n\n    /* Handle when a new output is added */\n    events.on('output_added.OutputArea', handleAddOutput);\n\n    /**\n     * Register the mime type and append_mime function with output_area\n     */\n    OutputArea.prototype.register_mime_type(EXEC_MIME_TYPE, append_mime, {\n      /* Is output safe? */\n      safe: true,\n      /* Index of renderer in `output_area.display_order` */\n      index: 0\n    });\n  }\n\n  // register the mime type if in Jupyter Notebook environment and previously unregistered\n  if (root.Jupyter !== undefined) {\n    var events = require('base/js/events');\n    var OutputArea = require('notebook/js/outputarea').OutputArea;\n\n    if (OutputArea.prototype.mime_types().indexOf(EXEC_MIME_TYPE) == -1) {\n      register_renderer(events, OutputArea);\n    }\n  }\n\n  \n  if (typeof (root._bokeh_timeout) === \"undefined\" || force === true) {\n    root._bokeh_timeout = Date.now() + 5000;\n    root._bokeh_failed_load = false;\n  }\n\n  var NB_LOAD_WARNING = {'data': {'text/html':\n     \"<div style='background-color: #fdd'>\\n\"+\n     \"<p>\\n\"+\n     \"BokehJS does not appear to have successfully loaded. If loading BokehJS from CDN, this \\n\"+\n     \"may be due to a slow or bad network connection. Possible fixes:\\n\"+\n     \"</p>\\n\"+\n     \"<ul>\\n\"+\n     \"<li>re-rerun `output_notebook()` to attempt to load from CDN again, or</li>\\n\"+\n     \"<li>use INLINE resources instead, as so:</li>\\n\"+\n     \"</ul>\\n\"+\n     \"<code>\\n\"+\n     \"from bokeh.resources import INLINE\\n\"+\n     \"output_notebook(resources=INLINE)\\n\"+\n     \"</code>\\n\"+\n     \"</div>\"}};\n\n  function display_loaded() {\n    var el = document.getElementById(\"1002\");\n    if (el != null) {\n      el.textContent = \"BokehJS is loading...\";\n    }\n    if (root.Bokeh !== undefined) {\n      if (el != null) {\n        el.textContent = \"BokehJS \" + root.Bokeh.version + \" successfully loaded.\";\n      }\n    } else if (Date.now() < root._bokeh_timeout) {\n      setTimeout(display_loaded, 100)\n    }\n  }\n\n\n  function run_callbacks() {\n    try {\n      root._bokeh_onload_callbacks.forEach(function(callback) {\n        if (callback != null)\n          callback();\n      });\n    } finally {\n      delete root._bokeh_onload_callbacks\n    }\n    console.debug(\"Bokeh: all callbacks have finished\");\n  }\n\n  function load_libs(css_urls, js_urls, callback) {\n    if (css_urls == null) css_urls = [];\n    if (js_urls == null) js_urls = [];\n\n    root._bokeh_onload_callbacks.push(callback);\n    if (root._bokeh_is_loading > 0) {\n      console.debug(\"Bokeh: BokehJS is being loaded, scheduling callback at\", now());\n      return null;\n    }\n    if (js_urls == null || js_urls.length === 0) {\n      run_callbacks();\n      return null;\n    }\n    console.debug(\"Bokeh: BokehJS not loaded, scheduling load and callback at\", now());\n    root._bokeh_is_loading = css_urls.length + js_urls.length;\n\n    function on_load() {\n      root._bokeh_is_loading--;\n      if (root._bokeh_is_loading === 0) {\n        console.debug(\"Bokeh: all BokehJS libraries/stylesheets loaded\");\n        run_callbacks()\n      }\n    }\n\n    function on_error(url) {\n      console.error(\"failed to load \" + url);\n    }\n\n    for (let i = 0; i < css_urls.length; i++) {\n      const url = css_urls[i];\n      const element = document.createElement(\"link\");\n      element.onload = on_load;\n      element.onerror = on_error.bind(null, url);\n      element.rel = \"stylesheet\";\n      element.type = \"text/css\";\n      element.href = url;\n      console.debug(\"Bokeh: injecting link tag for BokehJS stylesheet: \", url);\n      document.body.appendChild(element);\n    }\n\n    const hashes = {\"https://cdn.bokeh.org/bokeh/release/bokeh-2.3.0.min.js\": \"HjagQp6T0/7bxYTAXbLotF1MLAGWmhkY5siA1Gc/pcEgvgRPtMsRn0gQtMwGKiw1\", \"https://cdn.bokeh.org/bokeh/release/bokeh-widgets-2.3.0.min.js\": \"ZEPPTjL+mdyqgIq+/pl9KTwzji8Kow2NnI3zWY8+sFinWP/SYJ80BnfeJsa45iYj\", \"https://cdn.bokeh.org/bokeh/release/bokeh-tables-2.3.0.min.js\": \"exLqv2ACDRIaV7ZK1iL8aGzGYQvKVuT3U2CT7FsQREBxRah6JrkVCoFy0koY1YqV\"};\n\n    for (let i = 0; i < js_urls.length; i++) {\n      const url = js_urls[i];\n      const element = document.createElement('script');\n      element.onload = on_load;\n      element.onerror = on_error.bind(null, url);\n      element.async = false;\n      element.src = url;\n      if (url in hashes) {\n        element.crossOrigin = \"anonymous\";\n        element.integrity = \"sha384-\" + hashes[url];\n      }\n      console.debug(\"Bokeh: injecting script tag for BokehJS library: \", url);\n      document.head.appendChild(element);\n    }\n  };\n\n  function inject_raw_css(css) {\n    const element = document.createElement(\"style\");\n    element.appendChild(document.createTextNode(css));\n    document.body.appendChild(element);\n  }\n\n  \n  var js_urls = [\"https://cdn.bokeh.org/bokeh/release/bokeh-2.3.0.min.js\", \"https://cdn.bokeh.org/bokeh/release/bokeh-widgets-2.3.0.min.js\", \"https://cdn.bokeh.org/bokeh/release/bokeh-tables-2.3.0.min.js\"];\n  var css_urls = [];\n  \n\n  var inline_js = [\n    function(Bokeh) {\n      Bokeh.set_log_level(\"info\");\n    },\n    function(Bokeh) {\n    \n    \n    }\n  ];\n\n  function run_inline_js() {\n    \n    if (root.Bokeh !== undefined || force === true) {\n      \n    for (var i = 0; i < inline_js.length; i++) {\n      inline_js[i].call(root, root.Bokeh);\n    }\n    if (force === true) {\n        display_loaded();\n      }} else if (Date.now() < root._bokeh_timeout) {\n      setTimeout(run_inline_js, 100);\n    } else if (!root._bokeh_failed_load) {\n      console.log(\"Bokeh: BokehJS failed to load within specified timeout.\");\n      root._bokeh_failed_load = true;\n    } else if (force !== true) {\n      var cell = $(document.getElementById(\"1002\")).parents('.cell').data().cell;\n      cell.output_area.append_execute_result(NB_LOAD_WARNING)\n    }\n\n  }\n\n  if (root._bokeh_is_loading === 0) {\n    console.debug(\"Bokeh: BokehJS loaded, going straight to plotting\");\n    run_inline_js();\n  } else {\n    load_libs(css_urls, js_urls, function() {\n      console.debug(\"Bokeh: BokehJS plotting callback run at\", now());\n      run_inline_js();\n    });\n  }\n}(window));",
      "application/vnd.bokehjs_load.v0+json": "\n(function(root) {\n  function now() {\n    return new Date();\n  }\n\n  var force = true;\n\n  if (typeof root._bokeh_onload_callbacks === \"undefined\" || force === true) {\n    root._bokeh_onload_callbacks = [];\n    root._bokeh_is_loading = undefined;\n  }\n\n  \n\n  \n  if (typeof (root._bokeh_timeout) === \"undefined\" || force === true) {\n    root._bokeh_timeout = Date.now() + 5000;\n    root._bokeh_failed_load = false;\n  }\n\n  var NB_LOAD_WARNING = {'data': {'text/html':\n     \"<div style='background-color: #fdd'>\\n\"+\n     \"<p>\\n\"+\n     \"BokehJS does not appear to have successfully loaded. If loading BokehJS from CDN, this \\n\"+\n     \"may be due to a slow or bad network connection. Possible fixes:\\n\"+\n     \"</p>\\n\"+\n     \"<ul>\\n\"+\n     \"<li>re-rerun `output_notebook()` to attempt to load from CDN again, or</li>\\n\"+\n     \"<li>use INLINE resources instead, as so:</li>\\n\"+\n     \"</ul>\\n\"+\n     \"<code>\\n\"+\n     \"from bokeh.resources import INLINE\\n\"+\n     \"output_notebook(resources=INLINE)\\n\"+\n     \"</code>\\n\"+\n     \"</div>\"}};\n\n  function display_loaded() {\n    var el = document.getElementById(\"1002\");\n    if (el != null) {\n      el.textContent = \"BokehJS is loading...\";\n    }\n    if (root.Bokeh !== undefined) {\n      if (el != null) {\n        el.textContent = \"BokehJS \" + root.Bokeh.version + \" successfully loaded.\";\n      }\n    } else if (Date.now() < root._bokeh_timeout) {\n      setTimeout(display_loaded, 100)\n    }\n  }\n\n\n  function run_callbacks() {\n    try {\n      root._bokeh_onload_callbacks.forEach(function(callback) {\n        if (callback != null)\n          callback();\n      });\n    } finally {\n      delete root._bokeh_onload_callbacks\n    }\n    console.debug(\"Bokeh: all callbacks have finished\");\n  }\n\n  function load_libs(css_urls, js_urls, callback) {\n    if (css_urls == null) css_urls = [];\n    if (js_urls == null) js_urls = [];\n\n    root._bokeh_onload_callbacks.push(callback);\n    if (root._bokeh_is_loading > 0) {\n      console.debug(\"Bokeh: BokehJS is being loaded, scheduling callback at\", now());\n      return null;\n    }\n    if (js_urls == null || js_urls.length === 0) {\n      run_callbacks();\n      return null;\n    }\n    console.debug(\"Bokeh: BokehJS not loaded, scheduling load and callback at\", now());\n    root._bokeh_is_loading = css_urls.length + js_urls.length;\n\n    function on_load() {\n      root._bokeh_is_loading--;\n      if (root._bokeh_is_loading === 0) {\n        console.debug(\"Bokeh: all BokehJS libraries/stylesheets loaded\");\n        run_callbacks()\n      }\n    }\n\n    function on_error(url) {\n      console.error(\"failed to load \" + url);\n    }\n\n    for (let i = 0; i < css_urls.length; i++) {\n      const url = css_urls[i];\n      const element = document.createElement(\"link\");\n      element.onload = on_load;\n      element.onerror = on_error.bind(null, url);\n      element.rel = \"stylesheet\";\n      element.type = \"text/css\";\n      element.href = url;\n      console.debug(\"Bokeh: injecting link tag for BokehJS stylesheet: \", url);\n      document.body.appendChild(element);\n    }\n\n    const hashes = {\"https://cdn.bokeh.org/bokeh/release/bokeh-2.3.0.min.js\": \"HjagQp6T0/7bxYTAXbLotF1MLAGWmhkY5siA1Gc/pcEgvgRPtMsRn0gQtMwGKiw1\", \"https://cdn.bokeh.org/bokeh/release/bokeh-widgets-2.3.0.min.js\": \"ZEPPTjL+mdyqgIq+/pl9KTwzji8Kow2NnI3zWY8+sFinWP/SYJ80BnfeJsa45iYj\", \"https://cdn.bokeh.org/bokeh/release/bokeh-tables-2.3.0.min.js\": \"exLqv2ACDRIaV7ZK1iL8aGzGYQvKVuT3U2CT7FsQREBxRah6JrkVCoFy0koY1YqV\"};\n\n    for (let i = 0; i < js_urls.length; i++) {\n      const url = js_urls[i];\n      const element = document.createElement('script');\n      element.onload = on_load;\n      element.onerror = on_error.bind(null, url);\n      element.async = false;\n      element.src = url;\n      if (url in hashes) {\n        element.crossOrigin = \"anonymous\";\n        element.integrity = \"sha384-\" + hashes[url];\n      }\n      console.debug(\"Bokeh: injecting script tag for BokehJS library: \", url);\n      document.head.appendChild(element);\n    }\n  };\n\n  function inject_raw_css(css) {\n    const element = document.createElement(\"style\");\n    element.appendChild(document.createTextNode(css));\n    document.body.appendChild(element);\n  }\n\n  \n  var js_urls = [\"https://cdn.bokeh.org/bokeh/release/bokeh-2.3.0.min.js\", \"https://cdn.bokeh.org/bokeh/release/bokeh-widgets-2.3.0.min.js\", \"https://cdn.bokeh.org/bokeh/release/bokeh-tables-2.3.0.min.js\"];\n  var css_urls = [];\n  \n\n  var inline_js = [\n    function(Bokeh) {\n      Bokeh.set_log_level(\"info\");\n    },\n    function(Bokeh) {\n    \n    \n    }\n  ];\n\n  function run_inline_js() {\n    \n    if (root.Bokeh !== undefined || force === true) {\n      \n    for (var i = 0; i < inline_js.length; i++) {\n      inline_js[i].call(root, root.Bokeh);\n    }\n    if (force === true) {\n        display_loaded();\n      }} else if (Date.now() < root._bokeh_timeout) {\n      setTimeout(run_inline_js, 100);\n    } else if (!root._bokeh_failed_load) {\n      console.log(\"Bokeh: BokehJS failed to load within specified timeout.\");\n      root._bokeh_failed_load = true;\n    } else if (force !== true) {\n      var cell = $(document.getElementById(\"1002\")).parents('.cell').data().cell;\n      cell.output_area.append_execute_result(NB_LOAD_WARNING)\n    }\n\n  }\n\n  if (root._bokeh_is_loading === 0) {\n    console.debug(\"Bokeh: BokehJS loaded, going straight to plotting\");\n    run_inline_js();\n  } else {\n    load_libs(css_urls, js_urls, function() {\n      console.debug(\"Bokeh: BokehJS plotting callback run at\", now());\n      run_inline_js();\n    });\n  }\n}(window));"
     },
     "metadata": {}
    }
   ],
   "source": [
    "from math import pi\n",
    "import pandas as pd\n",
    "import networkx as nx\n",
    "from bokeh.io import output_notebook, output_file, show\n",
    "from bokeh.palettes import Category20c, Spectral10, Spectral4\n",
    "from bokeh.plotting import figure, from_networkx\n",
    "from bokeh.transform import cumsum, factor_cmap\n",
    "from bokeh.transform import dodge\n",
    "from bokeh.models import ColumnDataSource\n",
    "from bokeh.models import (BoxSelectTool, Circle, EdgesAndLinkedNodes, HoverTool,\n",
    "                          MultiLine, NodesAndLinkedEdges, Plot, Range1d, TapTool,)\n",
    "output_notebook()"
   ]
  },
  {
   "cell_type": "code",
   "execution_count": 5,
   "metadata": {},
   "outputs": [
    {
     "output_type": "stream",
     "name": "stdout",
     "text": [
      "            region  count\n0           Africa     45\n1     Central Asia      6\n2          Oceania      3\n3   Southeast Asia      8\n4       North Asia      6\n5           Canada      1\n6             EMEA     40\n7          Central     12\n8            North      7\n9            South     14\n10       Caribbean      8\n11            West      1\n12            East      1\n"
     ]
    }
   ],
   "source": [
    "#5.\tPie chart to show all regions and measuring country instances in them\n",
    "mycursor.execute(\"select region, count(*) from (select distinct region, country from location_dim) a group by a.region;\")\n",
    "df = pd.DataFrame(mycursor.fetchall())\n",
    "df = df.rename(columns = {0:'region', 1:'count'})\n",
    "print (df)"
   ]
  },
  {
   "cell_type": "code",
   "execution_count": 6,
   "metadata": {},
   "outputs": [
    {
     "output_type": "execute_result",
     "data": {
      "text/plain": [
       "            region  count     angle    color\n",
       "0           Africa     45  1.860154  #3182bd\n",
       "1     Central Asia      6  0.248020  #6baed6\n",
       "2          Oceania      3  0.124010  #9ecae1\n",
       "3   Southeast Asia      8  0.330694  #c6dbef\n",
       "4       North Asia      6  0.248020  #e6550d\n",
       "5           Canada      1  0.041337  #fd8d3c\n",
       "6             EMEA     40  1.653470  #fdae6b\n",
       "7          Central     12  0.496041  #fdd0a2\n",
       "8            North      7  0.289357  #31a354\n",
       "9            South     14  0.578714  #74c476\n",
       "10       Caribbean      8  0.330694  #a1d99b\n",
       "11            West      1  0.041337  #c7e9c0\n",
       "12            East      1  0.041337  #756bb1"
      ],
      "text/html": "<div>\n<style scoped>\n    .dataframe tbody tr th:only-of-type {\n        vertical-align: middle;\n    }\n\n    .dataframe tbody tr th {\n        vertical-align: top;\n    }\n\n    .dataframe thead th {\n        text-align: right;\n    }\n</style>\n<table border=\"1\" class=\"dataframe\">\n  <thead>\n    <tr style=\"text-align: right;\">\n      <th></th>\n      <th>region</th>\n      <th>count</th>\n      <th>angle</th>\n      <th>color</th>\n    </tr>\n  </thead>\n  <tbody>\n    <tr>\n      <th>0</th>\n      <td>Africa</td>\n      <td>45</td>\n      <td>1.860154</td>\n      <td>#3182bd</td>\n    </tr>\n    <tr>\n      <th>1</th>\n      <td>Central Asia</td>\n      <td>6</td>\n      <td>0.248020</td>\n      <td>#6baed6</td>\n    </tr>\n    <tr>\n      <th>2</th>\n      <td>Oceania</td>\n      <td>3</td>\n      <td>0.124010</td>\n      <td>#9ecae1</td>\n    </tr>\n    <tr>\n      <th>3</th>\n      <td>Southeast Asia</td>\n      <td>8</td>\n      <td>0.330694</td>\n      <td>#c6dbef</td>\n    </tr>\n    <tr>\n      <th>4</th>\n      <td>North Asia</td>\n      <td>6</td>\n      <td>0.248020</td>\n      <td>#e6550d</td>\n    </tr>\n    <tr>\n      <th>5</th>\n      <td>Canada</td>\n      <td>1</td>\n      <td>0.041337</td>\n      <td>#fd8d3c</td>\n    </tr>\n    <tr>\n      <th>6</th>\n      <td>EMEA</td>\n      <td>40</td>\n      <td>1.653470</td>\n      <td>#fdae6b</td>\n    </tr>\n    <tr>\n      <th>7</th>\n      <td>Central</td>\n      <td>12</td>\n      <td>0.496041</td>\n      <td>#fdd0a2</td>\n    </tr>\n    <tr>\n      <th>8</th>\n      <td>North</td>\n      <td>7</td>\n      <td>0.289357</td>\n      <td>#31a354</td>\n    </tr>\n    <tr>\n      <th>9</th>\n      <td>South</td>\n      <td>14</td>\n      <td>0.578714</td>\n      <td>#74c476</td>\n    </tr>\n    <tr>\n      <th>10</th>\n      <td>Caribbean</td>\n      <td>8</td>\n      <td>0.330694</td>\n      <td>#a1d99b</td>\n    </tr>\n    <tr>\n      <th>11</th>\n      <td>West</td>\n      <td>1</td>\n      <td>0.041337</td>\n      <td>#c7e9c0</td>\n    </tr>\n    <tr>\n      <th>12</th>\n      <td>East</td>\n      <td>1</td>\n      <td>0.041337</td>\n      <td>#756bb1</td>\n    </tr>\n  </tbody>\n</table>\n</div>"
     },
     "metadata": {},
     "execution_count": 6
    }
   ],
   "source": [
    "df['angle'] = df['count']/df['count'].sum() *2* pi\n",
    "df['color'] = Category20c[len(df)]\n",
    "df"
   ]
  },
  {
   "cell_type": "code",
   "execution_count": 8,
   "metadata": {},
   "outputs": [],
   "source": [
    "p = figure(plot_height=500, \n",
    "            title=\"Country Count in Regions\",\n",
    "            tools=\"hover\", \n",
    "            tooltips=[(\"Region\", \"@region\"), (\"Countries\", \"@count\")], \n",
    "            x_range=(-0.5, 1.0))\n",
    "\n",
    "p.wedge(x=0, y=1, \n",
    "        radius=0.5, \n",
    "        start_angle=cumsum('angle', include_zero=True), \n",
    "        end_angle=cumsum('angle'),\n",
    "        line_color=\"white\", \n",
    "        fill_color='color', \n",
    "        legend_field='region', \n",
    "        source=df)\n",
    "\n",
    "p.axis.axis_label=None\n",
    "p.axis.visible=False\n",
    "p.grid.grid_line_color = None"
   ]
  },
  {
   "cell_type": "code",
   "execution_count": 9,
   "metadata": {},
   "outputs": [
    {
     "output_type": "display_data",
     "data": {
      "text/html": "\n\n\n\n\n\n  <div class=\"bk-root\" id=\"8eda406c-b46c-4591-952c-bf558e3563eb\" data-root-id=\"1003\"></div>\n"
     },
     "metadata": {}
    },
    {
     "output_type": "display_data",
     "data": {
      "application/javascript": "(function(root) {\n  function embed_document(root) {\n    \n  var docs_json = {\"9dd4f6d9-6752-481a-b742-fd88bf6ec30b\":{\"defs\":[{\"extends\":null,\"module\":null,\"name\":\"DataModel\",\"overrides\":[],\"properties\":[]}],\"roots\":{\"references\":[{\"attributes\":{\"below\":[{\"id\":\"1014\"}],\"center\":[{\"id\":\"1017\"},{\"id\":\"1021\"},{\"id\":\"1042\"}],\"height\":500,\"left\":[{\"id\":\"1018\"}],\"renderers\":[{\"id\":\"1031\"}],\"title\":{\"id\":\"1004\"},\"toolbar\":{\"id\":\"1023\"},\"x_range\":{\"id\":\"1006\"},\"x_scale\":{\"id\":\"1010\"},\"y_range\":{\"id\":\"1008\"},\"y_scale\":{\"id\":\"1012\"}},\"id\":\"1003\",\"subtype\":\"Figure\",\"type\":\"Plot\"},{\"attributes\":{\"end_angle\":{\"expr\":{\"id\":\"1026\"}},\"fill_color\":{\"field\":\"color\"},\"line_color\":{\"value\":\"white\"},\"radius\":{\"value\":0.5},\"start_angle\":{\"expr\":{\"id\":\"1025\"}},\"x\":{\"value\":0},\"y\":{\"value\":1}},\"id\":\"1029\",\"type\":\"Wedge\"},{\"attributes\":{\"axis_label\":null,\"formatter\":{\"id\":\"1037\"},\"major_label_policy\":{\"id\":\"1038\"},\"ticker\":{\"id\":\"1015\"},\"visible\":false},\"id\":\"1014\",\"type\":\"LinearAxis\"},{\"attributes\":{\"data\":{\"angle\":{\"__ndarray__\":\"0l0NXTDD/T9Gl2OFIr/PP0aXY4Uiv78/L7qXAxcq1T9Gl2OFIr/PPy+6lwMXKqU/u6h9xJx0+j9Gl2OFIr/fP+nCJCPUhNI/6cIkI9SE4j8vupcDFyrVPy+6lwMXKqU/L7qXAxcqpT8=\",\"dtype\":\"float64\",\"order\":\"little\",\"shape\":[13]},\"color\":[\"#3182bd\",\"#6baed6\",\"#9ecae1\",\"#c6dbef\",\"#e6550d\",\"#fd8d3c\",\"#fdae6b\",\"#fdd0a2\",\"#31a354\",\"#74c476\",\"#a1d99b\",\"#c7e9c0\",\"#756bb1\"],\"count\":[45,6,3,8,6,1,40,12,7,14,8,1,1],\"index\":[0,1,2,3,4,5,6,7,8,9,10,11,12],\"region\":[\"Africa\",\"Central Asia\",\"Oceania\",\"Southeast Asia\",\"North Asia\",\"Canada\",\"EMEA\",\"Central\",\"North\",\"South\",\"Caribbean\",\"West\",\"East\"]},\"selected\":{\"id\":\"1041\"},\"selection_policy\":{\"id\":\"1040\"}},\"id\":\"1027\",\"type\":\"ColumnDataSource\"},{\"attributes\":{\"field\":\"angle\",\"include_zero\":true},\"id\":\"1025\",\"type\":\"CumSum\"},{\"attributes\":{\"items\":[{\"id\":\"1043\"}]},\"id\":\"1042\",\"type\":\"Legend\"},{\"attributes\":{\"start\":-0.5},\"id\":\"1006\",\"type\":\"Range1d\"},{\"attributes\":{},\"id\":\"1008\",\"type\":\"DataRange1d\"},{\"attributes\":{},\"id\":\"1035\",\"type\":\"AllLabels\"},{\"attributes\":{},\"id\":\"1037\",\"type\":\"BasicTickFormatter\"},{\"attributes\":{},\"id\":\"1010\",\"type\":\"LinearScale\"},{\"attributes\":{},\"id\":\"1019\",\"type\":\"BasicTicker\"},{\"attributes\":{\"callback\":null,\"tooltips\":[[\"Region\",\"@region\"],[\"Countries\",\"@count\"]]},\"id\":\"1022\",\"type\":\"HoverTool\"},{\"attributes\":{},\"id\":\"1012\",\"type\":\"LinearScale\"},{\"attributes\":{},\"id\":\"1034\",\"type\":\"BasicTickFormatter\"},{\"attributes\":{\"field\":\"angle\"},\"id\":\"1026\",\"type\":\"CumSum\"},{\"attributes\":{\"active_multi\":null,\"tools\":[{\"id\":\"1022\"}]},\"id\":\"1023\",\"type\":\"Toolbar\"},{\"attributes\":{\"data_source\":{\"id\":\"1027\"},\"glyph\":{\"id\":\"1029\"},\"hover_glyph\":null,\"muted_glyph\":null,\"nonselection_glyph\":{\"id\":\"1030\"},\"view\":{\"id\":\"1032\"}},\"id\":\"1031\",\"type\":\"GlyphRenderer\"},{\"attributes\":{\"axis\":{\"id\":\"1014\"},\"grid_line_color\":null,\"ticker\":null},\"id\":\"1017\",\"type\":\"Grid\"},{\"attributes\":{\"end_angle\":{\"expr\":{\"id\":\"1026\"}},\"fill_alpha\":{\"value\":0.1},\"fill_color\":{\"field\":\"color\"},\"line_alpha\":{\"value\":0.1},\"line_color\":{\"value\":\"white\"},\"radius\":{\"value\":0.5},\"start_angle\":{\"expr\":{\"id\":\"1025\"}},\"x\":{\"value\":0},\"y\":{\"value\":1}},\"id\":\"1030\",\"type\":\"Wedge\"},{\"attributes\":{\"axis_label\":null,\"formatter\":{\"id\":\"1034\"},\"major_label_policy\":{\"id\":\"1035\"},\"ticker\":{\"id\":\"1019\"},\"visible\":false},\"id\":\"1018\",\"type\":\"LinearAxis\"},{\"attributes\":{},\"id\":\"1040\",\"type\":\"UnionRenderers\"},{\"attributes\":{\"axis\":{\"id\":\"1018\"},\"dimension\":1,\"grid_line_color\":null,\"ticker\":null},\"id\":\"1021\",\"type\":\"Grid\"},{\"attributes\":{},\"id\":\"1041\",\"type\":\"Selection\"},{\"attributes\":{\"label\":{\"field\":\"region\"},\"renderers\":[{\"id\":\"1031\"}]},\"id\":\"1043\",\"type\":\"LegendItem\"},{\"attributes\":{},\"id\":\"1015\",\"type\":\"BasicTicker\"},{\"attributes\":{},\"id\":\"1038\",\"type\":\"AllLabels\"},{\"attributes\":{\"text\":\"Country Count in Regions\"},\"id\":\"1004\",\"type\":\"Title\"},{\"attributes\":{\"source\":{\"id\":\"1027\"}},\"id\":\"1032\",\"type\":\"CDSView\"}],\"root_ids\":[\"1003\"]},\"title\":\"Bokeh Application\",\"version\":\"2.3.0\"}};\n  var render_items = [{\"docid\":\"9dd4f6d9-6752-481a-b742-fd88bf6ec30b\",\"root_ids\":[\"1003\"],\"roots\":{\"1003\":\"8eda406c-b46c-4591-952c-bf558e3563eb\"}}];\n  root.Bokeh.embed.embed_items_notebook(docs_json, render_items);\n\n  }\n  if (root.Bokeh !== undefined) {\n    embed_document(root);\n  } else {\n    var attempts = 0;\n    var timer = setInterval(function(root) {\n      if (root.Bokeh !== undefined) {\n        clearInterval(timer);\n        embed_document(root);\n      } else {\n        attempts++;\n        if (attempts > 100) {\n          clearInterval(timer);\n          console.log(\"Bokeh: ERROR: Unable to run BokehJS code because BokehJS library is missing\");\n        }\n      }\n    }, 10, root)\n  }\n})(window);",
      "application/vnd.bokehjs_exec.v0+json": ""
     },
     "metadata": {
      "application/vnd.bokehjs_exec.v0+json": {
       "id": "1003"
      }
     }
    }
   ],
   "source": [
    "show(p)"
   ]
  },
  {
   "source": [
    "BAR CHART & HISTOGRAM"
   ],
   "cell_type": "markdown",
   "metadata": {}
  },
  {
   "cell_type": "code",
   "execution_count": 17,
   "metadata": {},
   "outputs": [
    {
     "output_type": "stream",
     "name": "stdout",
     "text": [
      "             State  count\n0            Anhui     11\n1          Beijing      3\n2        Chongqing      3\n3           Fujian      7\n4            Gansu      2\n5        Guangdong     22\n6          Guangxi      6\n7          Guizhou      4\n8           Hainan      2\n9            Hebei     10\n10    Heilongjiang     16\n11           Henan     15\n12           Hubei     19\n13           Hunan     14\n14  Inner Mongolia      6\n15         Jiangsu     19\n16         Jiangxi      4\n17           Jilin     12\n18        Liaoning     12\n19         Ningxia      1\n20         Qinghai      1\n21         Shaanxi      4\n22        Shandong     20\n23        Shanghai      1\n24          Shanxi      8\n25         Sichuan     12\n26         Tianjin      3\n27  Xinjiang Uygur      3\n28          Yunnan      2\n29        Zhejiang     14\n"
     ]
    }
   ],
   "source": [
    "#6.\thistogram to show the states in a country on x-axis and the count of cities in each state on y-axis\n",
    "mycursor.execute(\"select state, count(city) from (select distinct country, state, city from location_dim where country = 'China') a group by a.state;\")\n",
    "df = pd.DataFrame(mycursor.fetchall())\n",
    "df = df.rename(columns = {0:'State', 1:'count'})\n",
    "print(df)"
   ]
  },
  {
   "cell_type": "code",
   "execution_count": 18,
   "metadata": {},
   "outputs": [
    {
     "output_type": "display_data",
     "data": {
      "text/html": "\n\n\n\n\n\n  <div class=\"bk-root\" id=\"11e5f843-a3be-4613-ac1a-442bab5c4dd6\" data-root-id=\"1688\"></div>\n"
     },
     "metadata": {}
    },
    {
     "output_type": "display_data",
     "data": {
      "application/javascript": "(function(root) {\n  function embed_document(root) {\n    \n  var docs_json = {\"8f6a31b9-5342-4623-9747-d04fede40fc8\":{\"defs\":[{\"extends\":null,\"module\":null,\"name\":\"DataModel\",\"overrides\":[],\"properties\":[]}],\"roots\":{\"references\":[{\"attributes\":{\"below\":[{\"id\":\"1699\"}],\"center\":[{\"id\":\"1701\"},{\"id\":\"1705\"}],\"left\":[{\"id\":\"1702\"}],\"renderers\":[{\"id\":\"1726\"}],\"title\":{\"id\":\"1689\"},\"toolbar\":{\"id\":\"1714\"},\"x_range\":{\"id\":\"1691\"},\"x_scale\":{\"id\":\"1695\"},\"y_range\":{\"id\":\"1693\"},\"y_scale\":{\"id\":\"1697\"}},\"id\":\"1688\",\"subtype\":\"Figure\",\"type\":\"Plot\"},{\"attributes\":{\"axis_label\":\"No. of Cities\",\"formatter\":{\"id\":\"1783\"},\"major_label_policy\":{\"id\":\"1784\"},\"ticker\":{\"id\":\"1703\"}},\"id\":\"1702\",\"type\":\"LinearAxis\"},{\"attributes\":{},\"id\":\"1780\",\"type\":\"CategoricalTickFormatter\"},{\"attributes\":{},\"id\":\"1781\",\"type\":\"AllLabels\"},{\"attributes\":{\"overlay\":{\"id\":\"1713\"}},\"id\":\"1707\",\"type\":\"BoxSelectTool\"},{\"attributes\":{\"source\":{\"id\":\"1722\"}},\"id\":\"1727\",\"type\":\"CDSView\"},{\"attributes\":{},\"id\":\"1786\",\"type\":\"Selection\"},{\"attributes\":{\"axis\":{\"id\":\"1699\"},\"ticker\":null},\"id\":\"1701\",\"type\":\"Grid\"},{\"attributes\":{\"data_source\":{\"id\":\"1722\"},\"glyph\":{\"id\":\"1724\"},\"hover_glyph\":null,\"muted_glyph\":null,\"nonselection_glyph\":{\"id\":\"1725\"},\"view\":{\"id\":\"1727\"}},\"id\":\"1726\",\"type\":\"GlyphRenderer\"},{\"attributes\":{\"callback\":null,\"tooltips\":[[\"State\",\"@State\"],[\"cities\",\"@count\"]]},\"id\":\"1712\",\"type\":\"HoverTool\"},{\"attributes\":{},\"id\":\"1787\",\"type\":\"UnionRenderers\"},{\"attributes\":{\"text\":\"Cities in States of China\"},\"id\":\"1689\",\"type\":\"Title\"},{\"attributes\":{},\"id\":\"1710\",\"type\":\"SaveTool\"},{\"attributes\":{},\"id\":\"1700\",\"type\":\"CategoricalTicker\"},{\"attributes\":{\"bottom_units\":\"screen\",\"fill_alpha\":0.5,\"fill_color\":\"lightgrey\",\"left_units\":\"screen\",\"level\":\"overlay\",\"line_alpha\":1.0,\"line_color\":\"black\",\"line_dash\":[4,4],\"line_width\":2,\"right_units\":\"screen\",\"syncable\":false,\"top_units\":\"screen\"},\"id\":\"1713\",\"type\":\"BoxAnnotation\"},{\"attributes\":{},\"id\":\"1693\",\"type\":\"DataRange1d\"},{\"attributes\":{\"axis_label\":\"States in China\",\"formatter\":{\"id\":\"1780\"},\"major_label_orientation\":0.9,\"major_label_policy\":{\"id\":\"1781\"},\"ticker\":{\"id\":\"1700\"}},\"id\":\"1699\",\"type\":\"CategoricalAxis\"},{\"attributes\":{\"fill_color\":{\"value\":\"#3182bd\"},\"line_color\":{\"value\":\"white\"},\"top\":{\"field\":\"count\"},\"x\":{\"field\":\"State\"}},\"id\":\"1724\",\"type\":\"VBar\"},{\"attributes\":{\"active_multi\":null,\"logo\":null,\"tools\":[{\"id\":\"1706\"},{\"id\":\"1707\"},{\"id\":\"1708\"},{\"id\":\"1709\"},{\"id\":\"1710\"},{\"id\":\"1711\"},{\"id\":\"1712\"}]},\"id\":\"1714\",\"type\":\"Toolbar\"},{\"attributes\":{},\"id\":\"1783\",\"type\":\"BasicTickFormatter\"},{\"attributes\":{},\"id\":\"1784\",\"type\":\"AllLabels\"},{\"attributes\":{},\"id\":\"1695\",\"type\":\"CategoricalScale\"},{\"attributes\":{},\"id\":\"1709\",\"type\":\"ZoomOutTool\"},{\"attributes\":{\"axis\":{\"id\":\"1702\"},\"dimension\":1,\"ticker\":null},\"id\":\"1705\",\"type\":\"Grid\"},{\"attributes\":{\"fill_alpha\":{\"value\":0.1},\"fill_color\":{\"value\":\"#3182bd\"},\"line_alpha\":{\"value\":0.1},\"line_color\":{\"value\":\"white\"},\"top\":{\"field\":\"count\"},\"x\":{\"field\":\"State\"}},\"id\":\"1725\",\"type\":\"VBar\"},{\"attributes\":{},\"id\":\"1711\",\"type\":\"ResetTool\"},{\"attributes\":{\"data\":{\"State\":[\"Anhui\",\"Beijing\",\"Chongqing\",\"Fujian\",\"Gansu\",\"Guangdong\",\"Guangxi\",\"Guizhou\",\"Hainan\",\"Hebei\",\"Heilongjiang\",\"Henan\",\"Hubei\",\"Hunan\",\"Inner Mongolia\",\"Jiangsu\",\"Jiangxi\",\"Jilin\",\"Liaoning\",\"Ningxia\",\"Qinghai\",\"Shaanxi\",\"Shandong\",\"Shanghai\",\"Shanxi\",\"Sichuan\",\"Tianjin\",\"Xinjiang Uygur\",\"Yunnan\",\"Zhejiang\"],\"count\":[11,3,3,7,2,22,6,4,2,10,16,15,19,14,6,19,4,12,12,1,1,4,20,1,8,12,3,3,2,14],\"index\":[0,1,2,3,4,5,6,7,8,9,10,11,12,13,14,15,16,17,18,19,20,21,22,23,24,25,26,27,28,29]},\"selected\":{\"id\":\"1786\"},\"selection_policy\":{\"id\":\"1787\"}},\"id\":\"1722\",\"type\":\"ColumnDataSource\"},{\"attributes\":{},\"id\":\"1706\",\"type\":\"PanTool\"},{\"attributes\":{},\"id\":\"1708\",\"type\":\"ZoomInTool\"},{\"attributes\":{},\"id\":\"1703\",\"type\":\"BasicTicker\"},{\"attributes\":{\"factors\":[\"Anhui\",\"Beijing\",\"Chongqing\",\"Fujian\",\"Gansu\",\"Guangdong\",\"Guangxi\",\"Guizhou\",\"Hainan\",\"Hebei\",\"Heilongjiang\",\"Henan\",\"Hubei\",\"Hunan\",\"Inner Mongolia\",\"Jiangsu\",\"Jiangxi\",\"Jilin\",\"Liaoning\",\"Ningxia\",\"Qinghai\",\"Shaanxi\",\"Shandong\",\"Shanghai\",\"Shanxi\",\"Sichuan\",\"Tianjin\",\"Xinjiang Uygur\",\"Yunnan\",\"Zhejiang\"],\"range_padding\":0.05},\"id\":\"1691\",\"type\":\"FactorRange\"},{\"attributes\":{},\"id\":\"1697\",\"type\":\"LinearScale\"}],\"root_ids\":[\"1688\"]},\"title\":\"Bokeh Application\",\"version\":\"2.3.0\"}};\n  var render_items = [{\"docid\":\"8f6a31b9-5342-4623-9747-d04fede40fc8\",\"root_ids\":[\"1688\"],\"roots\":{\"1688\":\"11e5f843-a3be-4613-ac1a-442bab5c4dd6\"}}];\n  root.Bokeh.embed.embed_items_notebook(docs_json, render_items);\n\n  }\n  if (root.Bokeh !== undefined) {\n    embed_document(root);\n  } else {\n    var attempts = 0;\n    var timer = setInterval(function(root) {\n      if (root.Bokeh !== undefined) {\n        clearInterval(timer);\n        embed_document(root);\n      } else {\n        attempts++;\n        if (attempts > 100) {\n          clearInterval(timer);\n          console.log(\"Bokeh: ERROR: Unable to run BokehJS code because BokehJS library is missing\");\n        }\n      }\n    }, 10, root)\n  }\n})(window);",
      "application/vnd.bokehjs_exec.v0+json": ""
     },
     "metadata": {
      "application/vnd.bokehjs_exec.v0+json": {
       "id": "1688"
      }
     }
    }
   ],
   "source": [
    "p = figure(x_range = df['State'], \n",
    "            title=\"Cities in States of China\", \n",
    "            y_axis_label = \"No. of Cities\", \n",
    "            tools=\"pan,box_select,zoom_in,zoom_out,save,reset,hover\", \n",
    "            tooltips=[(\"State\", \"@State\"), (\"cities\", \"@count\")])\n",
    "\n",
    "p.vbar(x = 'State', \n",
    "        top = 'count', \n",
    "        width = 1.0, \n",
    "        source = df, \n",
    "        line_color=\"white\", \n",
    "        color = '#3182bd')\n",
    "p.xaxis.axis_label = \"States in China\"\n",
    "p.xaxis.major_label_orientation = 0.9\n",
    "p.x_range.range_padding = 0.05\n",
    "p.toolbar.logo = None\n",
    "show(p)"
   ]
  },
  {
   "cell_type": "code",
   "execution_count": 19,
   "metadata": {},
   "outputs": [
    {
     "output_type": "stream",
     "name": "stdout",
     "text": [
      "           category  subcategory         sales\n0         Furniture  Furnishings   385291.8759\n1         Furniture       Tables   757041.9244\n2         Furniture    Bookcases  1466404.2118\n3         Furniture       Chairs  1500296.4972\n4   Office Supplies      Binders   461504.4627\n5   Office Supplies    Fasteners    83242.3159\n6   Office Supplies     Supplies   243074.2206\n7   Office Supplies    Envelopes   170883.8116\n8   Office Supplies   Appliances  1007347.9530\n9   Office Supplies          Art   371560.1349\n10  Office Supplies       Labels    73392.6600\n11  Office Supplies        Paper   244196.9194\n12  Office Supplies      Storage  1126425.7414\n13       Technology  Accessories   748785.9625\n14       Technology       Phones  1703104.8592\n15       Technology      Copiers  1509436.2742\n16       Technology     Machines   778553.4271\n"
     ]
    }
   ],
   "source": [
    "#33. Total lifetime sales of all subcategories in all categories (Segmented Bar chart)\n",
    "mycursor.execute(\"select c.category, c.subcategory, sum(sales) sales from category_dim c inner join mv_product_sales m on c.category_id = m.category_id group by c.category, c.subcategory;\")\n",
    "df = pd.DataFrame(mycursor.fetchall())\n",
    "df = df.rename(columns = {0:'category', 1:'subcategory', 2: 'sales'})\n",
    "print(df)"
   ]
  },
  {
   "cell_type": "code",
   "execution_count": 20,
   "metadata": {},
   "outputs": [
    {
     "output_type": "display_data",
     "data": {
      "text/html": "\n\n\n\n\n\n  <div class=\"bk-root\" id=\"67741b83-40c5-442b-8d1c-282e4494a832\" data-root-id=\"1840\"></div>\n"
     },
     "metadata": {}
    },
    {
     "output_type": "display_data",
     "data": {
      "application/javascript": "(function(root) {\n  function embed_document(root) {\n    \n  var docs_json = {\"d2ae94ed-43fa-4f46-8e42-2ff14716293d\":{\"defs\":[{\"extends\":null,\"module\":null,\"name\":\"DataModel\",\"overrides\":[],\"properties\":[]}],\"roots\":{\"references\":[{\"attributes\":{\"below\":[{\"id\":\"1851\"}],\"center\":[{\"id\":\"1853\"},{\"id\":\"1857\"}],\"height\":500,\"left\":[{\"id\":\"1854\"}],\"outline_line_color\":\"black\",\"renderers\":[{\"id\":\"1878\"}],\"title\":{\"id\":\"1841\"},\"toolbar\":{\"id\":\"1866\"},\"width\":700,\"x_range\":{\"id\":\"1843\"},\"x_scale\":{\"id\":\"1847\"},\"y_range\":{\"id\":\"1845\"},\"y_scale\":{\"id\":\"1849\"}},\"id\":\"1840\",\"subtype\":\"Figure\",\"type\":\"Plot\"},{\"attributes\":{},\"id\":\"1942\",\"type\":\"CategoricalTickFormatter\"},{\"attributes\":{\"axis\":{\"id\":\"1854\"},\"dimension\":1,\"ticker\":null},\"id\":\"1857\",\"type\":\"Grid\"},{\"attributes\":{\"bottom_units\":\"screen\",\"fill_alpha\":0.5,\"fill_color\":\"lightgrey\",\"left_units\":\"screen\",\"level\":\"overlay\",\"line_alpha\":1.0,\"line_color\":\"black\",\"line_dash\":[4,4],\"line_width\":2,\"right_units\":\"screen\",\"syncable\":false,\"top_units\":\"screen\"},\"id\":\"1865\",\"type\":\"BoxAnnotation\"},{\"attributes\":{},\"id\":\"1943\",\"type\":\"AllLabels\"},{\"attributes\":{\"data_source\":{\"id\":\"1874\"},\"glyph\":{\"id\":\"1876\"},\"hover_glyph\":null,\"muted_glyph\":null,\"nonselection_glyph\":{\"id\":\"1877\"},\"view\":{\"id\":\"1879\"}},\"id\":\"1878\",\"type\":\"GlyphRenderer\"},{\"attributes\":{},\"id\":\"1949\",\"type\":\"UnionRenderers\"},{\"attributes\":{},\"id\":\"1945\",\"type\":\"BasicTickFormatter\"},{\"attributes\":{},\"id\":\"1852\",\"type\":\"CategoricalTicker\"},{\"attributes\":{\"end\":1,\"factors\":[\"Furniture\",\"Office Supplies\",\"Technology\"],\"palette\":[\"#5e4fa2\",\"#3288bd\",\"#66c2a5\",\"#abdda4\",\"#e6f598\",\"#fee08b\",\"#fdae61\",\"#f46d43\",\"#d53e4f\",\"#9e0142\"]},\"id\":\"1839\",\"type\":\"CategoricalColorMapper\"},{\"attributes\":{\"text\":\"Total Sales of Subcategories\"},\"id\":\"1841\",\"type\":\"Title\"},{\"attributes\":{},\"id\":\"1863\",\"type\":\"ResetTool\"},{\"attributes\":{},\"id\":\"1862\",\"type\":\"SaveTool\"},{\"attributes\":{\"active_multi\":null,\"logo\":null,\"tools\":[{\"id\":\"1858\"},{\"id\":\"1859\"},{\"id\":\"1860\"},{\"id\":\"1861\"},{\"id\":\"1862\"},{\"id\":\"1863\"},{\"id\":\"1864\"}]},\"id\":\"1866\",\"type\":\"Toolbar\"},{\"attributes\":{},\"id\":\"1860\",\"type\":\"ZoomInTool\"},{\"attributes\":{},\"id\":\"1948\",\"type\":\"Selection\"},{\"attributes\":{\"callback\":null,\"tooltips\":[[\"Category_SubCategory: \",\"@category_subcategory\"],[\"sales: \",\"@sales_top\"]]},\"id\":\"1864\",\"type\":\"HoverTool\"},{\"attributes\":{\"fill_alpha\":{\"value\":0.1},\"fill_color\":{\"field\":\"category_subcategory\",\"transform\":{\"id\":\"1839\"}},\"line_alpha\":{\"value\":0.1},\"line_color\":{\"value\":\"white\"},\"top\":{\"field\":\"sales_top\"},\"x\":{\"field\":\"category_subcategory\"}},\"id\":\"1877\",\"type\":\"VBar\"},{\"attributes\":{},\"id\":\"1858\",\"type\":\"PanTool\"},{\"attributes\":{\"overlay\":{\"id\":\"1865\"}},\"id\":\"1859\",\"type\":\"BoxSelectTool\"},{\"attributes\":{},\"id\":\"1861\",\"type\":\"ZoomOutTool\"},{\"attributes\":{\"fill_color\":{\"field\":\"category_subcategory\",\"transform\":{\"id\":\"1839\"}},\"line_color\":{\"value\":\"white\"},\"top\":{\"field\":\"sales_top\"},\"x\":{\"field\":\"category_subcategory\"}},\"id\":\"1876\",\"type\":\"VBar\"},{\"attributes\":{\"source\":{\"id\":\"1874\"}},\"id\":\"1879\",\"type\":\"CDSView\"},{\"attributes\":{},\"id\":\"1946\",\"type\":\"AllLabels\"},{\"attributes\":{},\"id\":\"1855\",\"type\":\"BasicTicker\"},{\"attributes\":{\"axis_label\":\"Sales (in Million USD)\",\"formatter\":{\"id\":\"1945\"},\"major_label_policy\":{\"id\":\"1946\"},\"ticker\":{\"id\":\"1855\"}},\"id\":\"1854\",\"type\":\"LinearAxis\"},{\"attributes\":{\"data\":{\"category_subcategory\":[[\"Furniture\",\"Bookcases\"],[\"Furniture\",\"Chairs\"],[\"Furniture\",\"Furnishings\"],[\"Furniture\",\"Tables\"],[\"Office Supplies\",\"Appliances\"],[\"Office Supplies\",\"Art\"],[\"Office Supplies\",\"Binders\"],[\"Office Supplies\",\"Envelopes\"],[\"Office Supplies\",\"Fasteners\"],[\"Office Supplies\",\"Labels\"],[\"Office Supplies\",\"Paper\"],[\"Office Supplies\",\"Storage\"],[\"Office Supplies\",\"Supplies\"],[\"Technology\",\"Accessories\"],[\"Technology\",\"Copiers\"],[\"Technology\",\"Machines\"],[\"Technology\",\"Phones\"]],\"sales_count\":[1,1,1,1,1,1,1,1,1,1,1,1,1,1,1,1,1],\"sales_freq\":[1,1,1,1,1,1,1,1,1,1,1,1,1,1,1,1,1],\"sales_top\":[1466404.2118,1500296.4972,385291.8759,757041.9244,1007347.953,371560.1349,461504.4627,170883.8116,83242.3159,73392.66,244196.9194,1126425.7414,243074.2206,748785.9625,1509436.2742,778553.4271,1703104.8592],\"sales_unique\":[1,1,1,1,1,1,1,1,1,1,1,1,1,1,1,1,1]},\"selected\":{\"id\":\"1948\"},\"selection_policy\":{\"id\":\"1949\"}},\"id\":\"1874\",\"type\":\"ColumnDataSource\"},{\"attributes\":{},\"id\":\"1849\",\"type\":\"LinearScale\"},{\"attributes\":{\"factors\":[[\"Furniture\",\"Bookcases\"],[\"Furniture\",\"Chairs\"],[\"Furniture\",\"Furnishings\"],[\"Furniture\",\"Tables\"],[\"Office Supplies\",\"Appliances\"],[\"Office Supplies\",\"Art\"],[\"Office Supplies\",\"Binders\"],[\"Office Supplies\",\"Envelopes\"],[\"Office Supplies\",\"Fasteners\"],[\"Office Supplies\",\"Labels\"],[\"Office Supplies\",\"Paper\"],[\"Office Supplies\",\"Storage\"],[\"Office Supplies\",\"Supplies\"],[\"Technology\",\"Accessories\"],[\"Technology\",\"Copiers\"],[\"Technology\",\"Machines\"],[\"Technology\",\"Phones\"]],\"range_padding\":0.05},\"id\":\"1843\",\"type\":\"FactorRange\"},{\"attributes\":{\"axis_label\":\"Subcategories in Categories\",\"formatter\":{\"id\":\"1942\"},\"major_label_orientation\":1.0,\"major_label_policy\":{\"id\":\"1943\"},\"ticker\":{\"id\":\"1852\"}},\"id\":\"1851\",\"type\":\"CategoricalAxis\"},{\"attributes\":{},\"id\":\"1847\",\"type\":\"CategoricalScale\"},{\"attributes\":{\"start\":0},\"id\":\"1845\",\"type\":\"DataRange1d\"},{\"attributes\":{\"axis\":{\"id\":\"1851\"},\"grid_line_color\":null,\"ticker\":null},\"id\":\"1853\",\"type\":\"Grid\"}],\"root_ids\":[\"1840\"]},\"title\":\"Bokeh Application\",\"version\":\"2.3.0\"}};\n  var render_items = [{\"docid\":\"d2ae94ed-43fa-4f46-8e42-2ff14716293d\",\"root_ids\":[\"1840\"],\"roots\":{\"1840\":\"67741b83-40c5-442b-8d1c-282e4494a832\"}}];\n  root.Bokeh.embed.embed_items_notebook(docs_json, render_items);\n\n  }\n  if (root.Bokeh !== undefined) {\n    embed_document(root);\n  } else {\n    var attempts = 0;\n    var timer = setInterval(function(root) {\n      if (root.Bokeh !== undefined) {\n        clearInterval(timer);\n        embed_document(root);\n      } else {\n        attempts++;\n        if (attempts > 100) {\n          clearInterval(timer);\n          console.log(\"Bokeh: ERROR: Unable to run BokehJS code because BokehJS library is missing\");\n        }\n      }\n    }, 10, root)\n  }\n})(window);",
      "application/vnd.bokehjs_exec.v0+json": ""
     },
     "metadata": {
      "application/vnd.bokehjs_exec.v0+json": {
       "id": "1840"
      }
     }
    }
   ],
   "source": [
    "group = df.groupby(by=['category', 'subcategory'])\n",
    "\n",
    "index_cmap = factor_cmap('category_subcategory', palette=Spectral10, factors=sorted(df.category.unique()), end=1)\n",
    "\n",
    "p = figure(plot_width=700, \n",
    "            plot_height=500, \n",
    "            title=\"Total Sales of Subcategories\", \n",
    "            x_range=group, \n",
    "            tools=\"pan,box_select,zoom_in,zoom_out,save,reset,hover\", \n",
    "            tooltips=[(\"Category_SubCategory: \", \"@category_subcategory\"), (\"sales: \", \"@sales_top\")])\n",
    "\n",
    "p.vbar(x='category_subcategory', \n",
    "        top='sales_top', width=1, \n",
    "        source=group, \n",
    "        line_color=\"white\", \n",
    "        fill_color=index_cmap)\n",
    "\n",
    "p.y_range.start = 0\n",
    "p.x_range.range_padding = 0.05\n",
    "p.xgrid.grid_line_color = None\n",
    "p.xaxis.axis_label = \"Subcategories in Categories\"\n",
    "p.yaxis.axis_label = \"Sales (in Million USD)\"\n",
    "p.xaxis.major_label_orientation = 1.0\n",
    "p.outline_line_color = 'black'\n",
    "p.toolbar.logo = None\n",
    "show(p)"
   ]
  },
  {
   "cell_type": "code",
   "execution_count": 21,
   "metadata": {},
   "outputs": [
    {
     "output_type": "stream",
     "name": "stdout",
     "text": [
      "   market   this_month   prev_month\n0  Africa   33802.7310   37862.8590\n1    APAC  121584.0093  155630.0382\n2  Canada    5784.1200    2495.1900\n3    EMEA   40010.4690   21275.4690\n4      EU  123845.6595  119018.4330\n5   LATAM   87497.2789  106502.5367\n6      US   90372.2648  111782.0910\n"
     ]
    }
   ],
   "source": [
    "#18. Total sales by markets this month vs previous month (in grouped bar chart)\n",
    "mycursor.execute(\"select a.market, a.sales this_month, b.sales prev_month from (select market, sum(sales) sales from mv_location_time_sales where year=2014 and month=12 group by market) a inner join (select market, sum(sales) sales from mv_location_time_sales where year=2014 and month=11 group by market) b on a.market = b.market;\")\n",
    "df = pd.DataFrame(mycursor.fetchall())\n",
    "df = df.rename(columns = {0:'market', 1:'this_month', 2: 'prev_month'})\n",
    "print(df)"
   ]
  },
  {
   "cell_type": "code",
   "execution_count": 22,
   "metadata": {},
   "outputs": [
    {
     "output_type": "display_data",
     "data": {
      "text/html": "\n\n\n\n\n\n  <div class=\"bk-root\" id=\"8bd916cf-8366-4789-990d-81f6b2f88ad3\" data-root-id=\"2001\"></div>\n"
     },
     "metadata": {}
    },
    {
     "output_type": "display_data",
     "data": {
      "application/javascript": "(function(root) {\n  function embed_document(root) {\n    \n  var docs_json = {\"1725eb3a-aa12-4792-b075-1ba265a187dc\":{\"defs\":[{\"extends\":null,\"module\":null,\"name\":\"DataModel\",\"overrides\":[],\"properties\":[]}],\"roots\":{\"references\":[{\"attributes\":{\"below\":[{\"id\":\"2012\"}],\"center\":[{\"id\":\"2014\"},{\"id\":\"2018\"},{\"id\":\"2052\"}],\"left\":[{\"id\":\"2015\"}],\"renderers\":[{\"id\":\"2040\"},{\"id\":\"2059\"}],\"title\":{\"id\":\"2002\"},\"toolbar\":{\"id\":\"2027\"},\"x_range\":{\"id\":\"2004\"},\"x_scale\":{\"id\":\"2008\"},\"y_range\":{\"id\":\"2006\"},\"y_scale\":{\"id\":\"2010\"}},\"id\":\"2001\",\"subtype\":\"Figure\",\"type\":\"Plot\"},{\"attributes\":{},\"id\":\"2013\",\"type\":\"CategoricalTicker\"},{\"attributes\":{\"text\":\"Current and Previous month sales by market\"},\"id\":\"2002\",\"type\":\"Title\"},{\"attributes\":{\"axis\":{\"id\":\"2012\"},\"ticker\":null},\"id\":\"2014\",\"type\":\"Grid\"},{\"attributes\":{},\"id\":\"2043\",\"type\":\"CategoricalTickFormatter\"},{\"attributes\":{\"bottom_units\":\"screen\",\"fill_alpha\":0.5,\"fill_color\":\"lightgrey\",\"left_units\":\"screen\",\"level\":\"overlay\",\"line_alpha\":1.0,\"line_color\":\"black\",\"line_dash\":[4,4],\"line_width\":2,\"right_units\":\"screen\",\"syncable\":false,\"top_units\":\"screen\"},\"id\":\"2026\",\"type\":\"BoxAnnotation\"},{\"attributes\":{},\"id\":\"2044\",\"type\":\"AllLabels\"},{\"attributes\":{\"factors\":[\"Africa\",\"APAC\",\"Canada\",\"EMEA\",\"EU\",\"LATAM\",\"US\"],\"range_padding\":0.05},\"id\":\"2004\",\"type\":\"FactorRange\"},{\"attributes\":{\"fill_alpha\":{\"value\":0.1},\"fill_color\":{\"value\":\"#3182bd\"},\"line_alpha\":{\"value\":0.1},\"line_color\":{\"value\":\"white\"},\"top\":{\"field\":\"this_month\"},\"width\":{\"value\":0.3},\"x\":{\"field\":\"market\",\"transform\":{\"id\":\"2035\"}}},\"id\":\"2039\",\"type\":\"VBar\"},{\"attributes\":{},\"id\":\"2049\",\"type\":\"Selection\"},{\"attributes\":{\"items\":[{\"id\":\"2053\"},{\"id\":\"2073\"}]},\"id\":\"2052\",\"type\":\"Legend\"},{\"attributes\":{\"fill_alpha\":{\"value\":0.8},\"fill_color\":{\"value\":\"#e6550d\"},\"line_color\":{\"value\":\"white\"},\"top\":{\"field\":\"prev_month\"},\"width\":{\"value\":0.3},\"x\":{\"field\":\"market\",\"transform\":{\"id\":\"2054\"}}},\"id\":\"2057\",\"type\":\"VBar\"},{\"attributes\":{\"source\":{\"id\":\"2036\"}},\"id\":\"2041\",\"type\":\"CDSView\"},{\"attributes\":{\"range\":{\"id\":\"2004\"},\"value\":-0.15},\"id\":\"2035\",\"type\":\"Dodge\"},{\"attributes\":{},\"id\":\"2071\",\"type\":\"UnionRenderers\"},{\"attributes\":{},\"id\":\"2050\",\"type\":\"UnionRenderers\"},{\"attributes\":{\"range\":{\"id\":\"2004\"},\"value\":0.15},\"id\":\"2054\",\"type\":\"Dodge\"},{\"attributes\":{},\"id\":\"2070\",\"type\":\"Selection\"},{\"attributes\":{\"data\":{\"index\":[0,1,2,3,4,5,6],\"market\":[\"Africa\",\"APAC\",\"Canada\",\"EMEA\",\"EU\",\"LATAM\",\"US\"],\"prev_month\":[37862.859,155630.0382,2495.19,21275.469,119018.433,106502.5367,111782.091],\"this_month\":[33802.731,121584.0093,5784.12,40010.469,123845.6595,87497.2789,90372.2648]},\"selected\":{\"id\":\"2049\"},\"selection_policy\":{\"id\":\"2050\"}},\"id\":\"2036\",\"type\":\"ColumnDataSource\"},{\"attributes\":{\"axis_label\":\"Sales Amount\",\"formatter\":{\"id\":\"2046\"},\"major_label_policy\":{\"id\":\"2047\"},\"ticker\":{\"id\":\"2016\"}},\"id\":\"2015\",\"type\":\"LinearAxis\"},{\"attributes\":{\"label\":{\"value\":\"Dec 2014\"},\"renderers\":[{\"id\":\"2040\"}]},\"id\":\"2053\",\"type\":\"LegendItem\"},{\"attributes\":{\"fill_alpha\":{\"value\":0.8},\"fill_color\":{\"value\":\"#3182bd\"},\"line_color\":{\"value\":\"white\"},\"top\":{\"field\":\"this_month\"},\"width\":{\"value\":0.3},\"x\":{\"field\":\"market\",\"transform\":{\"id\":\"2035\"}}},\"id\":\"2038\",\"type\":\"VBar\"},{\"attributes\":{\"source\":{\"id\":\"2055\"}},\"id\":\"2060\",\"type\":\"CDSView\"},{\"attributes\":{\"overlay\":{\"id\":\"2026\"}},\"id\":\"2020\",\"type\":\"BoxSelectTool\"},{\"attributes\":{\"label\":{\"value\":\"Nov 2014\"},\"renderers\":[{\"id\":\"2059\"}]},\"id\":\"2073\",\"type\":\"LegendItem\"},{\"attributes\":{\"data\":{\"index\":[0,1,2,3,4,5,6],\"market\":[\"Africa\",\"APAC\",\"Canada\",\"EMEA\",\"EU\",\"LATAM\",\"US\"],\"prev_month\":[37862.859,155630.0382,2495.19,21275.469,119018.433,106502.5367,111782.091],\"this_month\":[33802.731,121584.0093,5784.12,40010.469,123845.6595,87497.2789,90372.2648]},\"selected\":{\"id\":\"2070\"},\"selection_policy\":{\"id\":\"2071\"}},\"id\":\"2055\",\"type\":\"ColumnDataSource\"},{\"attributes\":{\"fill_alpha\":{\"value\":0.1},\"fill_color\":{\"value\":\"#e6550d\"},\"line_alpha\":{\"value\":0.1},\"line_color\":{\"value\":\"white\"},\"top\":{\"field\":\"prev_month\"},\"width\":{\"value\":0.3},\"x\":{\"field\":\"market\",\"transform\":{\"id\":\"2054\"}}},\"id\":\"2058\",\"type\":\"VBar\"},{\"attributes\":{},\"id\":\"2010\",\"type\":\"LinearScale\"},{\"attributes\":{\"axis_label\":\"Sales in USD\",\"formatter\":{\"id\":\"2043\"},\"major_label_policy\":{\"id\":\"2044\"},\"ticker\":{\"id\":\"2013\"}},\"id\":\"2012\",\"type\":\"CategoricalAxis\"},{\"attributes\":{\"axis\":{\"id\":\"2015\"},\"dimension\":1,\"ticker\":null},\"id\":\"2018\",\"type\":\"Grid\"},{\"attributes\":{},\"id\":\"2046\",\"type\":\"BasicTickFormatter\"},{\"attributes\":{\"start\":0},\"id\":\"2006\",\"type\":\"DataRange1d\"},{\"attributes\":{},\"id\":\"2047\",\"type\":\"AllLabels\"},{\"attributes\":{},\"id\":\"2016\",\"type\":\"BasicTicker\"},{\"attributes\":{},\"id\":\"2008\",\"type\":\"CategoricalScale\"},{\"attributes\":{},\"id\":\"2024\",\"type\":\"ResetTool\"},{\"attributes\":{\"data_source\":{\"id\":\"2055\"},\"glyph\":{\"id\":\"2057\"},\"hover_glyph\":null,\"muted_glyph\":null,\"nonselection_glyph\":{\"id\":\"2058\"},\"view\":{\"id\":\"2060\"}},\"id\":\"2059\",\"type\":\"GlyphRenderer\"},{\"attributes\":{},\"id\":\"2022\",\"type\":\"ZoomOutTool\"},{\"attributes\":{},\"id\":\"2019\",\"type\":\"PanTool\"},{\"attributes\":{},\"id\":\"2021\",\"type\":\"ZoomInTool\"},{\"attributes\":{\"data_source\":{\"id\":\"2036\"},\"glyph\":{\"id\":\"2038\"},\"hover_glyph\":null,\"muted_glyph\":null,\"nonselection_glyph\":{\"id\":\"2039\"},\"view\":{\"id\":\"2041\"}},\"id\":\"2040\",\"type\":\"GlyphRenderer\"},{\"attributes\":{\"callback\":null,\"tooltips\":[[\"Market\",\"@market\"],[\"Dec 2014\",\"@this_month\"],[\"Nov 2014\",\"@prev_month\"]]},\"id\":\"2025\",\"type\":\"HoverTool\"},{\"attributes\":{},\"id\":\"2023\",\"type\":\"SaveTool\"},{\"attributes\":{\"active_multi\":null,\"logo\":null,\"tools\":[{\"id\":\"2019\"},{\"id\":\"2020\"},{\"id\":\"2021\"},{\"id\":\"2022\"},{\"id\":\"2023\"},{\"id\":\"2024\"},{\"id\":\"2025\"}]},\"id\":\"2027\",\"type\":\"Toolbar\"}],\"root_ids\":[\"2001\"]},\"title\":\"Bokeh Application\",\"version\":\"2.3.0\"}};\n  var render_items = [{\"docid\":\"1725eb3a-aa12-4792-b075-1ba265a187dc\",\"root_ids\":[\"2001\"],\"roots\":{\"2001\":\"8bd916cf-8366-4789-990d-81f6b2f88ad3\"}}];\n  root.Bokeh.embed.embed_items_notebook(docs_json, render_items);\n\n  }\n  if (root.Bokeh !== undefined) {\n    embed_document(root);\n  } else {\n    var attempts = 0;\n    var timer = setInterval(function(root) {\n      if (root.Bokeh !== undefined) {\n        clearInterval(timer);\n        embed_document(root);\n      } else {\n        attempts++;\n        if (attempts > 100) {\n          clearInterval(timer);\n          console.log(\"Bokeh: ERROR: Unable to run BokehJS code because BokehJS library is missing\");\n        }\n      }\n    }, 10, root)\n  }\n})(window);",
      "application/vnd.bokehjs_exec.v0+json": ""
     },
     "metadata": {
      "application/vnd.bokehjs_exec.v0+json": {
       "id": "2001"
      }
     }
    }
   ],
   "source": [
    "p = figure(x_range = df['market'], \n",
    "            title=\"Current and Previous month sales by market\", \n",
    "            y_axis_label = \"Sales Amount\", \n",
    "            tools=\"pan,box_select,zoom_in,zoom_out,save,reset,hover\", \n",
    "            tooltips=[(\"Market\", \"@market\"), (\"Dec 2014\", \"@this_month\"), (\"Nov 2014\", \"@prev_month\")])\n",
    "\n",
    "p.vbar(x=dodge('market', -0.15, range=p.x_range), \n",
    "        top = 'this_month', \n",
    "        width = 0.3, \n",
    "        source = df, \n",
    "        line_color=\"white\", \n",
    "        color = '#3182bd', \n",
    "        fill_alpha = 0.8,\n",
    "        legend_label='Dec 2014')\n",
    "p.vbar(x=dodge('market', +0.15, range=p.x_range), \n",
    "        top = 'prev_month', \n",
    "        width = 0.3, \n",
    "        source = df, \n",
    "        line_color=\"white\", \n",
    "        color = '#e6550d', \n",
    "        fill_alpha = 0.8,\n",
    "        legend_label='Nov 2014')\n",
    "p.xaxis.axis_label = \"Sales in USD\"\n",
    "#p.xaxis.major_label_orientation = 0.9\n",
    "p.x_range.range_padding = 0.05\n",
    "p.y_range.start = 0\n",
    "p.toolbar.logo = None\n",
    "show(p)"
   ]
  },
  {
   "cell_type": "code",
   "execution_count": 23,
   "metadata": {},
   "outputs": [
    {
     "output_type": "stream",
     "name": "stdout",
     "text": [
      "   market         sales discount\n0      EU   778958.2245   177101\n1    APAC  1343422.2105   248899\n2   LATAM   811355.3800   215314\n3      US   741432.0433   185113\n4    EMEA   228620.7360    64926\n5  Africa   194650.6350    45309\n6  Canada    10595.2800        0\n"
     ]
    }
   ],
   "source": [
    "#38. Stacked bar cart to show sales and discount of category X in every market\n",
    "# taking category X as Furniture\n",
    "mycursor.execute(\"select l.market, sum(s.sales) sales, sum(s.discount) discount from (select * from category_dim where    category = 'Furniture') c inner join product_dim p on c.category_id = p.category_id inner join sales_fact s on p.product_id = s.product_id inner join location_dim l on s.location_id = l.location_id group by l.market;\")\n",
    "df = pd.DataFrame(mycursor.fetchall())\n",
    "df = df.rename(columns = {0:'market', 1:'sales', 2: 'discount'})\n",
    "print(df)"
   ]
  },
  {
   "cell_type": "code",
   "execution_count": 25,
   "metadata": {},
   "outputs": [
    {
     "output_type": "display_data",
     "data": {
      "text/html": "\n\n\n\n\n\n  <div class=\"bk-root\" id=\"42b2e10d-1897-4c64-a6f4-97ff66897de9\" data-root-id=\"2446\"></div>\n"
     },
     "metadata": {}
    },
    {
     "output_type": "display_data",
     "data": {
      "application/javascript": "(function(root) {\n  function embed_document(root) {\n    \n  var docs_json = {\"7f2f0588-b643-4562-b810-0c663c61ee93\":{\"defs\":[{\"extends\":null,\"module\":null,\"name\":\"DataModel\",\"overrides\":[],\"properties\":[]}],\"roots\":{\"references\":[{\"attributes\":{\"below\":[{\"id\":\"2457\"}],\"center\":[{\"id\":\"2459\"},{\"id\":\"2463\"},{\"id\":\"2500\"}],\"left\":[{\"id\":\"2460\"}],\"renderers\":[{\"id\":\"2488\"},{\"id\":\"2506\"}],\"title\":{\"id\":\"2447\"},\"toolbar\":{\"id\":\"2472\"},\"x_range\":{\"id\":\"2449\"},\"x_scale\":{\"id\":\"2453\"},\"y_range\":{\"id\":\"2451\"},\"y_scale\":{\"id\":\"2455\"}},\"id\":\"2446\",\"subtype\":\"Figure\",\"type\":\"Plot\"},{\"attributes\":{},\"id\":\"2498\",\"type\":\"UnionRenderers\"},{\"attributes\":{\"data_source\":{\"id\":\"2484\"},\"glyph\":{\"id\":\"2486\"},\"hover_glyph\":null,\"muted_glyph\":null,\"name\":\"sales\",\"nonselection_glyph\":{\"id\":\"2487\"},\"view\":{\"id\":\"2489\"}},\"id\":\"2488\",\"type\":\"GlyphRenderer\"},{\"attributes\":{\"items\":[{\"id\":\"2501\"},{\"id\":\"2520\"}]},\"id\":\"2500\",\"type\":\"Legend\"},{\"attributes\":{\"fields\":[\"sales\",\"discount\"]},\"id\":\"2483\",\"type\":\"Stack\"},{\"attributes\":{\"text\":\"Sales and Discount of X in all Markets\"},\"id\":\"2447\",\"type\":\"Title\"},{\"attributes\":{\"active_multi\":null,\"logo\":null,\"tools\":[{\"id\":\"2464\"},{\"id\":\"2465\"},{\"id\":\"2466\"},{\"id\":\"2467\"},{\"id\":\"2468\"},{\"id\":\"2469\"},{\"id\":\"2470\"}]},\"id\":\"2472\",\"type\":\"Toolbar\"},{\"attributes\":{\"bottom\":{\"expr\":{\"id\":\"2480\"}},\"fill_alpha\":{\"value\":0.1},\"fill_color\":{\"value\":\"#3182bd\"},\"line_alpha\":{\"value\":0.1},\"line_color\":{\"value\":\"#3182bd\"},\"top\":{\"expr\":{\"id\":\"2481\"}},\"width\":{\"value\":0.9},\"x\":{\"field\":\"market\"}},\"id\":\"2487\",\"type\":\"VBar\"},{\"attributes\":{\"bottom\":{\"expr\":{\"id\":\"2482\"}},\"fill_alpha\":{\"value\":0.8},\"fill_color\":{\"value\":\"#e6550d\"},\"line_color\":{\"value\":\"#e6550d\"},\"top\":{\"expr\":{\"id\":\"2483\"}},\"width\":{\"value\":0.9},\"x\":{\"field\":\"market\"}},\"id\":\"2504\",\"type\":\"VBar\"},{\"attributes\":{},\"id\":\"2494\",\"type\":\"BasicTickFormatter\"},{\"attributes\":{},\"id\":\"2495\",\"type\":\"AllLabels\"},{\"attributes\":{\"bottom_units\":\"screen\",\"fill_alpha\":0.5,\"fill_color\":\"lightgrey\",\"left_units\":\"screen\",\"level\":\"overlay\",\"line_alpha\":1.0,\"line_color\":\"black\",\"line_dash\":[4,4],\"line_width\":2,\"right_units\":\"screen\",\"syncable\":false,\"top_units\":\"screen\"},\"id\":\"2471\",\"type\":\"BoxAnnotation\"},{\"attributes\":{\"label\":{\"value\":\"sales\"},\"renderers\":[{\"id\":\"2488\"}]},\"id\":\"2501\",\"type\":\"LegendItem\"},{\"attributes\":{\"data_source\":{\"id\":\"2502\"},\"glyph\":{\"id\":\"2504\"},\"hover_glyph\":null,\"muted_glyph\":null,\"name\":\"discount\",\"nonselection_glyph\":{\"id\":\"2505\"},\"view\":{\"id\":\"2507\"}},\"id\":\"2506\",\"type\":\"GlyphRenderer\"},{\"attributes\":{\"source\":{\"id\":\"2502\"}},\"id\":\"2507\",\"type\":\"CDSView\"},{\"attributes\":{\"fields\":[\"sales\"]},\"id\":\"2481\",\"type\":\"Stack\"},{\"attributes\":{\"overlay\":{\"id\":\"2471\"}},\"id\":\"2465\",\"type\":\"BoxSelectTool\"},{\"attributes\":{\"label\":{\"value\":\"discount\"},\"renderers\":[{\"id\":\"2506\"}]},\"id\":\"2520\",\"type\":\"LegendItem\"},{\"attributes\":{\"axis\":{\"id\":\"2460\"},\"dimension\":1,\"ticker\":null},\"id\":\"2463\",\"type\":\"Grid\"},{\"attributes\":{\"fields\":[\"sales\"]},\"id\":\"2482\",\"type\":\"Stack\"},{\"attributes\":{\"callback\":null,\"tooltips\":\"$name @market: @$name\"},\"id\":\"2470\",\"type\":\"HoverTool\"},{\"attributes\":{\"axis\":{\"id\":\"2457\"},\"ticker\":null},\"id\":\"2459\",\"type\":\"Grid\"},{\"attributes\":{},\"id\":\"2467\",\"type\":\"ZoomOutTool\"},{\"attributes\":{},\"id\":\"2464\",\"type\":\"PanTool\"},{\"attributes\":{},\"id\":\"2466\",\"type\":\"ZoomInTool\"},{\"attributes\":{\"data\":{\"discount\":[177101.0,248899.0,215314.0,185113.0,64926.0,45309.0,0.0],\"index\":[0,1,2,3,4,5,6],\"market\":[\"EU\",\"APAC\",\"LATAM\",\"US\",\"EMEA\",\"Africa\",\"Canada\"],\"sales\":[778958.2245,1343422.2105,811355.38,741432.0433,228620.736,194650.635,10595.28]},\"selected\":{\"id\":\"2497\"},\"selection_policy\":{\"id\":\"2498\"}},\"id\":\"2484\",\"type\":\"ColumnDataSource\"},{\"attributes\":{\"bottom\":{\"expr\":{\"id\":\"2480\"}},\"fill_alpha\":{\"value\":0.8},\"fill_color\":{\"value\":\"#3182bd\"},\"line_color\":{\"value\":\"#3182bd\"},\"top\":{\"expr\":{\"id\":\"2481\"}},\"width\":{\"value\":0.9},\"x\":{\"field\":\"market\"}},\"id\":\"2486\",\"type\":\"VBar\"},{\"attributes\":{},\"id\":\"2468\",\"type\":\"SaveTool\"},{\"attributes\":{},\"id\":\"2469\",\"type\":\"ResetTool\"},{\"attributes\":{\"fields\":[]},\"id\":\"2480\",\"type\":\"Stack\"},{\"attributes\":{\"axis_label\":\"Amount in USD\",\"formatter\":{\"id\":\"2494\"},\"major_label_policy\":{\"id\":\"2495\"},\"ticker\":{\"id\":\"2461\"}},\"id\":\"2460\",\"type\":\"LinearAxis\"},{\"attributes\":{},\"id\":\"2491\",\"type\":\"CategoricalTickFormatter\"},{\"attributes\":{\"source\":{\"id\":\"2484\"}},\"id\":\"2489\",\"type\":\"CDSView\"},{\"attributes\":{},\"id\":\"2461\",\"type\":\"BasicTicker\"},{\"attributes\":{},\"id\":\"2453\",\"type\":\"CategoricalScale\"},{\"attributes\":{\"factors\":[\"EU\",\"APAC\",\"LATAM\",\"US\",\"EMEA\",\"Africa\",\"Canada\"],\"range_padding\":0.05},\"id\":\"2449\",\"type\":\"FactorRange\"},{\"attributes\":{},\"id\":\"2492\",\"type\":\"AllLabels\"},{\"attributes\":{\"data\":{\"discount\":[177101.0,248899.0,215314.0,185113.0,64926.0,45309.0,0.0],\"index\":[0,1,2,3,4,5,6],\"market\":[\"EU\",\"APAC\",\"LATAM\",\"US\",\"EMEA\",\"Africa\",\"Canada\"],\"sales\":[778958.2245,1343422.2105,811355.38,741432.0433,228620.736,194650.635,10595.28]},\"selected\":{\"id\":\"2517\"},\"selection_policy\":{\"id\":\"2518\"}},\"id\":\"2502\",\"type\":\"ColumnDataSource\"},{\"attributes\":{},\"id\":\"2517\",\"type\":\"Selection\"},{\"attributes\":{},\"id\":\"2455\",\"type\":\"LinearScale\"},{\"attributes\":{},\"id\":\"2497\",\"type\":\"Selection\"},{\"attributes\":{\"axis_label\":\"Sales in USD\",\"formatter\":{\"id\":\"2491\"},\"major_label_policy\":{\"id\":\"2492\"},\"ticker\":{\"id\":\"2458\"}},\"id\":\"2457\",\"type\":\"CategoricalAxis\"},{\"attributes\":{\"start\":0},\"id\":\"2451\",\"type\":\"DataRange1d\"},{\"attributes\":{},\"id\":\"2458\",\"type\":\"CategoricalTicker\"},{\"attributes\":{\"bottom\":{\"expr\":{\"id\":\"2482\"}},\"fill_alpha\":{\"value\":0.1},\"fill_color\":{\"value\":\"#e6550d\"},\"line_alpha\":{\"value\":0.1},\"line_color\":{\"value\":\"#e6550d\"},\"top\":{\"expr\":{\"id\":\"2483\"}},\"width\":{\"value\":0.9},\"x\":{\"field\":\"market\"}},\"id\":\"2505\",\"type\":\"VBar\"},{\"attributes\":{},\"id\":\"2518\",\"type\":\"UnionRenderers\"}],\"root_ids\":[\"2446\"]},\"title\":\"Bokeh Application\",\"version\":\"2.3.0\"}};\n  var render_items = [{\"docid\":\"7f2f0588-b643-4562-b810-0c663c61ee93\",\"root_ids\":[\"2446\"],\"roots\":{\"2446\":\"42b2e10d-1897-4c64-a6f4-97ff66897de9\"}}];\n  root.Bokeh.embed.embed_items_notebook(docs_json, render_items);\n\n  }\n  if (root.Bokeh !== undefined) {\n    embed_document(root);\n  } else {\n    var attempts = 0;\n    var timer = setInterval(function(root) {\n      if (root.Bokeh !== undefined) {\n        clearInterval(timer);\n        embed_document(root);\n      } else {\n        attempts++;\n        if (attempts > 100) {\n          clearInterval(timer);\n          console.log(\"Bokeh: ERROR: Unable to run BokehJS code because BokehJS library is missing\");\n        }\n      }\n    }, 10, root)\n  }\n})(window);",
      "application/vnd.bokehjs_exec.v0+json": ""
     },
     "metadata": {
      "application/vnd.bokehjs_exec.v0+json": {
       "id": "2446"
      }
     }
    }
   ],
   "source": [
    "p = figure(x_range = df['market'], \n",
    "            title=\"Sales and Discount of X in all Markets\", \n",
    "            y_axis_label = \"Amount in USD\", \n",
    "            tools=\"pan,box_select,zoom_in,zoom_out,save,reset,hover\", \n",
    "            tooltips=\"$name @market: @$name\")\n",
    "colors = [\"#3182bd\", \"#e6550d\"]\n",
    "measures = ['sales','discount']\n",
    "p.vbar_stack(measures, \n",
    "            x='market', \n",
    "            width=0.9, \n",
    "            color=colors, \n",
    "            source=df,\n",
    "            fill_alpha = 0.8,\n",
    "            legend_label=measures)\n",
    "p.xaxis.axis_label = \"Sales in USD\"\n",
    "#p.xaxis.major_label_orientation = 0.9\n",
    "p.x_range.range_padding = 0.05\n",
    "p.y_range.start = 0\n",
    "p.toolbar.logo = None\n",
    "show(p)"
   ]
  },
  {
   "source": [
    "LINE PLOTS"
   ],
   "cell_type": "markdown",
   "metadata": {}
  },
  {
   "cell_type": "code",
   "execution_count": 26,
   "metadata": {},
   "outputs": [
    {
     "output_type": "stream",
     "name": "stdout",
     "text": [
      "    week          2014          2013\n0      0    23816.4463    48836.5905\n1      1    73070.5054    92706.1145\n2      2   137252.0760   125254.7939\n3      3   193912.4421   161671.6243\n4      4   242135.0516   213748.8916\n5      5   281581.3840   266257.7387\n6      6   340903.2180   299349.5742\n7      7   386085.4578   337816.2597\n8      8   428945.7489   380288.6539\n9      9   468148.7199   427889.4183\n10    10   525391.0285   484835.4342\n11    11   597338.5698   525968.5578\n12    12   674976.0828   564585.8401\n13    13   729935.1510   602031.1712\n14    14   788332.6939   643992.2318\n15    15   851677.9915   691133.2145\n16    16   903554.6012   727964.4753\n17    17   955032.2687   774375.8364\n18    18  1028785.8559   823724.0141\n19    19  1090744.6062   872827.8694\n20    20  1153467.0319   929321.8355\n21    21  1220306.1062  1011267.5945\n22    22  1303175.4439  1102588.3215\n23    23  1393075.0639  1214073.9326\n24    24  1495394.8293  1292327.6516\n25    25  1600186.3120  1394788.5155\n26    26  1677832.7522  1446179.2769\n27    27  1732801.4607  1502207.0609\n28    28  1785566.2260  1552692.4988\n29    29  1835624.8421  1608476.4768\n30    30  1913282.3901  1658693.2485\n31    31  2019008.7702  1714324.0117\n32    32  2123270.1914  1799282.7099\n33    33  2236477.2079  1885844.7915\n34    34  2336837.9621  1955337.8148\n35    35  2450612.1747  2038958.4193\n36    36  2552571.5510  2135183.3501\n37    37  2668248.5635  2239862.8402\n38    38  2781003.6367  2313406.8787\n39    39  2878336.4342  2399939.9411\n40    40  2962891.5913  2453753.7226\n41    41  3067039.8302  2523812.0698\n42    42  3163018.5506  2578597.0574\n43    43  3246340.7413  2648935.0323\n44    44  3372812.5168  2727053.5857\n45    45  3490858.0447  2813916.4691\n46    46  3655716.3080  2891782.4460\n47    47  3793547.3232  2998797.3035\n48    48  3902447.7993  3087963.0715\n49    49  4019381.9760  3167594.9217\n50    50  4119745.8761  3280246.9713\n51    51  4241767.4828  3375069.6408\n52    52  4298613.5147  3403965.3017\n"
     ]
    }
   ],
   "source": [
    "#25. Live comparison of this year’s weekly cumulative sales vs previous year’s weekly cumulative sales.\n",
    "mycursor.execute(\"select a.week, sum(a.sales) over(order by week) as S2014, sum(b.sales) over(order by week) as S2013 from (select week, sum(sales) sales from mv_location_time_sales where year = 2014 group by week) a inner join (select week, sum(sales) sales from mv_location_time_sales where year = 2013 group by week) b on a.week = b.week;\")\n",
    "df = pd.DataFrame(mycursor.fetchall())\n",
    "df = df.rename(columns = {0:'week', 1:'2014', 2: '2013'})\n",
    "print(df)"
   ]
  },
  {
   "cell_type": "code",
   "execution_count": 27,
   "metadata": {},
   "outputs": [
    {
     "output_type": "display_data",
     "data": {
      "text/html": "\n\n\n\n\n\n  <div class=\"bk-root\" id=\"fa5bec23-ed0f-457d-a287-1e29c126d17b\" data-root-id=\"2689\"></div>\n"
     },
     "metadata": {}
    },
    {
     "output_type": "display_data",
     "data": {
      "application/javascript": "(function(root) {\n  function embed_document(root) {\n    \n  var docs_json = {\"3d68e26d-9d63-4f40-8cd9-2606ce6dee9b\":{\"defs\":[{\"extends\":null,\"module\":null,\"name\":\"DataModel\",\"overrides\":[],\"properties\":[]}],\"roots\":{\"references\":[{\"attributes\":{\"below\":[{\"id\":\"2700\"}],\"center\":[{\"id\":\"2703\"},{\"id\":\"2707\"},{\"id\":\"2740\"}],\"height\":400,\"left\":[{\"id\":\"2704\"}],\"renderers\":[{\"id\":\"2728\"},{\"id\":\"2746\"}],\"title\":{\"id\":\"2690\"},\"toolbar\":{\"id\":\"2716\"},\"width\":800,\"x_range\":{\"id\":\"2692\"},\"x_scale\":{\"id\":\"2696\"},\"y_range\":{\"id\":\"2694\"},\"y_scale\":{\"id\":\"2698\"}},\"id\":\"2689\",\"subtype\":\"Figure\",\"type\":\"Plot\"},{\"attributes\":{},\"id\":\"2732\",\"type\":\"AllLabels\"},{\"attributes\":{\"label\":{\"value\":\"2014\"},\"renderers\":[{\"id\":\"2728\"}]},\"id\":\"2741\",\"type\":\"LegendItem\"},{\"attributes\":{\"callback\":null,\"tooltips\":[[\"Week: \",\"@week\"],[\"2014: \",\"@2014\"],[\"2013: \",\"@2013\"]]},\"id\":\"2714\",\"type\":\"HoverTool\"},{\"attributes\":{},\"id\":\"2738\",\"type\":\"UnionRenderers\"},{\"attributes\":{},\"id\":\"2712\",\"type\":\"SaveTool\"},{\"attributes\":{\"source\":{\"id\":\"2724\"}},\"id\":\"2729\",\"type\":\"CDSView\"},{\"attributes\":{\"data_source\":{\"id\":\"2724\"},\"glyph\":{\"id\":\"2726\"},\"hover_glyph\":null,\"muted_glyph\":null,\"nonselection_glyph\":{\"id\":\"2727\"},\"view\":{\"id\":\"2729\"}},\"id\":\"2728\",\"type\":\"GlyphRenderer\"},{\"attributes\":{\"label\":{\"value\":\"2013\"},\"renderers\":[{\"id\":\"2746\"}]},\"id\":\"2760\",\"type\":\"LegendItem\"},{\"attributes\":{},\"id\":\"2696\",\"type\":\"LinearScale\"},{\"attributes\":{},\"id\":\"2757\",\"type\":\"Selection\"},{\"attributes\":{\"text\":\"Weekly Sales Comparison\"},\"id\":\"2690\",\"type\":\"Title\"},{\"attributes\":{\"data\":{\"2013\":[48836.5905,92706.1145,125254.7939,161671.6243,213748.8916,266257.7387,299349.5742,337816.2597,380288.6539,427889.4183,484835.4342,525968.5578,564585.8401,602031.1712,643992.2318,691133.2145,727964.4753,774375.8364,823724.0141,872827.8694,929321.8355,1011267.5945,1102588.3215,1214073.9326,1292327.6516,1394788.5155,1446179.2769,1502207.0609,1552692.4988,1608476.4768,1658693.2485,1714324.0117,1799282.7099,1885844.7915,1955337.8148,2038958.4193,2135183.3501,2239862.8402,2313406.8787,2399939.9411,2453753.7226,2523812.0698,2578597.0574,2648935.0323,2727053.5857,2813916.4691,2891782.446,2998797.3035,3087963.0715,3167594.9217,3280246.9713,3375069.6408,3403965.3017],\"2014\":[23816.4463,73070.5054,137252.076,193912.4421,242135.0516,281581.384,340903.218,386085.4578,428945.7489,468148.7199,525391.0285,597338.5698,674976.0828,729935.151,788332.6939,851677.9915,903554.6012,955032.2687,1028785.8559,1090744.6062,1153467.0319,1220306.1062,1303175.4439,1393075.0639,1495394.8293,1600186.312,1677832.7522,1732801.4607,1785566.226,1835624.8421,1913282.3901,2019008.7702,2123270.1914,2236477.2079,2336837.9621,2450612.1747,2552571.551,2668248.5635,2781003.6367,2878336.4342,2962891.5913,3067039.8302,3163018.5506,3246340.7413,3372812.5168,3490858.0447,3655716.308,3793547.3232,3902447.7993,4019381.976,4119745.8761,4241767.4828,4298613.5147],\"index\":[0,1,2,3,4,5,6,7,8,9,10,11,12,13,14,15,16,17,18,19,20,21,22,23,24,25,26,27,28,29,30,31,32,33,34,35,36,37,38,39,40,41,42,43,44,45,46,47,48,49,50,51,52],\"week\":[0,1,2,3,4,5,6,7,8,9,10,11,12,13,14,15,16,17,18,19,20,21,22,23,24,25,26,27,28,29,30,31,32,33,34,35,36,37,38,39,40,41,42,43,44,45,46,47,48,49,50,51,52]},\"selected\":{\"id\":\"2737\"},\"selection_policy\":{\"id\":\"2738\"}},\"id\":\"2724\",\"type\":\"ColumnDataSource\"},{\"attributes\":{},\"id\":\"2694\",\"type\":\"DataRange1d\"},{\"attributes\":{},\"id\":\"2731\",\"type\":\"BasicTickFormatter\"},{\"attributes\":{},\"id\":\"2734\",\"type\":\"BasicTickFormatter\"},{\"attributes\":{},\"id\":\"2698\",\"type\":\"LinearScale\"},{\"attributes\":{},\"id\":\"2758\",\"type\":\"UnionRenderers\"},{\"attributes\":{},\"id\":\"2735\",\"type\":\"AllLabels\"},{\"attributes\":{\"active_multi\":null,\"logo\":null,\"tools\":[{\"id\":\"2708\"},{\"id\":\"2709\"},{\"id\":\"2710\"},{\"id\":\"2711\"},{\"id\":\"2712\"},{\"id\":\"2713\"},{\"id\":\"2714\"}]},\"id\":\"2716\",\"type\":\"Toolbar\"},{\"attributes\":{},\"id\":\"2701\",\"type\":\"BasicTicker\"},{\"attributes\":{\"formatter\":{\"id\":\"2731\"},\"major_label_policy\":{\"id\":\"2732\"},\"ticker\":{\"id\":\"2701\"}},\"id\":\"2700\",\"type\":\"LinearAxis\"},{\"attributes\":{},\"id\":\"2711\",\"type\":\"ZoomOutTool\"},{\"attributes\":{\"items\":[{\"id\":\"2741\"},{\"id\":\"2760\"}],\"location\":\"top_left\"},\"id\":\"2740\",\"type\":\"Legend\"},{\"attributes\":{\"overlay\":{\"id\":\"2715\"}},\"id\":\"2709\",\"type\":\"BoxSelectTool\"},{\"attributes\":{},\"id\":\"2705\",\"type\":\"BasicTicker\"},{\"attributes\":{},\"id\":\"2710\",\"type\":\"ZoomInTool\"},{\"attributes\":{\"axis_label\":\"Sales in USD\",\"formatter\":{\"id\":\"2734\"},\"major_label_policy\":{\"id\":\"2735\"},\"ticker\":{\"id\":\"2705\"}},\"id\":\"2704\",\"type\":\"LinearAxis\"},{\"attributes\":{\"axis\":{\"id\":\"2704\"},\"dimension\":1,\"ticker\":null},\"id\":\"2707\",\"type\":\"Grid\"},{\"attributes\":{\"line_color\":\"#3182bd\",\"line_width\":3,\"x\":{\"field\":\"week\"},\"y\":{\"field\":\"2014\"}},\"id\":\"2726\",\"type\":\"Line\"},{\"attributes\":{\"axis\":{\"id\":\"2700\"},\"ticker\":null},\"id\":\"2703\",\"type\":\"Grid\"},{\"attributes\":{\"line_alpha\":0.1,\"line_color\":\"#3182bd\",\"line_width\":3,\"x\":{\"field\":\"week\"},\"y\":{\"field\":\"2014\"}},\"id\":\"2727\",\"type\":\"Line\"},{\"attributes\":{\"source\":{\"id\":\"2742\"}},\"id\":\"2747\",\"type\":\"CDSView\"},{\"attributes\":{},\"id\":\"2708\",\"type\":\"PanTool\"},{\"attributes\":{},\"id\":\"2692\",\"type\":\"DataRange1d\"},{\"attributes\":{\"line_alpha\":0.1,\"line_color\":\"#e6550d\",\"line_width\":3,\"x\":{\"field\":\"week\"},\"y\":{\"field\":\"2013\"}},\"id\":\"2745\",\"type\":\"Line\"},{\"attributes\":{\"bottom_units\":\"screen\",\"fill_alpha\":0.5,\"fill_color\":\"lightgrey\",\"left_units\":\"screen\",\"level\":\"overlay\",\"line_alpha\":1.0,\"line_color\":\"black\",\"line_dash\":[4,4],\"line_width\":2,\"right_units\":\"screen\",\"syncable\":false,\"top_units\":\"screen\"},\"id\":\"2715\",\"type\":\"BoxAnnotation\"},{\"attributes\":{\"data\":{\"2013\":[48836.5905,92706.1145,125254.7939,161671.6243,213748.8916,266257.7387,299349.5742,337816.2597,380288.6539,427889.4183,484835.4342,525968.5578,564585.8401,602031.1712,643992.2318,691133.2145,727964.4753,774375.8364,823724.0141,872827.8694,929321.8355,1011267.5945,1102588.3215,1214073.9326,1292327.6516,1394788.5155,1446179.2769,1502207.0609,1552692.4988,1608476.4768,1658693.2485,1714324.0117,1799282.7099,1885844.7915,1955337.8148,2038958.4193,2135183.3501,2239862.8402,2313406.8787,2399939.9411,2453753.7226,2523812.0698,2578597.0574,2648935.0323,2727053.5857,2813916.4691,2891782.446,2998797.3035,3087963.0715,3167594.9217,3280246.9713,3375069.6408,3403965.3017],\"2014\":[23816.4463,73070.5054,137252.076,193912.4421,242135.0516,281581.384,340903.218,386085.4578,428945.7489,468148.7199,525391.0285,597338.5698,674976.0828,729935.151,788332.6939,851677.9915,903554.6012,955032.2687,1028785.8559,1090744.6062,1153467.0319,1220306.1062,1303175.4439,1393075.0639,1495394.8293,1600186.312,1677832.7522,1732801.4607,1785566.226,1835624.8421,1913282.3901,2019008.7702,2123270.1914,2236477.2079,2336837.9621,2450612.1747,2552571.551,2668248.5635,2781003.6367,2878336.4342,2962891.5913,3067039.8302,3163018.5506,3246340.7413,3372812.5168,3490858.0447,3655716.308,3793547.3232,3902447.7993,4019381.976,4119745.8761,4241767.4828,4298613.5147],\"index\":[0,1,2,3,4,5,6,7,8,9,10,11,12,13,14,15,16,17,18,19,20,21,22,23,24,25,26,27,28,29,30,31,32,33,34,35,36,37,38,39,40,41,42,43,44,45,46,47,48,49,50,51,52],\"week\":[0,1,2,3,4,5,6,7,8,9,10,11,12,13,14,15,16,17,18,19,20,21,22,23,24,25,26,27,28,29,30,31,32,33,34,35,36,37,38,39,40,41,42,43,44,45,46,47,48,49,50,51,52]},\"selected\":{\"id\":\"2757\"},\"selection_policy\":{\"id\":\"2758\"}},\"id\":\"2742\",\"type\":\"ColumnDataSource\"},{\"attributes\":{\"data_source\":{\"id\":\"2742\"},\"glyph\":{\"id\":\"2744\"},\"hover_glyph\":null,\"muted_glyph\":null,\"nonselection_glyph\":{\"id\":\"2745\"},\"view\":{\"id\":\"2747\"}},\"id\":\"2746\",\"type\":\"GlyphRenderer\"},{\"attributes\":{},\"id\":\"2713\",\"type\":\"ResetTool\"},{\"attributes\":{},\"id\":\"2737\",\"type\":\"Selection\"},{\"attributes\":{\"line_color\":\"#e6550d\",\"line_width\":3,\"x\":{\"field\":\"week\"},\"y\":{\"field\":\"2013\"}},\"id\":\"2744\",\"type\":\"Line\"}],\"root_ids\":[\"2689\"]},\"title\":\"Bokeh Application\",\"version\":\"2.3.0\"}};\n  var render_items = [{\"docid\":\"3d68e26d-9d63-4f40-8cd9-2606ce6dee9b\",\"root_ids\":[\"2689\"],\"roots\":{\"2689\":\"fa5bec23-ed0f-457d-a287-1e29c126d17b\"}}];\n  root.Bokeh.embed.embed_items_notebook(docs_json, render_items);\n\n  }\n  if (root.Bokeh !== undefined) {\n    embed_document(root);\n  } else {\n    var attempts = 0;\n    var timer = setInterval(function(root) {\n      if (root.Bokeh !== undefined) {\n        clearInterval(timer);\n        embed_document(root);\n      } else {\n        attempts++;\n        if (attempts > 100) {\n          clearInterval(timer);\n          console.log(\"Bokeh: ERROR: Unable to run BokehJS code because BokehJS library is missing\");\n        }\n      }\n    }, 10, root)\n  }\n})(window);",
      "application/vnd.bokehjs_exec.v0+json": ""
     },
     "metadata": {
      "application/vnd.bokehjs_exec.v0+json": {
       "id": "2689"
      }
     }
    }
   ],
   "source": [
    "sc = ColumnDataSource(df)\n",
    "p = figure(plot_width=800, plot_height=400, title=\"Weekly Sales Comparison\", \n",
    "            y_axis_label = \"Sales in USD\", \n",
    "            tools=\"pan,box_select,zoom_in,zoom_out,save,reset,hover\", \n",
    "            tooltips=[(\"Week: \", \"@week\"), (\"2014: \", \"@2014\"), (\"2013: \", \"@2013\")])\n",
    "\n",
    "# add a line renderer\n",
    "p.line('week', '2014', source = df, line_width=3, color = '#3182bd', legend_label='2014')\n",
    "p.line('week', '2013', source = df, line_width=3, color = '#e6550d', legend_label='2013') \n",
    "p.legend.location = \"top_left\"\n",
    "p.toolbar.logo = None\n",
    "show(p)"
   ]
  },
  {
   "cell_type": "code",
   "execution_count": 24,
   "metadata": {},
   "outputs": [
    {
     "output_type": "display_data",
     "data": {
      "text/html": "\n\n\n\n\n\n  <div class=\"bk-root\" id=\"29f55f73-0d8f-420f-b81b-db7205adaa32\" data-root-id=\"2630\"></div>\n"
     },
     "metadata": {}
    },
    {
     "output_type": "display_data",
     "data": {
      "application/javascript": "(function(root) {\n  function embed_document(root) {\n    \n  var docs_json = {\"396a417f-27d8-4731-9a83-fd8d265c0b08\":{\"roots\":{\"references\":[{\"attributes\":{\"plot_height\":700,\"plot_width\":700,\"renderers\":[{\"id\":\"2640\"}],\"title\":{\"id\":\"2633\"},\"toolbar\":{\"id\":\"2637\"},\"x_range\":{\"id\":\"2628\"},\"x_scale\":{\"id\":\"2738\"},\"y_range\":{\"id\":\"2629\"},\"y_scale\":{\"id\":\"2740\"}},\"id\":\"2630\",\"type\":\"Plot\"},{\"attributes\":{\"data_source\":{\"id\":\"2646\"},\"glyph\":{\"id\":\"2665\"},\"hover_glyph\":{\"id\":\"2675\"},\"muted_glyph\":null,\"selection_glyph\":{\"id\":\"2670\"},\"view\":{\"id\":\"2648\"}},\"id\":\"2647\",\"type\":\"GlyphRenderer\"},{\"attributes\":{},\"id\":\"2682\",\"type\":\"EdgesAndLinkedNodes\"},{\"attributes\":{\"fill_color\":{\"value\":\"#2b83ba\"},\"size\":{\"units\":\"screen\",\"value\":15}},\"id\":\"2650\",\"type\":\"Circle\"},{\"attributes\":{\"end\":1.1,\"start\":-1.1},\"id\":\"2629\",\"type\":\"Range1d\"},{\"attributes\":{},\"id\":\"2738\",\"type\":\"LinearScale\"},{\"attributes\":{\"callback\":null},\"id\":\"2635\",\"type\":\"TapTool\"},{\"attributes\":{},\"id\":\"2740\",\"type\":\"LinearScale\"},{\"attributes\":{\"fill_color\":{\"value\":\"#fdae61\"},\"size\":{\"units\":\"screen\",\"value\":15}},\"id\":\"2655\",\"type\":\"Circle\"},{\"attributes\":{\"edge_renderer\":{\"id\":\"2647\"},\"inspection_policy\":{\"id\":\"2682\"},\"layout_provider\":{\"id\":\"2649\"},\"node_renderer\":{\"id\":\"2643\"},\"selection_policy\":{\"id\":\"2680\"}},\"id\":\"2640\",\"type\":\"GraphRenderer\"},{\"attributes\":{\"text\":\"Graph Interaction Demonstration\"},\"id\":\"2633\",\"type\":\"Title\"},{\"attributes\":{\"overlay\":{\"id\":\"2749\"}},\"id\":\"2636\",\"type\":\"BoxSelectTool\"},{\"attributes\":{\"line_alpha\":{\"value\":0.8},\"line_color\":{\"value\":\"#CCCCCC\"},\"line_width\":{\"value\":5}},\"id\":\"2665\",\"type\":\"MultiLine\"},{\"attributes\":{\"bottom_units\":\"screen\",\"fill_alpha\":0.5,\"fill_color\":\"lightgrey\",\"left_units\":\"screen\",\"level\":\"overlay\",\"line_alpha\":1.0,\"line_color\":\"black\",\"line_dash\":[4,4],\"line_width\":2,\"right_units\":\"screen\",\"top_units\":\"screen\"},\"id\":\"2749\",\"type\":\"BoxAnnotation\"},{\"attributes\":{\"end\":1.1,\"start\":-1.1},\"id\":\"2628\",\"type\":\"Range1d\"},{\"attributes\":{\"line_color\":{\"value\":\"#fdae61\"},\"line_width\":{\"value\":5}},\"id\":\"2670\",\"type\":\"MultiLine\"},{\"attributes\":{\"fill_color\":{\"value\":\"#abdda4\"},\"size\":{\"units\":\"screen\",\"value\":15}},\"id\":\"2660\",\"type\":\"Circle\"},{\"attributes\":{\"graph_layout\":{\"0\":[1.0,5.200874811222461e-09],\"1\":[0.9829730987698075,0.18374951687777052],\"10\":[-0.2736629534524478,0.9618256731695953],\"11\":[-0.4457383143150295,0.8951633020694276],\"12\":[-0.6026346669454482,0.7980172083092125],\"13\":[-0.7390088423744644,0.6736956880896635],\"14\":[-0.8502171619409874,0.5264321613022418],\"15\":[-0.9324721677053746,0.3612417925562752],\"16\":[-0.9829730970167299,0.1837495317789317],\"17\":[-0.9999999982469223,-8.222190168562394e-08],\"18\":[-0.9829730970167299,-0.18374946177253734],\"19\":[-0.9324722273100193,-0.36124172254988085],\"2\":[0.932472229063097,0.36124167334698576],\"20\":[-0.8502171619409874,-0.5264320912958473],\"21\":[-0.7390089019791091,-0.6736956776879138],\"22\":[-0.6026347265500929,-0.7980171383028182],\"23\":[-0.44573837391967425,-0.895163291667678],\"24\":[-0.27366289384780307,-0.9618256627678456],\"25\":[-0.0922681605182429,-0.9957342087090403],\"26\":[0.09226818462306245,-0.9957342087090403],\"27\":[0.27366292540320325,-0.9618256627678456],\"28\":[0.44573837567275204,-0.895163291667678],\"29\":[0.6026347283031706,-0.7980171383028182],\"3\":[0.8502171040894204,0.5264321613022418],\"30\":[0.7390087845228973,-0.6736957968972033],\"31\":[0.8502170444847756,-0.5264322701097816],\"32\":[0.932472229063097,-0.36124169274755846],\"33\":[0.9829730987698075,-0.18374944687137618],\"4\":[0.7390089037321868,0.6736956284850187],\"5\":[0.6026346686985259,0.7980172083092125],\"6\":[0.4457383458704297,0.8951633020694276],\"7\":[0.27366298500784797,0.9618256731695953],\"8\":[0.09226837088757722,0.9957341595061452],\"9\":[-0.09226833188159647,0.9957341595061452]}},\"id\":\"2649\",\"type\":\"StaticLayoutProvider\"},{\"attributes\":{},\"id\":\"2750\",\"type\":\"UnionRenderers\"},{\"attributes\":{},\"id\":\"2751\",\"type\":\"Selection\"},{\"attributes\":{\"line_color\":{\"value\":\"#abdda4\"},\"line_width\":{\"value\":5}},\"id\":\"2675\",\"type\":\"MultiLine\"},{\"attributes\":{\"callback\":null,\"tooltips\":null},\"id\":\"2634\",\"type\":\"HoverTool\"},{\"attributes\":{\"active_drag\":\"auto\",\"active_inspect\":\"auto\",\"active_multi\":null,\"active_scroll\":\"auto\",\"active_tap\":\"auto\",\"tools\":[{\"id\":\"2634\"},{\"id\":\"2635\"},{\"id\":\"2636\"}]},\"id\":\"2637\",\"type\":\"Toolbar\"},{\"attributes\":{},\"id\":\"2752\",\"type\":\"UnionRenderers\"},{\"attributes\":{},\"id\":\"2680\",\"type\":\"NodesAndLinkedEdges\"},{\"attributes\":{},\"id\":\"2753\",\"type\":\"Selection\"},{\"attributes\":{\"data_source\":{\"id\":\"2642\"},\"glyph\":{\"id\":\"2650\"},\"hover_glyph\":{\"id\":\"2660\"},\"muted_glyph\":null,\"selection_glyph\":{\"id\":\"2655\"},\"view\":{\"id\":\"2644\"}},\"id\":\"2643\",\"type\":\"GlyphRenderer\"},{\"attributes\":{\"data\":{\"club\":[\"Mr. Hi\",\"Mr. Hi\",\"Mr. Hi\",\"Mr. Hi\",\"Mr. Hi\",\"Mr. Hi\",\"Mr. Hi\",\"Mr. Hi\",\"Mr. Hi\",\"Officer\",\"Mr. Hi\",\"Mr. Hi\",\"Mr. Hi\",\"Mr. Hi\",\"Officer\",\"Officer\",\"Mr. Hi\",\"Mr. Hi\",\"Officer\",\"Mr. Hi\",\"Officer\",\"Mr. Hi\",\"Officer\",\"Officer\",\"Officer\",\"Officer\",\"Officer\",\"Officer\",\"Officer\",\"Officer\",\"Officer\",\"Officer\",\"Officer\",\"Officer\"],\"index\":[0,1,2,3,4,5,6,7,8,9,10,11,12,13,14,15,16,17,18,19,20,21,22,23,24,25,26,27,28,29,30,31,32,33]},\"selected\":{\"id\":\"2751\"},\"selection_policy\":{\"id\":\"2750\"}},\"id\":\"2642\",\"type\":\"ColumnDataSource\"},{\"attributes\":{\"data\":{\"end\":[1,2,3,4,5,6,7,8,10,11,12,13,17,19,21,31,2,3,7,13,17,19,21,30,3,7,8,9,13,27,28,32,7,12,13,6,10,6,10,16,16,30,32,33,33,33,32,33,32,33,32,33,33,32,33,32,33,25,27,29,32,33,25,27,31,31,29,33,33,31,33,32,33,32,33,32,33,33],\"start\":[0,0,0,0,0,0,0,0,0,0,0,0,0,0,0,0,1,1,1,1,1,1,1,1,2,2,2,2,2,2,2,2,3,3,3,4,4,5,5,5,6,8,8,8,9,13,14,14,15,15,18,18,19,20,20,22,22,23,23,23,23,23,24,24,24,25,26,26,27,28,28,29,29,30,30,31,31,32]},\"selected\":{\"id\":\"2753\"},\"selection_policy\":{\"id\":\"2752\"}},\"id\":\"2646\",\"type\":\"ColumnDataSource\"},{\"attributes\":{\"source\":{\"id\":\"2642\"}},\"id\":\"2644\",\"type\":\"CDSView\"},{\"attributes\":{\"source\":{\"id\":\"2646\"}},\"id\":\"2648\",\"type\":\"CDSView\"}],\"root_ids\":[\"2630\"]},\"title\":\"Bokeh Application\",\"version\":\"2.1.1\"}};\n  var render_items = [{\"docid\":\"396a417f-27d8-4731-9a83-fd8d265c0b08\",\"root_ids\":[\"2630\"],\"roots\":{\"2630\":\"29f55f73-0d8f-420f-b81b-db7205adaa32\"}}];\n  root.Bokeh.embed.embed_items_notebook(docs_json, render_items);\n\n  }\n  if (root.Bokeh !== undefined) {\n    embed_document(root);\n  } else {\n    var attempts = 0;\n    var timer = setInterval(function(root) {\n      if (root.Bokeh !== undefined) {\n        clearInterval(timer);\n        embed_document(root);\n      } else {\n        attempts++;\n        if (attempts > 100) {\n          clearInterval(timer);\n          console.log(\"Bokeh: ERROR: Unable to run BokehJS code because BokehJS library is missing\");\n        }\n      }\n    }, 10, root)\n  }\n})(window);",
      "application/vnd.bokehjs_exec.v0+json": ""
     },
     "metadata": {
      "application/vnd.bokehjs_exec.v0+json": {
       "id": "2630"
      }
     }
    }
   ],
   "source": [
    "\n",
    "G=nx.karate_club_graph()\n",
    "\n",
    "plot = Plot(plot_width=700, plot_height=700,\n",
    "            x_range=Range1d(-1.1,1.1), y_range=Range1d(-1.1,1.1))\n",
    "plot.title.text = \"Graph Interaction Demonstration\"\n",
    "\n",
    "plot.add_tools(HoverTool(tooltips=None), TapTool(), BoxSelectTool())\n",
    "\n",
    "graph_renderer = from_networkx(G, nx.circular_layout, scale=1, center=(0,0))\n",
    "\n",
    "graph_renderer.node_renderer.glyph = Circle(size=15, fill_color=Spectral4[0])\n",
    "graph_renderer.node_renderer.selection_glyph = Circle(size=15, fill_color=Spectral4[2])\n",
    "graph_renderer.node_renderer.hover_glyph = Circle(size=15, fill_color=Spectral4[1])\n",
    "\n",
    "graph_renderer.edge_renderer.glyph = MultiLine(line_color=\"#CCCCCC\", line_alpha=0.8, line_width=5)\n",
    "graph_renderer.edge_renderer.selection_glyph = MultiLine(line_color=Spectral4[2], line_width=5)\n",
    "graph_renderer.edge_renderer.hover_glyph = MultiLine(line_color=Spectral4[1], line_width=5)\n",
    "\n",
    "graph_renderer.selection_policy = NodesAndLinkedEdges()\n",
    "graph_renderer.inspection_policy = EdgesAndLinkedNodes()\n",
    "\n",
    "plot.renderers.append(graph_renderer)\n",
    "\n",
    "output_file(\"interactive_graphs.html\")\n",
    "show(plot)"
   ]
  },
  {
   "cell_type": "code",
   "execution_count": 28,
   "metadata": {},
   "outputs": [
    {
     "output_type": "execute_result",
     "data": {
      "text/plain": [
       "                                                   P1  \\\n",
       "0                              Coloredge Poster Frame   \n",
       "1   Kensington SlimBlade Notebook Wireless Mouse w...   \n",
       "2                    ACCOHIDE 3-Ring Binder, Blue, 1\"   \n",
       "3                    ACCOHIDE 3-Ring Binder, Blue, 1\"   \n",
       "4   Xerox 4200 Series MultiUse Premium Copy Paper ...   \n",
       "..                                                ...   \n",
       "95                                     Nontoxic Chalk   \n",
       "96                         Poly Designer Cover & Back   \n",
       "97                         Poly Designer Cover & Back   \n",
       "98                         Poly Designer Cover & Back   \n",
       "99                  Fellowes Neat Ideas Storage Cubes   \n",
       "\n",
       "                                                   P2  \n",
       "0   Kensington SlimBlade Notebook Wireless Mouse w...  \n",
       "1                              Coloredge Poster Frame  \n",
       "2   Xerox 4200 Series MultiUse Premium Copy Paper ...  \n",
       "3                       Logitech diNovo Edge Keyboard  \n",
       "4                    ACCOHIDE 3-Ring Binder, Blue, 1\"  \n",
       "..                                                ...  \n",
       "95                  Fellowes Neat Ideas Storage Cubes  \n",
       "96                             Coloredge Poster Frame  \n",
       "97                                     Nontoxic Chalk  \n",
       "98                  Fellowes Neat Ideas Storage Cubes  \n",
       "99                             Coloredge Poster Frame  \n",
       "\n",
       "[100 rows x 2 columns]"
      ],
      "text/html": "<div>\n<style scoped>\n    .dataframe tbody tr th:only-of-type {\n        vertical-align: middle;\n    }\n\n    .dataframe tbody tr th {\n        vertical-align: top;\n    }\n\n    .dataframe thead th {\n        text-align: right;\n    }\n</style>\n<table border=\"1\" class=\"dataframe\">\n  <thead>\n    <tr style=\"text-align: right;\">\n      <th></th>\n      <th>P1</th>\n      <th>P2</th>\n    </tr>\n  </thead>\n  <tbody>\n    <tr>\n      <th>0</th>\n      <td>Coloredge Poster Frame</td>\n      <td>Kensington SlimBlade Notebook Wireless Mouse w...</td>\n    </tr>\n    <tr>\n      <th>1</th>\n      <td>Kensington SlimBlade Notebook Wireless Mouse w...</td>\n      <td>Coloredge Poster Frame</td>\n    </tr>\n    <tr>\n      <th>2</th>\n      <td>ACCOHIDE 3-Ring Binder, Blue, 1\"</td>\n      <td>Xerox 4200 Series MultiUse Premium Copy Paper ...</td>\n    </tr>\n    <tr>\n      <th>3</th>\n      <td>ACCOHIDE 3-Ring Binder, Blue, 1\"</td>\n      <td>Logitech diNovo Edge Keyboard</td>\n    </tr>\n    <tr>\n      <th>4</th>\n      <td>Xerox 4200 Series MultiUse Premium Copy Paper ...</td>\n      <td>ACCOHIDE 3-Ring Binder, Blue, 1\"</td>\n    </tr>\n    <tr>\n      <th>...</th>\n      <td>...</td>\n      <td>...</td>\n    </tr>\n    <tr>\n      <th>95</th>\n      <td>Nontoxic Chalk</td>\n      <td>Fellowes Neat Ideas Storage Cubes</td>\n    </tr>\n    <tr>\n      <th>96</th>\n      <td>Poly Designer Cover &amp; Back</td>\n      <td>Coloredge Poster Frame</td>\n    </tr>\n    <tr>\n      <th>97</th>\n      <td>Poly Designer Cover &amp; Back</td>\n      <td>Nontoxic Chalk</td>\n    </tr>\n    <tr>\n      <th>98</th>\n      <td>Poly Designer Cover &amp; Back</td>\n      <td>Fellowes Neat Ideas Storage Cubes</td>\n    </tr>\n    <tr>\n      <th>99</th>\n      <td>Fellowes Neat Ideas Storage Cubes</td>\n      <td>Coloredge Poster Frame</td>\n    </tr>\n  </tbody>\n</table>\n<p>100 rows × 2 columns</p>\n</div>"
     },
     "metadata": {},
     "execution_count": 28
    }
   ],
   "source": [
    "\n",
    "mycursor.execute(\"select a.product_name, b.product_name from (select distinct s.order_id, p.product_name from sales_fact s inner join product_dim p on s.product_id = p.product_id where s.customer_id = 'AA-10645' or s.customer_id = 'AA-10375') a inner join (select distinct s.order_id, p.product_name from sales_fact s inner join product_dim p on s.product_id = p.product_id where s.customer_id = 'AA-10645' or s.customer_id = 'AA-10375') b on a.order_id = b.order_id where a.product_name != b.product_name limit 100\")\n",
    "df = pd.DataFrame(mycursor.fetchall())\n",
    "df = df.rename(columns = {0:'P1', 1:'P2'})\n",
    "df"
   ]
  },
  {
   "cell_type": "code",
   "execution_count": 30,
   "metadata": {},
   "outputs": [],
   "source": [
    "g = nx.from_pandas_edgelist(df, source = 'P1', target = 'P2')"
   ]
  },
  {
   "cell_type": "code",
   "execution_count": 31,
   "metadata": {},
   "outputs": [
    {
     "output_type": "display_data",
     "data": {
      "text/html": "\n\n\n\n\n\n  <div class=\"bk-root\" id=\"11c0a1d9-ff3e-45cb-86fb-625490e15f1c\" data-root-id=\"2942\"></div>\n"
     },
     "metadata": {}
    },
    {
     "output_type": "display_data",
     "data": {
      "application/javascript": "(function(root) {\n  function embed_document(root) {\n    \n  var docs_json = {\"8c797b84-edd8-4366-a26a-46aeba3cb3fd\":{\"defs\":[{\"extends\":null,\"module\":null,\"name\":\"DataModel\",\"overrides\":[],\"properties\":[]}],\"roots\":{\"references\":[{\"attributes\":{\"height\":700,\"renderers\":[{\"id\":\"2952\"}],\"title\":{\"id\":\"2945\"},\"toolbar\":{\"id\":\"2949\"},\"width\":700,\"x_range\":{\"id\":\"2940\"},\"x_scale\":{\"id\":\"3116\"},\"y_range\":{\"id\":\"2941\"},\"y_scale\":{\"id\":\"3117\"}},\"id\":\"2942\",\"type\":\"Plot\"},{\"attributes\":{\"text\":\"Graph Interaction Demonstration\"},\"id\":\"2945\",\"type\":\"Title\"},{\"attributes\":{\"fill_color\":{\"value\":\"#abdda4\"},\"size\":{\"value\":15}},\"id\":\"2972\",\"type\":\"Circle\"},{\"attributes\":{},\"id\":\"3117\",\"type\":\"LinearScale\"},{\"attributes\":{\"callback\":null},\"id\":\"2947\",\"type\":\"TapTool\"},{\"attributes\":{\"overlay\":{\"id\":\"3127\"}},\"id\":\"2948\",\"type\":\"BoxSelectTool\"},{\"attributes\":{\"bottom_units\":\"screen\",\"fill_alpha\":0.5,\"fill_color\":\"lightgrey\",\"left_units\":\"screen\",\"level\":\"overlay\",\"line_alpha\":1.0,\"line_color\":\"black\",\"line_dash\":[4,4],\"line_width\":2,\"right_units\":\"screen\",\"syncable\":false,\"top_units\":\"screen\"},\"id\":\"3127\",\"type\":\"BoxAnnotation\"},{\"attributes\":{},\"id\":\"3129\",\"type\":\"UnionRenderers\"},{\"attributes\":{\"line_color\":{\"value\":\"#abdda4\"},\"line_width\":{\"value\":5}},\"id\":\"2987\",\"type\":\"MultiLine\"},{\"attributes\":{\"end\":1.1,\"start\":-1.1},\"id\":\"2940\",\"type\":\"Range1d\"},{\"attributes\":{\"line_alpha\":{\"value\":0.8},\"line_color\":{\"value\":\"#CCCCCC\"},\"line_width\":{\"value\":5}},\"id\":\"2977\",\"type\":\"MultiLine\"},{\"attributes\":{},\"id\":\"2992\",\"type\":\"NodesAndLinkedEdges\"},{\"attributes\":{},\"id\":\"3130\",\"type\":\"Selection\"},{\"attributes\":{\"edge_renderer\":{\"id\":\"2959\"},\"inspection_policy\":{\"id\":\"2994\"},\"layout_provider\":{\"id\":\"2961\"},\"node_renderer\":{\"id\":\"2955\"},\"selection_policy\":{\"id\":\"2992\"}},\"id\":\"2952\",\"type\":\"GraphRenderer\"},{\"attributes\":{},\"id\":\"2994\",\"type\":\"EdgesAndLinkedNodes\"},{\"attributes\":{\"callback\":null,\"tooltips\":[[\"product: \",\"@P1\"]]},\"id\":\"2946\",\"type\":\"HoverTool\"},{\"attributes\":{\"fill_color\":{\"value\":\"#2b83ba\"},\"size\":{\"value\":15}},\"id\":\"2962\",\"type\":\"Circle\"},{\"attributes\":{},\"id\":\"3131\",\"type\":\"UnionRenderers\"},{\"attributes\":{\"fill_color\":{\"value\":\"#fdae61\"},\"size\":{\"value\":15}},\"id\":\"2967\",\"type\":\"Circle\"},{\"attributes\":{\"graph_layout\":{\"ACCOHIDE 3-Ring Binder, Blue, 1\\\"\":[0.9510565401241846,0.30901700145438077],\"Advantus Paper Clips, Bulk Pack\":[-0.8910065250106757,-0.4539905482339716],\"Advantus Paper Clips, Metal\":[-4.1426609381496653e-08,0.9999999972930874],\"Advantus Photo Frame, Durable\":[-0.9999999954304424,-8.784491016735612e-08],\"Avoid Verbal Orders Carbonless Minifold Book\":[-0.4539906647363483,-0.8910064681129436],\"Barricks Training Table, Rectangular\":[-0.951056535554627,-0.309016972496326],\"Cisco IP\\u00a0Phone\\u00a07961G VoIP\\u00a0phone\\u00a0- Dark gray\":[1.4209659416627763e-08,-0.9999999981373551],\"Clear Mylar Reinforcing Strips\":[0.7071067697541267,0.7071067670472141],\"Coloredge Poster Frame\":[1.0,-4.2213379362196106e-10],\"Dexim XPower Skin Super-Thin Power Case for iPhone 5 - Black\":[0.4539905202942943,0.8910065268733207],\"Eaton Memo Slips, Multicolor\":[-0.891006465406031,0.4539905771920264],\"Eldon Box, Blue\":[-0.987688358056991,0.15643444579370555],\"Fellowes Neat Ideas Storage Cubes\":[0.9876883626265486,-0.15643435723100618],\"Green Bar Cards & Envelopes, Premium\":[-0.5877851807556544,0.8090170003119914],\"Hon Deluxe Fabric Upholstered Stacking Chairs, Rounded Back\":[0.1564345379075851,-0.9876883011592589],\"Hon Olson Stacker Chairs\":[0.5877850661159227,-0.8090171203655482],\"Hoover Toaster, Red\":[-0.8090170580539909,0.5877851826182994],\"Ibico Binder Covers, Recycled\":[0.15643449320410163,0.987688359919636],\"Ikea Classic Bookcase, Traditional\":[-0.4539906051317037,0.891006467268676],\"Kensington SlimBlade Notebook Wireless Mouse with Nano Receiver \":[0.9876883626265486,0.15643447559602786],\"Kleencut Box Cutter, High Speed\":[-0.30901702939405806,0.9510564778126274],\"Linden 10\\\" Round Wall Clock, Black\":[-0.15643451843686634,-0.9876883011592589],\"Logitech diNovo Edge Keyboard\":[0.809017003018904,0.587785242222944],\"Nontoxic Chalk\":[0.8910065295802333,-0.4539905184316493],\"Novimex Bag Chairs, Red\":[0.309016974358971,0.951056537417272],\"OIC Thumb Tacks, Assorted Sizes\":[-0.8090169388447017,-0.5877853622765009],\"Padded Folding Chairs, Black, 4/Carton\":[0.3090171233705826,-0.9510564786568949],\"Panasonic Kx-TS550\":[0.4539906693059059,-0.8910064085082989],\"Poly Designer Cover & Back\":[0.9510565401241846,-0.3090169426940037],\"Rogers Shelving, Wire Frame\":[-0.9510564759499823,0.3090170312567031],\"Rubbermaid Door Stop, Erganomic\":[-0.707106765184569,0.7071067670472141],\"Rubbermaid Frame, Erganomic\":[-0.987688358056991,-0.15643437213216735],\"Smead Trays, Single Width\":[-0.15643444393106054,0.987688359919636],\"Staples\":[0.707106710149482,-0.7071068871007709],\"Tenex Folders, Blue\":[-0.7071068247892137,-0.707106708286837],\"Tennsco Stur-D-Stor Boltless Shelving, 5 Shelves, 24\\\" Deep, Sand\":[0.8090169434142593,-0.5877853026718562],\"Ultra Door Push Plate\":[-0.3090170889987027,-0.9510564786568949],\"Xerox 1895\":[0.5877852449298566,0.8090170003119914],\"Xerox 191\":[-0.5877850615463651,-0.8090171203655482],\"Xerox 4200 Series MultiUse Premium Copy Paper (20Lb. and 84 Bright)\":[0.8910065295802333,0.45399051758738174]}},\"id\":\"2961\",\"type\":\"StaticLayoutProvider\"},{\"attributes\":{\"data\":{\"index\":[\"Coloredge Poster Frame\",\"Kensington SlimBlade Notebook Wireless Mouse with Nano Receiver \",\"ACCOHIDE 3-Ring Binder, Blue, 1\\\"\",\"Xerox 4200 Series MultiUse Premium Copy Paper (20Lb. and 84 Bright)\",\"Logitech diNovo Edge Keyboard\",\"Clear Mylar Reinforcing Strips\",\"Xerox 1895\",\"Dexim XPower Skin Super-Thin Power Case for iPhone 5 - Black\",\"Novimex Bag Chairs, Red\",\"Ibico Binder Covers, Recycled\",\"Advantus Paper Clips, Metal\",\"Smead Trays, Single Width\",\"Kleencut Box Cutter, High Speed\",\"Ikea Classic Bookcase, Traditional\",\"Green Bar Cards & Envelopes, Premium\",\"Rubbermaid Door Stop, Erganomic\",\"Hoover Toaster, Red\",\"Eaton Memo Slips, Multicolor\",\"Rogers Shelving, Wire Frame\",\"Eldon Box, Blue\",\"Advantus Photo Frame, Durable\",\"Rubbermaid Frame, Erganomic\",\"Barricks Training Table, Rectangular\",\"Advantus Paper Clips, Bulk Pack\",\"OIC Thumb Tacks, Assorted Sizes\",\"Tenex Folders, Blue\",\"Xerox 191\",\"Avoid Verbal Orders Carbonless Minifold Book\",\"Ultra Door Push Plate\",\"Linden 10\\\" Round Wall Clock, Black\",\"Cisco IP\\u00a0Phone\\u00a07961G VoIP\\u00a0phone\\u00a0- Dark gray\",\"Hon Deluxe Fabric Upholstered Stacking Chairs, Rounded Back\",\"Padded Folding Chairs, Black, 4/Carton\",\"Panasonic Kx-TS550\",\"Hon Olson Stacker Chairs\",\"Staples\",\"Tennsco Stur-D-Stor Boltless Shelving, 5 Shelves, 24\\\" Deep, Sand\",\"Nontoxic Chalk\",\"Poly Designer Cover & Back\",\"Fellowes Neat Ideas Storage Cubes\"]},\"selected\":{\"id\":\"3130\"},\"selection_policy\":{\"id\":\"3131\"}},\"id\":\"2954\",\"type\":\"ColumnDataSource\"},{\"attributes\":{\"data_source\":{\"id\":\"2954\"},\"glyph\":{\"id\":\"2962\"},\"hover_glyph\":{\"id\":\"2972\"},\"muted_glyph\":null,\"selection_glyph\":{\"id\":\"2967\"},\"view\":{\"id\":\"2956\"}},\"id\":\"2955\",\"type\":\"GlyphRenderer\"},{\"attributes\":{\"data\":{\"end\":[\"Kensington SlimBlade Notebook Wireless Mouse with Nano Receiver \",\"Nontoxic Chalk\",\"Poly Designer Cover & Back\",\"Fellowes Neat Ideas Storage Cubes\",\"Xerox 4200 Series MultiUse Premium Copy Paper (20Lb. and 84 Bright)\",\"Logitech diNovo Edge Keyboard\",\"Logitech diNovo Edge Keyboard\",\"Xerox 1895\",\"Dexim XPower Skin Super-Thin Power Case for iPhone 5 - Black\",\"Dexim XPower Skin Super-Thin Power Case for iPhone 5 - Black\",\"Ibico Binder Covers, Recycled\",\"Advantus Paper Clips, Metal\",\"Smead Trays, Single Width\",\"Kleencut Box Cutter, High Speed\",\"Advantus Paper Clips, Metal\",\"Smead Trays, Single Width\",\"Kleencut Box Cutter, High Speed\",\"Smead Trays, Single Width\",\"Kleencut Box Cutter, High Speed\",\"Kleencut Box Cutter, High Speed\",\"Green Bar Cards & Envelopes, Premium\",\"Hoover Toaster, Red\",\"Eaton Memo Slips, Multicolor\",\"Rogers Shelving, Wire Frame\",\"Eldon Box, Blue\",\"Eaton Memo Slips, Multicolor\",\"Rogers Shelving, Wire Frame\",\"Eldon Box, Blue\",\"Rogers Shelving, Wire Frame\",\"Eldon Box, Blue\",\"Eldon Box, Blue\",\"Rubbermaid Frame, Erganomic\",\"Advantus Paper Clips, Bulk Pack\",\"OIC Thumb Tacks, Assorted Sizes\",\"Tenex Folders, Blue\",\"OIC Thumb Tacks, Assorted Sizes\",\"Tenex Folders, Blue\",\"Tenex Folders, Blue\",\"Avoid Verbal Orders Carbonless Minifold Book\",\"Linden 10\\\" Round Wall Clock, Black\",\"Cisco IP\\u00a0Phone\\u00a07961G VoIP\\u00a0phone\\u00a0- Dark gray\",\"Cisco IP\\u00a0Phone\\u00a07961G VoIP\\u00a0phone\\u00a0- Dark gray\",\"Padded Folding Chairs, Black, 4/Carton\",\"Panasonic Kx-TS550\",\"Panasonic Kx-TS550\",\"Staples\",\"Tennsco Stur-D-Stor Boltless Shelving, 5 Shelves, 24\\\" Deep, Sand\",\"Tennsco Stur-D-Stor Boltless Shelving, 5 Shelves, 24\\\" Deep, Sand\",\"Poly Designer Cover & Back\",\"Fellowes Neat Ideas Storage Cubes\",\"Fellowes Neat Ideas Storage Cubes\"],\"start\":[\"Coloredge Poster Frame\",\"Coloredge Poster Frame\",\"Coloredge Poster Frame\",\"Coloredge Poster Frame\",\"ACCOHIDE 3-Ring Binder, Blue, 1\\\"\",\"ACCOHIDE 3-Ring Binder, Blue, 1\\\"\",\"Xerox 4200 Series MultiUse Premium Copy Paper (20Lb. and 84 Bright)\",\"Clear Mylar Reinforcing Strips\",\"Clear Mylar Reinforcing Strips\",\"Xerox 1895\",\"Novimex Bag Chairs, Red\",\"Novimex Bag Chairs, Red\",\"Novimex Bag Chairs, Red\",\"Novimex Bag Chairs, Red\",\"Ibico Binder Covers, Recycled\",\"Ibico Binder Covers, Recycled\",\"Ibico Binder Covers, Recycled\",\"Advantus Paper Clips, Metal\",\"Advantus Paper Clips, Metal\",\"Smead Trays, Single Width\",\"Ikea Classic Bookcase, Traditional\",\"Rubbermaid Door Stop, Erganomic\",\"Rubbermaid Door Stop, Erganomic\",\"Rubbermaid Door Stop, Erganomic\",\"Rubbermaid Door Stop, Erganomic\",\"Hoover Toaster, Red\",\"Hoover Toaster, Red\",\"Hoover Toaster, Red\",\"Eaton Memo Slips, Multicolor\",\"Eaton Memo Slips, Multicolor\",\"Rogers Shelving, Wire Frame\",\"Advantus Photo Frame, Durable\",\"Barricks Training Table, Rectangular\",\"Barricks Training Table, Rectangular\",\"Barricks Training Table, Rectangular\",\"Advantus Paper Clips, Bulk Pack\",\"Advantus Paper Clips, Bulk Pack\",\"OIC Thumb Tacks, Assorted Sizes\",\"Xerox 191\",\"Ultra Door Push Plate\",\"Ultra Door Push Plate\",\"Linden 10\\\" Round Wall Clock, Black\",\"Hon Deluxe Fabric Upholstered Stacking Chairs, Rounded Back\",\"Hon Deluxe Fabric Upholstered Stacking Chairs, Rounded Back\",\"Padded Folding Chairs, Black, 4/Carton\",\"Hon Olson Stacker Chairs\",\"Hon Olson Stacker Chairs\",\"Staples\",\"Nontoxic Chalk\",\"Nontoxic Chalk\",\"Poly Designer Cover & Back\"]},\"selected\":{\"id\":\"3128\"},\"selection_policy\":{\"id\":\"3129\"}},\"id\":\"2958\",\"type\":\"ColumnDataSource\"},{\"attributes\":{},\"id\":\"3116\",\"type\":\"LinearScale\"},{\"attributes\":{\"active_multi\":null,\"logo\":null,\"tools\":[{\"id\":\"2946\"},{\"id\":\"2947\"},{\"id\":\"2948\"}]},\"id\":\"2949\",\"type\":\"Toolbar\"},{\"attributes\":{\"line_color\":{\"value\":\"#fdae61\"},\"line_width\":{\"value\":5}},\"id\":\"2982\",\"type\":\"MultiLine\"},{\"attributes\":{},\"id\":\"3128\",\"type\":\"Selection\"},{\"attributes\":{\"data_source\":{\"id\":\"2958\"},\"glyph\":{\"id\":\"2977\"},\"hover_glyph\":{\"id\":\"2987\"},\"muted_glyph\":null,\"selection_glyph\":{\"id\":\"2982\"},\"view\":{\"id\":\"2960\"}},\"id\":\"2959\",\"type\":\"GlyphRenderer\"},{\"attributes\":{\"source\":{\"id\":\"2958\"}},\"id\":\"2960\",\"type\":\"CDSView\"},{\"attributes\":{\"end\":1.1,\"start\":-1.1},\"id\":\"2941\",\"type\":\"Range1d\"},{\"attributes\":{\"source\":{\"id\":\"2954\"}},\"id\":\"2956\",\"type\":\"CDSView\"}],\"root_ids\":[\"2942\"]},\"title\":\"Bokeh Application\",\"version\":\"2.3.0\"}};\n  var render_items = [{\"docid\":\"8c797b84-edd8-4366-a26a-46aeba3cb3fd\",\"root_ids\":[\"2942\"],\"roots\":{\"2942\":\"11c0a1d9-ff3e-45cb-86fb-625490e15f1c\"}}];\n  root.Bokeh.embed.embed_items_notebook(docs_json, render_items);\n\n  }\n  if (root.Bokeh !== undefined) {\n    embed_document(root);\n  } else {\n    var attempts = 0;\n    var timer = setInterval(function(root) {\n      if (root.Bokeh !== undefined) {\n        clearInterval(timer);\n        embed_document(root);\n      } else {\n        attempts++;\n        if (attempts > 100) {\n          clearInterval(timer);\n          console.log(\"Bokeh: ERROR: Unable to run BokehJS code because BokehJS library is missing\");\n        }\n      }\n    }, 10, root)\n  }\n})(window);",
      "application/vnd.bokehjs_exec.v0+json": ""
     },
     "metadata": {
      "application/vnd.bokehjs_exec.v0+json": {
       "id": "2942"
      }
     }
    }
   ],
   "source": [
    "plot = Plot(plot_width=700, plot_height=700,\n",
    "            x_range=Range1d(-1.1,1.1), y_range=Range1d(-1.1,1.1))\n",
    "plot.title.text = \"Graph Interaction Demonstration\"\n",
    "\n",
    "plot.add_tools(HoverTool(tooltips=[('product: ', '@P1')]), TapTool(), BoxSelectTool())\n",
    "\n",
    "graph_renderer = from_networkx(g, nx.circular_layout, scale=1, center=(0,0))\n",
    "\n",
    "graph_renderer.node_renderer.glyph = Circle(size=15, fill_color=Spectral4[0])\n",
    "graph_renderer.node_renderer.selection_glyph = Circle(size=15, fill_color=Spectral4[2])\n",
    "graph_renderer.node_renderer.hover_glyph = Circle(size=15, fill_color=Spectral4[1])\n",
    "\n",
    "graph_renderer.edge_renderer.glyph = MultiLine(line_color=\"#CCCCCC\", line_alpha=0.8, line_width=5)\n",
    "graph_renderer.edge_renderer.selection_glyph = MultiLine(line_color=Spectral4[2], line_width=5)\n",
    "graph_renderer.edge_renderer.hover_glyph = MultiLine(line_color=Spectral4[1], line_width=5)\n",
    "\n",
    "graph_renderer.selection_policy = NodesAndLinkedEdges()\n",
    "graph_renderer.inspection_policy = EdgesAndLinkedNodes()\n",
    "\n",
    "plot.renderers.append(graph_renderer)\n",
    "plot.toolbar.logo = None\n",
    "output_file(\"interactive_graphs.html\")\n",
    "show(plot)"
   ]
  },
  {
   "source": [
    "## HOME PAGE STATS"
   ],
   "cell_type": "markdown",
   "metadata": {}
  },
  {
   "cell_type": "code",
   "execution_count": 48,
   "metadata": {},
   "outputs": [
    {
     "output_type": "stream",
     "name": "stdout",
     "text": [
      "13,257.952\n16,831.61\n-21.2\n"
     ]
    }
   ],
   "source": [
    "# 9\n",
    "mycursor.execute(\"select format(t.sales,2) as today, format(y.sales,2) as yesterday, format((((t.sales-y.sales)/y.sales)*100), 1) difference from \\\n",
    "(select sum(s.sales) sales from sales_fact s inner join dateorder_dim d on d.dateOrder_id = s.dateOrder_id \\\n",
    "where d.date = (select max(date) from dateorder_dim)) as t join \\\n",
    "(select sum(s.sales) sales from sales_fact s inner join dateorder_dim d on d.dateOrder_id = s.dateOrder_id \\\n",
    "where d.date = (select max(date)-1 from dateorder_dim)) as y;\")\n",
    "df = pd.DataFrame(mycursor.fetchall())\n",
    "print(df[0][0])\n",
    "print(df[1][0])\n",
    "print(df[2][0])"
   ]
  },
  {
   "cell_type": "code",
   "execution_count": 49,
   "metadata": {},
   "outputs": [
    {
     "output_type": "stream",
     "name": "stdout",
     "text": [
      "56,846.03\n122,021.61\n-53.41\n"
     ]
    }
   ],
   "source": [
    "# 10\n",
    "mycursor.execute(\"select format(t.sales,2) as this_week, format(y.sales,2) as prev_week, format((((t.sales-y.sales)/y.sales)*100),2) difference from \\\n",
    "(select sum(s.sales) sales from sales_fact s inner join dateorder_dim d on d.dateOrder_id = s.dateOrder_id \\\n",
    "where d.year = (select max(year) from dateorder_dim) and d.week = 52) as t join \\\n",
    "(select sum(s.sales) sales from sales_fact s inner join dateorder_dim d on d.dateOrder_id = s.dateOrder_id \\\n",
    "where d.year = (select max(year) from dateorder_dim) and d.week = 51) as y;\")\n",
    "df = pd.DataFrame(mycursor.fetchall())\n",
    "print(df[0][0])\n",
    "print(df[1][0])\n",
    "print(df[2][0])"
   ]
  },
  {
   "cell_type": "code",
   "execution_count": 51,
   "metadata": {},
   "outputs": [
    {
     "output_type": "stream",
     "name": "stdout",
     "text": [
      "502,896.53\n554,566.62\n-9.32\n"
     ]
    }
   ],
   "source": [
    "# 11\n",
    "mycursor.execute(\"select format(t.sales,2) as this_month, format(y.sales,2) as prev_month, format((((t.sales-y.sales)/y.sales)*100),2) difference from \\\n",
    "(select sum(s.sales) sales from sales_fact s inner join dateorder_dim d on d.dateOrder_id = s.dateOrder_id \\\n",
    "where d.year = 2014 and d.month = 12) as t join \\\n",
    "(select sum(s.sales) sales from sales_fact s inner join dateorder_dim d on d.dateOrder_id = s.dateOrder_id \\\n",
    "where d.year = 2014 and d.month = 11) as y;\")\n",
    "df = pd.DataFrame(mycursor.fetchall())\n",
    "print(df[0][0])\n",
    "print(df[1][0])\n",
    "print(df[2][0])"
   ]
  },
  {
   "cell_type": "code",
   "execution_count": 59,
   "metadata": {},
   "outputs": [
    {
     "output_type": "error",
     "ename": "InternalError",
     "evalue": "Unread result found",
     "traceback": [
      "\u001b[1;31m---------------------------------------------------------------------------\u001b[0m",
      "\u001b[1;31mInternalError\u001b[0m                             Traceback (most recent call last)",
      "\u001b[1;32m<ipython-input-59-38c3cc63a201>\u001b[0m in \u001b[0;36m<module>\u001b[1;34m\u001b[0m\n\u001b[0;32m      1\u001b[0m \u001b[1;31m## 12, 13, 14\u001b[0m\u001b[1;33m\u001b[0m\u001b[1;33m\u001b[0m\u001b[1;33m\u001b[0m\u001b[0m\n\u001b[1;32m----> 2\u001b[1;33m mycursor.execute(\"select format(sum(s.profit),2) profit, format(sum(s.discount),2) discount, format(sum(s.shipping_cost),2) shipping \\\n\u001b[0m\u001b[0;32m      3\u001b[0m \u001b[1;32mfrom\u001b[0m \u001b[0msales_fact\u001b[0m \u001b[0ms\u001b[0m \u001b[0minner\u001b[0m \u001b[0mjoin\u001b[0m \u001b[0mdateorder_dim\u001b[0m \u001b[0md\u001b[0m \u001b[0mon\u001b[0m \u001b[0md\u001b[0m\u001b[1;33m.\u001b[0m\u001b[0mdateOrder_id\u001b[0m \u001b[1;33m=\u001b[0m \u001b[0ms\u001b[0m\u001b[1;33m.\u001b[0m\u001b[0mdateOrder_id\u001b[0m\u001b[0;31m \u001b[0m\u001b[0;31m\\\u001b[0m\u001b[1;33m\u001b[0m\u001b[1;33m\u001b[0m\u001b[0m\n\u001b[0;32m      4\u001b[0m where d.year = 2014 and d.week = 52;\")\n\u001b[0;32m      5\u001b[0m \u001b[0mdf\u001b[0m \u001b[1;33m=\u001b[0m \u001b[0mpd\u001b[0m\u001b[1;33m.\u001b[0m\u001b[0mDataFrame\u001b[0m\u001b[1;33m(\u001b[0m\u001b[0mmycursor\u001b[0m\u001b[1;33m.\u001b[0m\u001b[0mfetchall\u001b[0m\u001b[1;33m(\u001b[0m\u001b[1;33m)\u001b[0m\u001b[1;33m)\u001b[0m\u001b[1;33m\u001b[0m\u001b[1;33m\u001b[0m\u001b[0m\n",
      "\u001b[1;32m~\\AppData\\Local\\Programs\\Python\\Python39\\lib\\site-packages\\mysql\\connector\\cursor.py\u001b[0m in \u001b[0;36mexecute\u001b[1;34m(self, operation, params, multi)\u001b[0m\n\u001b[0;32m    545\u001b[0m             \u001b[1;32mraise\u001b[0m \u001b[0merrors\u001b[0m\u001b[1;33m.\u001b[0m\u001b[0mProgrammingError\u001b[0m\u001b[1;33m(\u001b[0m\u001b[1;34m\"Cursor is not connected\"\u001b[0m\u001b[1;33m)\u001b[0m\u001b[1;33m\u001b[0m\u001b[1;33m\u001b[0m\u001b[0m\n\u001b[0;32m    546\u001b[0m \u001b[1;33m\u001b[0m\u001b[0m\n\u001b[1;32m--> 547\u001b[1;33m         \u001b[0mself\u001b[0m\u001b[1;33m.\u001b[0m\u001b[0m_connection\u001b[0m\u001b[1;33m.\u001b[0m\u001b[0mhandle_unread_result\u001b[0m\u001b[1;33m(\u001b[0m\u001b[1;33m)\u001b[0m\u001b[1;33m\u001b[0m\u001b[1;33m\u001b[0m\u001b[0m\n\u001b[0m\u001b[0;32m    548\u001b[0m \u001b[1;33m\u001b[0m\u001b[0m\n\u001b[0;32m    549\u001b[0m         \u001b[0mself\u001b[0m\u001b[1;33m.\u001b[0m\u001b[0m_reset_result\u001b[0m\u001b[1;33m(\u001b[0m\u001b[1;33m)\u001b[0m\u001b[1;33m\u001b[0m\u001b[1;33m\u001b[0m\u001b[0m\n",
      "\u001b[1;32m~\\AppData\\Local\\Programs\\Python\\Python39\\lib\\site-packages\\mysql\\connector\\connection.py\u001b[0m in \u001b[0;36mhandle_unread_result\u001b[1;34m(self)\u001b[0m\n\u001b[0;32m   1284\u001b[0m             \u001b[0mself\u001b[0m\u001b[1;33m.\u001b[0m\u001b[0mconsume_results\u001b[0m\u001b[1;33m(\u001b[0m\u001b[1;33m)\u001b[0m\u001b[1;33m\u001b[0m\u001b[1;33m\u001b[0m\u001b[0m\n\u001b[0;32m   1285\u001b[0m         \u001b[1;32melif\u001b[0m \u001b[0mself\u001b[0m\u001b[1;33m.\u001b[0m\u001b[0munread_result\u001b[0m\u001b[1;33m:\u001b[0m\u001b[1;33m\u001b[0m\u001b[1;33m\u001b[0m\u001b[0m\n\u001b[1;32m-> 1286\u001b[1;33m             \u001b[1;32mraise\u001b[0m \u001b[0merrors\u001b[0m\u001b[1;33m.\u001b[0m\u001b[0mInternalError\u001b[0m\u001b[1;33m(\u001b[0m\u001b[1;34m\"Unread result found\"\u001b[0m\u001b[1;33m)\u001b[0m\u001b[1;33m\u001b[0m\u001b[1;33m\u001b[0m\u001b[0m\n\u001b[0m",
      "\u001b[1;31mInternalError\u001b[0m: Unread result found"
     ]
    }
   ],
   "source": [
    "## 12, 13, 14\n",
    "mycursor.execute(\"select format(sum(s.profit),2) profit, format(sum(s.discount),2) discount, format(sum(s.shipping_cost),2) shipping \\\n",
    "from sales_fact s inner join dateorder_dim d on d.dateOrder_id = s.dateOrder_id \\\n",
    "where d.year = 2014 and d.week = 52;\")\n",
    "df = pd.DataFrame(mycursor.fetchall())\n",
    "print (df[0][0])\n",
    "print (df[1][0])\n",
    "print (df[2][0])\n"
   ]
  },
  {
   "cell_type": "code",
   "execution_count": 58,
   "metadata": {},
   "outputs": [
    {
     "output_type": "error",
     "ename": "InternalError",
     "evalue": "Unread result found",
     "traceback": [
      "\u001b[1;31m---------------------------------------------------------------------------\u001b[0m",
      "\u001b[1;31mInternalError\u001b[0m                             Traceback (most recent call last)",
      "\u001b[1;32m<ipython-input-58-34f57c76a49b>\u001b[0m in \u001b[0;36m<module>\u001b[1;34m\u001b[0m\n\u001b[0;32m      1\u001b[0m \u001b[1;31m#15\u001b[0m\u001b[1;33m\u001b[0m\u001b[1;33m\u001b[0m\u001b[1;33m\u001b[0m\u001b[0m\n\u001b[1;32m----> 2\u001b[1;33m \u001b[0mmycursor\u001b[0m\u001b[1;33m.\u001b[0m\u001b[0mexecute\u001b[0m\u001b[1;33m(\u001b[0m\u001b[1;34m\"select format(avg(sales),2) from sales_fact;\"\u001b[0m\u001b[1;33m)\u001b[0m\u001b[1;33m\u001b[0m\u001b[1;33m\u001b[0m\u001b[0m\n\u001b[0m\u001b[0;32m      3\u001b[0m \u001b[0mdf\u001b[0m \u001b[1;33m=\u001b[0m \u001b[0mpd\u001b[0m\u001b[1;33m.\u001b[0m\u001b[0mDataFrame\u001b[0m\u001b[1;33m(\u001b[0m\u001b[0mmycursor\u001b[0m\u001b[1;33m.\u001b[0m\u001b[0mfetchall\u001b[0m\u001b[1;33m(\u001b[0m\u001b[1;33m)\u001b[0m\u001b[1;33m)\u001b[0m\u001b[1;33m\u001b[0m\u001b[1;33m\u001b[0m\u001b[0m\n\u001b[0;32m      4\u001b[0m \u001b[0mprint\u001b[0m\u001b[1;33m(\u001b[0m\u001b[0mdf\u001b[0m\u001b[1;33m[\u001b[0m\u001b[1;36m0\u001b[0m\u001b[1;33m]\u001b[0m\u001b[1;33m[\u001b[0m\u001b[1;36m0\u001b[0m\u001b[1;33m]\u001b[0m\u001b[1;33m)\u001b[0m\u001b[1;33m\u001b[0m\u001b[1;33m\u001b[0m\u001b[0m\n\u001b[0;32m      5\u001b[0m \u001b[1;33m\u001b[0m\u001b[0m\n",
      "\u001b[1;32m~\\AppData\\Local\\Programs\\Python\\Python39\\lib\\site-packages\\mysql\\connector\\cursor.py\u001b[0m in \u001b[0;36mexecute\u001b[1;34m(self, operation, params, multi)\u001b[0m\n\u001b[0;32m    545\u001b[0m             \u001b[1;32mraise\u001b[0m \u001b[0merrors\u001b[0m\u001b[1;33m.\u001b[0m\u001b[0mProgrammingError\u001b[0m\u001b[1;33m(\u001b[0m\u001b[1;34m\"Cursor is not connected\"\u001b[0m\u001b[1;33m)\u001b[0m\u001b[1;33m\u001b[0m\u001b[1;33m\u001b[0m\u001b[0m\n\u001b[0;32m    546\u001b[0m \u001b[1;33m\u001b[0m\u001b[0m\n\u001b[1;32m--> 547\u001b[1;33m         \u001b[0mself\u001b[0m\u001b[1;33m.\u001b[0m\u001b[0m_connection\u001b[0m\u001b[1;33m.\u001b[0m\u001b[0mhandle_unread_result\u001b[0m\u001b[1;33m(\u001b[0m\u001b[1;33m)\u001b[0m\u001b[1;33m\u001b[0m\u001b[1;33m\u001b[0m\u001b[0m\n\u001b[0m\u001b[0;32m    548\u001b[0m \u001b[1;33m\u001b[0m\u001b[0m\n\u001b[0;32m    549\u001b[0m         \u001b[0mself\u001b[0m\u001b[1;33m.\u001b[0m\u001b[0m_reset_result\u001b[0m\u001b[1;33m(\u001b[0m\u001b[1;33m)\u001b[0m\u001b[1;33m\u001b[0m\u001b[1;33m\u001b[0m\u001b[0m\n",
      "\u001b[1;32m~\\AppData\\Local\\Programs\\Python\\Python39\\lib\\site-packages\\mysql\\connector\\connection.py\u001b[0m in \u001b[0;36mhandle_unread_result\u001b[1;34m(self)\u001b[0m\n\u001b[0;32m   1284\u001b[0m             \u001b[0mself\u001b[0m\u001b[1;33m.\u001b[0m\u001b[0mconsume_results\u001b[0m\u001b[1;33m(\u001b[0m\u001b[1;33m)\u001b[0m\u001b[1;33m\u001b[0m\u001b[1;33m\u001b[0m\u001b[0m\n\u001b[0;32m   1285\u001b[0m         \u001b[1;32melif\u001b[0m \u001b[0mself\u001b[0m\u001b[1;33m.\u001b[0m\u001b[0munread_result\u001b[0m\u001b[1;33m:\u001b[0m\u001b[1;33m\u001b[0m\u001b[1;33m\u001b[0m\u001b[0m\n\u001b[1;32m-> 1286\u001b[1;33m             \u001b[1;32mraise\u001b[0m \u001b[0merrors\u001b[0m\u001b[1;33m.\u001b[0m\u001b[0mInternalError\u001b[0m\u001b[1;33m(\u001b[0m\u001b[1;34m\"Unread result found\"\u001b[0m\u001b[1;33m)\u001b[0m\u001b[1;33m\u001b[0m\u001b[1;33m\u001b[0m\u001b[0m\n\u001b[0m",
      "\u001b[1;31mInternalError\u001b[0m: Unread result found"
     ]
    }
   ],
   "source": [
    "#15\n",
    "mycursor.execute(\"select format(avg(sales),2) from sales_fact;\")\n",
    "df = pd.DataFrame(mycursor.fetchall())\n",
    "print(df[0][0])\n",
    "\n",
    "#16\n",
    "mycursor.execute(\"select format(avg(sales),2) from order_fact;\")\n",
    "df = pd.DataFrame(mycursor.fetchall())\n",
    "print(df[0][0])\n",
    "\n",
    "#17\n",
    "mycursor.execute(\"select format(avg(sales),2) from mv_customer_sales;\")\n",
    "df = pd.DataFrame(mycursor.fetchall())\n",
    "print(df[0][0])"
   ]
  }
 ]
}